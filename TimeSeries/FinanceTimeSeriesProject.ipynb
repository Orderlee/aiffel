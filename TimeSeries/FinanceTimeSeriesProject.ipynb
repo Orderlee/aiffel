{
 "cells": [
  {
   "cell_type": "markdown",
   "id": "fdee1335",
   "metadata": {},
   "source": [
    "# 1. 프로젝트 : Data Labeling\n",
    "---\n",
    "① Price Change Direction 적용하기\n",
    "\n",
    "② Using Moving Average 적용하기\n",
    "\n",
    "③ Local Min-Max 적용하기\n",
    "\n",
    "④ Trend Scanning 적용하기"
   ]
  },
  {
   "cell_type": "code",
   "execution_count": 1,
   "id": "97e9bf40",
   "metadata": {},
   "outputs": [],
   "source": [
    "import os\n",
    "import pandas as pd\n",
    "import numpy as np\n",
    "import matplotlib.pyplot as plt\n",
    "from tqdm import tqdm\n",
    "import warnings\n",
    "warnings.filterwarnings('ignore')"
   ]
  },
  {
   "cell_type": "code",
   "execution_count": 2,
   "id": "e23d8774",
   "metadata": {},
   "outputs": [
    {
     "data": {
      "text/plain": [
       "<AxesSubplot:xlabel='time'>"
      ]
     },
     "execution_count": 2,
     "metadata": {},
     "output_type": "execute_result"
    },
    {
     "data": {
      "image/png": "[encoded data removed]",
      "text/plain": [
       "<Figure size 432x288 with 1 Axes>"
      ]
     },
     "metadata": {
      "needs_background": "light"
     },
     "output_type": "display_data"
    }
   ],
   "source": [
    "# 데이터 경로\n",
    "DATA_PATH = '/aiffel/aiffel/time_series/fnguide/data/'\n",
    "\n",
    "# 데이터 불러오기\n",
    "modify_data = pd.read_csv(os.path.join(DATA_PATH, 'sub_upbit_eth_min_tick.csv'), index_col=0, parse_dates=True)\n",
    "\n",
    "# 불러온 데이터 시각화하기\n",
    "modify_data.loc['2017-11-01':'2017-12-31','close'].plot()"
   ]
  },
  {
   "cell_type": "code",
   "execution_count": 3,
   "id": "524de52c",
   "metadata": {},
   "outputs": [
    {
     "data": {
      "text/html": [
       "<div>\n",
       "<style scoped>\n",
       "    .dataframe tbody tr th:only-of-type {\n",
       "        vertical-align: middle;\n",
       "    }\n",
       "\n",
       "    .dataframe tbody tr th {\n",
       "        vertical-align: top;\n",
       "    }\n",
       "\n",
       "    .dataframe thead th {\n",
       "        text-align: right;\n",
       "    }\n",
       "</style>\n",
       "<table border=\"1\" class=\"dataframe\">\n",
       "  <thead>\n",
       "    <tr style=\"text-align: right;\">\n",
       "      <th></th>\n",
       "      <th>open</th>\n",
       "      <th>high</th>\n",
       "      <th>low</th>\n",
       "      <th>close</th>\n",
       "      <th>volume</th>\n",
       "    </tr>\n",
       "    <tr>\n",
       "      <th>time</th>\n",
       "      <th></th>\n",
       "      <th></th>\n",
       "      <th></th>\n",
       "      <th></th>\n",
       "      <th></th>\n",
       "    </tr>\n",
       "  </thead>\n",
       "  <tbody>\n",
       "    <tr>\n",
       "      <th>2017-09-25 03:00:00</th>\n",
       "      <td>324500</td>\n",
       "      <td>325500</td>\n",
       "      <td>322000</td>\n",
       "      <td>324000</td>\n",
       "      <td>52.477251</td>\n",
       "    </tr>\n",
       "    <tr>\n",
       "      <th>2017-09-25 03:01:00</th>\n",
       "      <td>324000</td>\n",
       "      <td>324000</td>\n",
       "      <td>322500</td>\n",
       "      <td>324000</td>\n",
       "      <td>39.061889</td>\n",
       "    </tr>\n",
       "    <tr>\n",
       "      <th>2017-09-25 03:02:00</th>\n",
       "      <td>322500</td>\n",
       "      <td>324500</td>\n",
       "      <td>322500</td>\n",
       "      <td>324500</td>\n",
       "      <td>12.794000</td>\n",
       "    </tr>\n",
       "    <tr>\n",
       "      <th>2017-09-25 03:05:00</th>\n",
       "      <td>324000</td>\n",
       "      <td>324000</td>\n",
       "      <td>323000</td>\n",
       "      <td>324000</td>\n",
       "      <td>33.365246</td>\n",
       "    </tr>\n",
       "    <tr>\n",
       "      <th>2017-09-25 03:06:00</th>\n",
       "      <td>324000</td>\n",
       "      <td>325000</td>\n",
       "      <td>322500</td>\n",
       "      <td>324000</td>\n",
       "      <td>46.224544</td>\n",
       "    </tr>\n",
       "    <tr>\n",
       "      <th>...</th>\n",
       "      <td>...</td>\n",
       "      <td>...</td>\n",
       "      <td>...</td>\n",
       "      <td>...</td>\n",
       "      <td>...</td>\n",
       "    </tr>\n",
       "    <tr>\n",
       "      <th>2019-11-03 10:29:00</th>\n",
       "      <td>212650</td>\n",
       "      <td>212800</td>\n",
       "      <td>212600</td>\n",
       "      <td>212800</td>\n",
       "      <td>30.996276</td>\n",
       "    </tr>\n",
       "    <tr>\n",
       "      <th>2019-11-03 10:30:00</th>\n",
       "      <td>212800</td>\n",
       "      <td>212800</td>\n",
       "      <td>212600</td>\n",
       "      <td>212600</td>\n",
       "      <td>3.224132</td>\n",
       "    </tr>\n",
       "    <tr>\n",
       "      <th>2019-11-03 10:31:00</th>\n",
       "      <td>212600</td>\n",
       "      <td>212600</td>\n",
       "      <td>212400</td>\n",
       "      <td>212400</td>\n",
       "      <td>135.351681</td>\n",
       "    </tr>\n",
       "    <tr>\n",
       "      <th>2019-11-03 10:32:00</th>\n",
       "      <td>212400</td>\n",
       "      <td>212500</td>\n",
       "      <td>212150</td>\n",
       "      <td>212500</td>\n",
       "      <td>329.331920</td>\n",
       "    </tr>\n",
       "    <tr>\n",
       "      <th>2019-11-03 10:33:00</th>\n",
       "      <td>212400</td>\n",
       "      <td>212500</td>\n",
       "      <td>212200</td>\n",
       "      <td>212350</td>\n",
       "      <td>141.525940</td>\n",
       "    </tr>\n",
       "  </tbody>\n",
       "</table>\n",
       "<p>1000000 rows × 5 columns</p>\n",
       "</div>"
      ],
      "text/plain": [
       "                       open    high     low   close      volume\n",
       "time                                                           \n",
       "2017-09-25 03:00:00  324500  325500  322000  324000   52.477251\n",
       "2017-09-25 03:01:00  324000  324000  322500  324000   39.061889\n",
       "2017-09-25 03:02:00  322500  324500  322500  324500   12.794000\n",
       "2017-09-25 03:05:00  324000  324000  323000  324000   33.365246\n",
       "2017-09-25 03:06:00  324000  325000  322500  324000   46.224544\n",
       "...                     ...     ...     ...     ...         ...\n",
       "2019-11-03 10:29:00  212650  212800  212600  212800   30.996276\n",
       "2019-11-03 10:30:00  212800  212800  212600  212600    3.224132\n",
       "2019-11-03 10:31:00  212600  212600  212400  212400  135.351681\n",
       "2019-11-03 10:32:00  212400  212500  212150  212500  329.331920\n",
       "2019-11-03 10:33:00  212400  212500  212200  212350  141.525940\n",
       "\n",
       "[1000000 rows x 5 columns]"
      ]
     },
     "execution_count": 3,
     "metadata": {},
     "output_type": "execute_result"
    }
   ],
   "source": [
    "modify_data"
   ]
  },
  {
   "cell_type": "markdown",
   "id": "737a9a1b",
   "metadata": {},
   "source": [
    "## ① Price Change Direction 적용하기\n",
    "---"
   ]
  },
  {
   "cell_type": "code",
   "execution_count": 4,
   "id": "ad896a30",
   "metadata": {},
   "outputs": [],
   "source": [
    "# window 지정\n",
    "window = 10\n",
    "\n",
    "# momentum_signal 만들기\n",
    "momentum_signal = np.sign(np.sign(modify_data['close'] - modify_data['close'].shift(window)) + 1) \n",
    "\n",
    "# s_momentum_signal 만들기\n",
    "s_momentum_signal = pd.Series(momentum_signal, index=modify_data.index)"
   ]
  },
  {
   "cell_type": "code",
   "execution_count": 5,
   "id": "89e5e77a",
   "metadata": {},
   "outputs": [
    {
     "data": {
      "text/plain": [
       "time\n",
       "2017-09-25 03:00:00    NaN\n",
       "2017-09-25 03:01:00    NaN\n",
       "2017-09-25 03:02:00    NaN\n",
       "2017-09-25 03:05:00    NaN\n",
       "2017-09-25 03:06:00    NaN\n",
       "                      ... \n",
       "2019-11-03 10:29:00    1.0\n",
       "2019-11-03 10:30:00    0.0\n",
       "2019-11-03 10:31:00    0.0\n",
       "2019-11-03 10:32:00    0.0\n",
       "2019-11-03 10:33:00    0.0\n",
       "Name: close, Length: 1000000, dtype: float64"
      ]
     },
     "execution_count": 5,
     "metadata": {},
     "output_type": "execute_result"
    }
   ],
   "source": [
    "momentum_signal"
   ]
  },
  {
   "cell_type": "code",
   "execution_count": 6,
   "id": "f196b5bf",
   "metadata": {},
   "outputs": [
    {
     "data": {
      "text/plain": [
       "time\n",
       "2017-11-21 00:00:00    399150\n",
       "2017-11-21 00:01:00    399050\n",
       "2017-11-21 00:02:00    399050\n",
       "2017-11-21 00:03:00    399000\n",
       "2017-11-21 00:04:00    398900\n",
       "                        ...  \n",
       "2017-11-21 23:55:00    397850\n",
       "2017-11-21 23:56:00    398050\n",
       "2017-11-21 23:57:00    397150\n",
       "2017-11-21 23:58:00    397250\n",
       "2017-11-21 23:59:00    397600\n",
       "Name: close, Length: 1301, dtype: int64"
      ]
     },
     "execution_count": 6,
     "metadata": {},
     "output_type": "execute_result"
    }
   ],
   "source": [
    "# 기존 데이터 만들기\n",
    "sub_data = modify_data.loc['2017-11-21', 'close']\n",
    "sub_data"
   ]
  },
  {
   "cell_type": "code",
   "execution_count": 7,
   "id": "4ee53b3e",
   "metadata": {},
   "outputs": [
    {
     "data": {
      "text/plain": [
       "time\n",
       "2017-11-21 00:00:00    0.0\n",
       "2017-11-21 00:01:00    0.0\n",
       "2017-11-21 00:02:00    0.0\n",
       "2017-11-21 00:03:00    0.0\n",
       "2017-11-21 00:04:00    0.0\n",
       "                      ... \n",
       "2017-11-21 23:55:00    0.0\n",
       "2017-11-21 23:56:00    0.0\n",
       "2017-11-21 23:57:00    0.0\n",
       "2017-11-21 23:58:00    0.0\n",
       "2017-11-21 23:59:00    0.0\n",
       "Name: close, Length: 1301, dtype: float64"
      ]
     },
     "execution_count": 7,
     "metadata": {},
     "output_type": "execute_result"
    }
   ],
   "source": [
    "# 수식 적용된 데이터 만들기\n",
    "c_sig = s_momentum_signal.loc['2017-11-21']\n",
    "c_sig"
   ]
  },
  {
   "cell_type": "code",
   "execution_count": 8,
   "id": "7302f369",
   "metadata": {},
   "outputs": [
    {
     "data": {
      "text/plain": [
       "array(['blue', 'blue', 'blue', ..., 'blue', 'blue', 'blue'], dtype='<U4')"
      ]
     },
     "execution_count": 8,
     "metadata": {},
     "output_type": "execute_result"
    }
   ],
   "source": [
    "# 두 데이터의 비교를 위한 색상 바꾸기\n",
    "c_sig['color'] = np.where(c_sig == 1, 'red', 'blue')\n",
    "c_sig['color']"
   ]
  },
  {
   "cell_type": "code",
   "execution_count": 9,
   "id": "c42df54a",
   "metadata": {},
   "outputs": [
    {
     "data": {
      "text/plain": [
       "<matplotlib.collections.PathCollection at 0x7f85e0f16f40>"
      ]
     },
     "execution_count": 9,
     "metadata": {},
     "output_type": "execute_result"
    },
    {
     "data": {
      "image/png": "[encoded data removed]",
      "text/plain": [
       "<Figure size 720x360 with 1 Axes>"
      ]
     },
     "metadata": {
      "needs_background": "light"
     },
     "output_type": "display_data"
    }
   ],
   "source": [
    "# 시각화하기\n",
    "plt.figure(figsize=(10,5))\n",
    "plt.scatter(sub_data.index, sub_data, c=c_sig['color'])"
   ]
  },
  {
   "cell_type": "markdown",
   "id": "9d231e3b",
   "metadata": {},
   "source": [
    "## ② Using Moving Average 적용하기\n",
    "---"
   ]
  },
  {
   "cell_type": "code",
   "execution_count": 10,
   "id": "f4f3b441",
   "metadata": {},
   "outputs": [],
   "source": [
    "# momentum_signal 만들기\n",
    "momentum_signal = np.sign(np.sign(modify_data['close'] - modify_data['close'].rolling(window).mean()) + 1)\n",
    "# s_momentum_signal 만들기\n",
    "s_momentum_signal = pd.Series(momentum_signal, index=modify_data.index)"
   ]
  },
  {
   "cell_type": "code",
   "execution_count": 11,
   "id": "70dea29b",
   "metadata": {},
   "outputs": [
    {
     "data": {
      "text/plain": [
       "time\n",
       "2017-09-25 03:00:00    NaN\n",
       "2017-09-25 03:01:00    NaN\n",
       "2017-09-25 03:02:00    NaN\n",
       "2017-09-25 03:05:00    NaN\n",
       "2017-09-25 03:06:00    NaN\n",
       "                      ... \n",
       "2019-11-03 10:29:00    0.0\n",
       "2019-11-03 10:30:00    0.0\n",
       "2019-11-03 10:31:00    0.0\n",
       "2019-11-03 10:32:00    0.0\n",
       "2019-11-03 10:33:00    0.0\n",
       "Name: close, Length: 1000000, dtype: float64"
      ]
     },
     "execution_count": 11,
     "metadata": {},
     "output_type": "execute_result"
    }
   ],
   "source": [
    "momentum_signal"
   ]
  },
  {
   "cell_type": "code",
   "execution_count": 12,
   "id": "1e56da8a",
   "metadata": {},
   "outputs": [
    {
     "data": {
      "text/plain": [
       "time\n",
       "2017-11-21 00:00:00    399150\n",
       "2017-11-21 00:01:00    399050\n",
       "2017-11-21 00:02:00    399050\n",
       "2017-11-21 00:03:00    399000\n",
       "2017-11-21 00:04:00    398900\n",
       "                        ...  \n",
       "2017-11-21 23:55:00    397850\n",
       "2017-11-21 23:56:00    398050\n",
       "2017-11-21 23:57:00    397150\n",
       "2017-11-21 23:58:00    397250\n",
       "2017-11-21 23:59:00    397600\n",
       "Name: close, Length: 1301, dtype: int64"
      ]
     },
     "execution_count": 12,
     "metadata": {},
     "output_type": "execute_result"
    }
   ],
   "source": [
    "# 기존 데이터 만들기\n",
    "sub_data = modify_data.loc['2017-11-21', 'close']\n",
    "sub_data"
   ]
  },
  {
   "cell_type": "code",
   "execution_count": 13,
   "id": "d2262e5a",
   "metadata": {},
   "outputs": [
    {
     "data": {
      "text/plain": [
       "time\n",
       "2017-11-21 00:00:00    0.0\n",
       "2017-11-21 00:01:00    0.0\n",
       "2017-11-21 00:02:00    0.0\n",
       "2017-11-21 00:03:00    0.0\n",
       "2017-11-21 00:04:00    0.0\n",
       "                      ... \n",
       "2017-11-21 23:55:00    1.0\n",
       "2017-11-21 23:56:00    1.0\n",
       "2017-11-21 23:57:00    0.0\n",
       "2017-11-21 23:58:00    1.0\n",
       "2017-11-21 23:59:00    1.0\n",
       "Name: close, Length: 1301, dtype: float64"
      ]
     },
     "execution_count": 13,
     "metadata": {},
     "output_type": "execute_result"
    }
   ],
   "source": [
    "# 수식 적용된 데이터 만들기\n",
    "c_sig = s_momentum_signal.loc['2017-11-21']\n",
    "c_sig"
   ]
  },
  {
   "cell_type": "code",
   "execution_count": 14,
   "id": "02fa36a8",
   "metadata": {},
   "outputs": [
    {
     "data": {
      "text/plain": [
       "array(['blue', 'blue', 'blue', ..., 'blue', 'red', 'red'], dtype='<U4')"
      ]
     },
     "execution_count": 14,
     "metadata": {},
     "output_type": "execute_result"
    }
   ],
   "source": [
    "# 두 데이터의 비교를 위한 색상 바꾸기\n",
    "c_sig['color'] = np.where(c_sig == 1, 'red', 'blue')\n",
    "c_sig['color']"
   ]
  },
  {
   "cell_type": "code",
   "execution_count": 15,
   "id": "5e1090db",
   "metadata": {},
   "outputs": [
    {
     "data": {
      "text/plain": [
       "<matplotlib.collections.PathCollection at 0x7f85e0e45b50>"
      ]
     },
     "execution_count": 15,
     "metadata": {},
     "output_type": "execute_result"
    },
    {
     "data": {
      "image/png": "[encoded data removed]",
      "text/plain": [
       "<Figure size 720x360 with 1 Axes>"
      ]
     },
     "metadata": {
      "needs_background": "light"
     },
     "output_type": "display_data"
    }
   ],
   "source": [
    "# 시각화하기\n",
    "plt.figure(figsize=(10,5))\n",
    "plt.scatter(sub_data.index, sub_data, c=c_sig['color'])"
   ]
  },
  {
   "cell_type": "markdown",
   "id": "f9b725d8",
   "metadata": {},
   "source": [
    "## ③ Local Min-Max 적용하기\n",
    "---"
   ]
  },
  {
   "cell_type": "code",
   "execution_count": 16,
   "id": "69f5431b",
   "metadata": {},
   "outputs": [],
   "source": [
    "# Local min / max 를 추출하기 위한 함수\n",
    "def get_local_min_max(close, wait=3):\n",
    "    min_value = close.iloc[0]\n",
    "    max_value = close.iloc[0]\n",
    "    n_cnt_min, n_cnt_max = 0, 0\n",
    "    \n",
    "    mins, maxes = [], []\n",
    "    min_idxes, max_idxes = [], []\n",
    "    b_min_update, b_max_update = False, False\n",
    "    \n",
    "    for idx, val in zip(close.index[1:], close.values[1:]):\n",
    "        if val < min_value:\n",
    "            min_value = val\n",
    "            mins.append(min_value)\n",
    "            min_idxes.append(idx)\n",
    "            n_cnt_min = 0\n",
    "            b_min_update = True\n",
    "        if val > max_value:\n",
    "            max_value = val\n",
    "            maxes.append(max_value)\n",
    "            max_idxes.append(idx)\n",
    "            n_cnt_max = 0\n",
    "            b_max_update = True\n",
    "        \n",
    "        if not b_max_update:\n",
    "            b_min_update = False\n",
    "            n_cnt_min += 1\n",
    "            if n_cnt_min >= wait:\n",
    "                max_value = min_value\n",
    "                n_cnt_min = 0\n",
    "    \n",
    "        if not b_min_update:\n",
    "            b_max_update = False\n",
    "            n_cnt_max += 1\n",
    "            if n_cnt_max >= wait:\n",
    "                min_value = max_value\n",
    "                n_cnt_max = 0\n",
    "               \n",
    "    return pd.DataFrame.from_dict({'min_time': min_idxes, 'local_min': mins}), pd.DataFrame.from_dict({'max_time': max_idxes, 'local_max': maxes})"
   ]
  },
  {
   "cell_type": "code",
   "execution_count": 17,
   "id": "ef4b7db4",
   "metadata": {},
   "outputs": [
    {
     "name": "stdout",
     "output_type": "stream",
     "text": [
      "               min_time  local_min\n",
      "0   2017-11-21 00:01:00     399050\n",
      "1   2017-11-21 00:03:00     399000\n",
      "2   2017-11-21 00:04:00     398900\n",
      "3   2017-11-21 00:05:00     398850\n",
      "4   2017-11-21 00:06:00     398800\n",
      "..                  ...        ...\n",
      "472 2017-11-21 23:48:00     397850\n",
      "473 2017-11-21 23:50:00     397050\n",
      "474 2017-11-21 23:52:00     396750\n",
      "475 2017-11-21 23:53:00     396350\n",
      "476 2017-11-21 23:59:00     397600\n",
      "\n",
      "[477 rows x 2 columns]\n",
      "----------------------------------------\n",
      "               max_time  local_max\n",
      "0   2017-11-21 00:13:00     399500\n",
      "1   2017-11-21 00:14:00     399900\n",
      "2   2017-11-21 00:16:00     401450\n",
      "3   2017-11-21 00:19:00     401350\n",
      "4   2017-11-21 00:20:00     401500\n",
      "..                  ...        ...\n",
      "268 2017-11-21 23:41:00     398050\n",
      "269 2017-11-21 23:43:00     398400\n",
      "270 2017-11-21 23:46:00     398200\n",
      "271 2017-11-21 23:47:00     398400\n",
      "272 2017-11-21 23:56:00     398050\n",
      "\n",
      "[273 rows x 2 columns]\n"
     ]
    }
   ],
   "source": [
    "# Local mins, maxes를 확인\n",
    "mins, maxes = get_local_min_max(sub_data, wait=3)\n",
    "\n",
    "# mins, maxes 확인 \n",
    "print(mins)\n",
    "print('--'*20)\n",
    "print(maxes)"
   ]
  },
  {
   "cell_type": "code",
   "execution_count": 18,
   "id": "af1695ca",
   "metadata": {},
   "outputs": [
    {
     "data": {
      "text/plain": [
       "(376546.5, 412585.0)"
      ]
     },
     "execution_count": 18,
     "metadata": {},
     "output_type": "execute_result"
    },
    {
     "data": {
      "image/png": "[encoded data removed]",
      "text/plain": [
       "<Figure size 720x360 with 1 Axes>"
      ]
     },
     "metadata": {
      "needs_background": "light"
     },
     "output_type": "display_data"
    }
   ],
   "source": [
    "# subplots 및 plot 생성\n",
    "fig, ax = plt.subplots(1, 1, figsize=(10, 5))\n",
    "ax.plot(sub_data, 'c')\n",
    "\n",
    "# min_time, local_min을 활용한 scatter plot 생성\n",
    "ax.scatter(mins.min_time, mins.local_min, c='blue')\n",
    "\n",
    "# maxes_time, local_max를 활용한 scatter plot 생성\n",
    "ax.scatter(maxes.max_time, maxes.local_max, c='red')\n",
    "\n",
    "# y축 설정\n",
    "ax.set_ylim([sub_data.min() * 0.99, sub_data.max()  * 1.01])"
   ]
  },
  {
   "cell_type": "markdown",
   "id": "a8204846",
   "metadata": {},
   "source": [
    "## ④ Trend Scanning 적용하기\n",
    "---"
   ]
  },
  {
   "cell_type": "code",
   "execution_count": 19,
   "id": "db1e000e",
   "metadata": {},
   "outputs": [],
   "source": [
    "def t_val_lin_r(close):\n",
    "    import statsmodels.api as sml\n",
    "    \n",
    "    # t-value from a linear trend\n",
    "    x = np.ones((close.shape[0], 2))\n",
    "    x[:, 1] = np.arange(close.shape[0])\n",
    "    ols = sml.OLS(close, x).fit() \n",
    "    return ols.tvalues[1]"
   ]
  },
  {
   "cell_type": "code",
   "execution_count": 20,
   "id": "67c31cab",
   "metadata": {},
   "outputs": [],
   "source": [
    "look_forward_window = 60\n",
    "min_sample_length = 5\n",
    "step = 1\n",
    "t1_array = []\n",
    "t_values_array = []"
   ]
  },
  {
   "cell_type": "code",
   "execution_count": 21,
   "id": "3bfee417",
   "metadata": {},
   "outputs": [
    {
     "name": "stderr",
     "output_type": "stream",
     "text": [
      "100%|██████████| 33384/33384 [15:03<00:00, 36.97it/s]\n"
     ]
    }
   ],
   "source": [
    "# 이 코드 블럭은 실행에 20-30분정도가 소요될 수 있습니다.\n",
    "\n",
    "molecule = modify_data['2017-11-01':'2017-11-30'].index\n",
    "label = pd.DataFrame(index=molecule, columns=['t1', 't_val', 'bin'])\n",
    "tmp_out = []\n",
    "\n",
    "for ind in tqdm(molecule):\n",
    "    subset = modify_data.loc[ind:, 'close'].iloc[:look_forward_window]  # 전방 탐색을 위한 샘플 추출\n",
    "    if look_forward_window > subset.shape[0]:\n",
    "        continue\n",
    "    \n",
    "    tmp_subset = pd.Series(index=subset.index[min_sample_length-1:subset.shape[0]-1])\n",
    "    tval = []\n",
    "\n",
    "    # 회귀분석을 통해 t 통계량값을 이용하여 추세 추정\n",
    "    for forward_window in np.arange(min_sample_length, subset.shape[0]):\n",
    "        df = subset.iloc[:forward_window]\n",
    "        tval.append(t_val_lin_r(df.values))\n",
    "    \n",
    "    tmp_subset.loc[tmp_subset.index] = np.array(tval)\n",
    "    idx_max = tmp_subset.replace([-np.inf, np.inf, np.nan], 0).abs().idxmax()\n",
    "    tmp_t_val = tmp_subset[idx_max]\n",
    "    tmp_out.append([tmp_subset.index[-1], tmp_t_val, np.sign(tmp_t_val)])\n",
    "\n",
    "label.loc[molecule] = np.array(tmp_out)  # prevent leakage\n",
    "\n",
    "label['t1'] = pd.to_datetime(label['t1'])\n",
    "label['bin'] = pd.to_numeric(label['bin'], downcast='signed')"
   ]
  },
  {
   "cell_type": "code",
   "execution_count": 22,
   "id": "cec4b0d2",
   "metadata": {},
   "outputs": [
    {
     "data": {
      "text/plain": [
       "<matplotlib.collections.PathCollection at 0x7f85e0d92a30>"
      ]
     },
     "execution_count": 22,
     "metadata": {},
     "output_type": "execute_result"
    },
    {
     "data": {
      "image/png": "[encoded data removed]",
      "text/plain": [
       "<Figure size 720x360 with 1 Axes>"
      ]
     },
     "metadata": {
      "needs_background": "light"
     },
     "output_type": "display_data"
    }
   ],
   "source": [
    "# 시각화\n",
    "sub_data = modify_data.loc['2017-11-21', 'close']\n",
    "c_sig = label['bin'].loc['2017-11-21']\n",
    "c_sig['color'] = np.where(c_sig == 1, 'red', 'blue')\n",
    "\n",
    "fig, ax = plt.subplots(1, 1, figsize=(10, 5))\n",
    "ax.scatter(sub_data.index, sub_data.values,\n",
    "              c=c_sig['color'])"
   ]
  },
  {
   "cell_type": "markdown",
   "id": "e5d5a14c",
   "metadata": {},
   "source": [
    "# 2. 프로젝트 : Feature Engineering\n",
    "---\n",
    "① 환경구성 및 데이터 불러오기\n",
    "\n",
    "② Technical Index 적용하기\n",
    "\n",
    "③ Feature Selection methods 적용하기"
   ]
  },
  {
   "cell_type": "markdown",
   "id": "051d4fdf",
   "metadata": {},
   "source": [
    "## ① 환경구성 및 데이터 불러오기\n",
    "---"
   ]
  },
  {
   "cell_type": "code",
   "execution_count": 23,
   "id": "766a064c",
   "metadata": {},
   "outputs": [],
   "source": [
    "import datetime\n",
    "import sys\n",
    "import os\n",
    "import re\n",
    "import io\n",
    "import json\n",
    "import numpy as np\n",
    "import pandas as pd\n",
    "import matplotlib.pyplot as plt\n",
    "import ta\n",
    "\n",
    "import sys\n",
    "sys.path.append('/aiffel/aiffel/fnguide/data/')\n",
    "from libs.feature_importance import importance as imp\n",
    "from sklearn.feature_selection import SequentialFeatureSelector, RFECV\n",
    "\n",
    "from sklearn.preprocessing import StandardScaler\n",
    "from sklearn.model_selection import KFold\n",
    "from sklearn.svm import SVC\n",
    "from sklearn.ensemble import RandomForestClassifier, GradientBoostingClassifier"
   ]
  },
  {
   "cell_type": "code",
   "execution_count": 24,
   "id": "def40040",
   "metadata": {},
   "outputs": [],
   "source": [
    "# 데이터 경로 설정\n",
    "DATA_PATH = '/aiffel/aiffel/fnguide/data/'\n",
    "anno_file_name = os.path.join(DATA_PATH, 'sub_upbit_eth_min_tick_label.pkl')\n",
    "target_file_name = os.path.join(DATA_PATH, 'sub_upbit_eth_min_tick.csv')\n",
    "\n",
    "# 데이터 불러오기\n",
    "df_modify_data = pd.read_csv(target_file_name, index_col=0, parse_dates=True)\n",
    "df_label_data = pd.read_pickle(anno_file_name)\n",
    "df_sub_modify_data = df_modify_data.loc[df_label_data.index]\n",
    "\n",
    "# 학습 시간 단축을 위해 여기선 편의상 1000개의 데이터만 가져옵니다.\n",
    "df_sub_modify_data = df_sub_modify_data.iloc[:1000]"
   ]
  },
  {
   "cell_type": "markdown",
   "id": "7404409a",
   "metadata": {},
   "source": [
    "## ② Technical Index 적용하기\n",
    "---"
   ]
  },
  {
   "cell_type": "code",
   "execution_count": 25,
   "id": "28aaa1b3",
   "metadata": {},
   "outputs": [],
   "source": [
    "# 기술적 지표를 적용합니다.\n",
    "\n",
    "mt = 1\n",
    "fillna = False\n",
    "df_ = df_sub_modify_data.copy()\n",
    "open, high, low, close, volume = 'open', 'high', 'low', 'close', 'volume'\n",
    "cols = [open, high, low, close, volume]\n",
    "\n",
    "## Volume Index\n",
    "# Chaikin Money Flow\n",
    "df_[\"volume_cmf\"] = ta.volume.ChaikinMoneyFlowIndicator(\n",
    "                        high=df_[high], low=df_[low], close=df_[close], volume=df_[volume], window=20*mt, fillna=fillna\n",
    "                    ).chaikin_money_flow()\n",
    "# Force Index\n",
    "df_[\"volume_fi\"] = ta.volume.ForceIndexIndicator(\n",
    "                        close=df_[close], volume=df_[volume], window=15*mt, fillna=fillna\n",
    "                    ).force_index()\n",
    "# Money Flow Indicator\n",
    "df_[\"volume_mfi\"] = ta.volume.MFIIndicator(\n",
    "                        high=df_[high],\n",
    "                        low=df_[low],\n",
    "                        close=df_[close],\n",
    "                        volume=df_[volume],\n",
    "                        window=15*mt,\n",
    "                        fillna=fillna,\n",
    "                    ).money_flow_index()\n",
    "# Ease of Movement\n",
    "df_[\"volume_sma_em\"] = ta.volume.EaseOfMovementIndicator(\n",
    "                            high=df_[high], low=df_[low], volume=df_[volume], window=15*mt, fillna=fillna\n",
    "                        ).sma_ease_of_movement()\n",
    "\n",
    "# Volume Price Trend\n",
    "df_[\"volume_vpt\"] = ta.volume.VolumePriceTrendIndicator(\n",
    "                        close=df_[close], volume=df_[volume], fillna=fillna\n",
    "                    ).volume_price_trend()\n",
    "\n",
    "## volatility index\n",
    "# Average True Range\n",
    "df_[\"volatility_atr\"] = ta.volatility.AverageTrueRange(\n",
    "                            close=df_[close], high=df_[high], low=df_[low], window=10*mt, fillna=fillna\n",
    "                        ).average_true_range()\n",
    "\n",
    "# Ulcer Index\n",
    "df_[\"volatility_ui\"] = ta.volatility.UlcerIndex(\n",
    "                            close=df_[close], window=15*mt, fillna=fillna\n",
    "                        ).ulcer_index()\n",
    "\n",
    "## trend index\n",
    "# MACD\n",
    "df_[\"trend_macd_diff\"] = ta.trend.MACD(\n",
    "                            close=df_[close], window_slow=25*mt, window_fast=10*mt, window_sign=9, fillna=fillna\n",
    "                        ).macd_diff()\n",
    "\n",
    "# Average Directional Movement Index (ADX)\n",
    "df_[\"trend_adx\"] = ta.trend.ADXIndicator(\n",
    "                        high=df_[high], low=df_[low], close=df_[close], window=15*mt, fillna=fillna\n",
    "                    ).adx()\n",
    "\n",
    "# TRIX Indicator\n",
    "df_[\"trend_trix\"] = ta.trend.TRIXIndicator(\n",
    "                        close=df_[close], window=15*mt, fillna=fillna\n",
    "                    ).trix()\n",
    "\n",
    "# Mass Index\n",
    "df_[\"trend_mass_index\"] = ta.trend.MassIndex(\n",
    "                            high=df_[high], low=df_[low], window_fast=10*mt, window_slow=25*mt, fillna=fillna\n",
    "                        ).mass_index()\n",
    "\n",
    "# DPO Indicator\n",
    "df_[\"trend_dpo\"] = ta.trend.DPOIndicator(\n",
    "                        close=df_[close], window=20*mt, fillna=fillna\n",
    "                    ).dpo()\n",
    "\n",
    "# Aroon Indicator\n",
    "df_[\"trend_aroon_ind\"] = ta.trend.AroonIndicator(close=df_[close], window=20, fillna=fillna).aroon_indicator()\n",
    "\n",
    "## momentum index\n",
    "# Relative Strength Index (RSI)\n",
    "df_[\"momentum_rsi\"] = ta.momentum.RSIIndicator(close=df_[close], window=15*mt, fillna=fillna).rsi()\n",
    "\n",
    "# Williams R Indicator\n",
    "df_[\"momentum_wr\"] = ta.momentum.WilliamsRIndicator(\n",
    "                        high=df_[high], low=df_[low], close=df_[close], lbp=15*mt, fillna=fillna\n",
    "                    ).williams_r()"
   ]
  },
  {
   "cell_type": "code",
   "execution_count": 26,
   "id": "a1e2d808",
   "metadata": {},
   "outputs": [
    {
     "data": {
      "text/html": [
       "<div>\n",
       "<style scoped>\n",
       "    .dataframe tbody tr th:only-of-type {\n",
       "        vertical-align: middle;\n",
       "    }\n",
       "\n",
       "    .dataframe tbody tr th {\n",
       "        vertical-align: top;\n",
       "    }\n",
       "\n",
       "    .dataframe thead th {\n",
       "        text-align: right;\n",
       "    }\n",
       "</style>\n",
       "<table border=\"1\" class=\"dataframe\">\n",
       "  <thead>\n",
       "    <tr style=\"text-align: right;\">\n",
       "      <th></th>\n",
       "      <th>open</th>\n",
       "      <th>high</th>\n",
       "      <th>low</th>\n",
       "      <th>close</th>\n",
       "      <th>volume</th>\n",
       "      <th>volume_cmf</th>\n",
       "      <th>volume_fi</th>\n",
       "      <th>volume_mfi</th>\n",
       "      <th>volume_sma_em</th>\n",
       "      <th>volume_vpt</th>\n",
       "      <th>volatility_atr</th>\n",
       "      <th>volatility_ui</th>\n",
       "      <th>trend_macd_diff</th>\n",
       "      <th>trend_adx</th>\n",
       "      <th>trend_trix</th>\n",
       "      <th>trend_mass_index</th>\n",
       "      <th>trend_dpo</th>\n",
       "      <th>trend_aroon_ind</th>\n",
       "      <th>momentum_rsi</th>\n",
       "      <th>momentum_wr</th>\n",
       "    </tr>\n",
       "    <tr>\n",
       "      <th>time</th>\n",
       "      <th></th>\n",
       "      <th></th>\n",
       "      <th></th>\n",
       "      <th></th>\n",
       "      <th></th>\n",
       "      <th></th>\n",
       "      <th></th>\n",
       "      <th></th>\n",
       "      <th></th>\n",
       "      <th></th>\n",
       "      <th></th>\n",
       "      <th></th>\n",
       "      <th></th>\n",
       "      <th></th>\n",
       "      <th></th>\n",
       "      <th></th>\n",
       "      <th></th>\n",
       "      <th></th>\n",
       "      <th></th>\n",
       "      <th></th>\n",
       "    </tr>\n",
       "  </thead>\n",
       "  <tbody>\n",
       "    <tr>\n",
       "      <th>2018-01-01 00:00:00</th>\n",
       "      <td>1028000</td>\n",
       "      <td>1028000</td>\n",
       "      <td>1026500</td>\n",
       "      <td>1028000</td>\n",
       "      <td>41.835689</td>\n",
       "      <td>NaN</td>\n",
       "      <td>NaN</td>\n",
       "      <td>NaN</td>\n",
       "      <td>NaN</td>\n",
       "      <td>-0.796083</td>\n",
       "      <td>0.000000</td>\n",
       "      <td>NaN</td>\n",
       "      <td>NaN</td>\n",
       "      <td>0.000000</td>\n",
       "      <td>NaN</td>\n",
       "      <td>NaN</td>\n",
       "      <td>NaN</td>\n",
       "      <td>NaN</td>\n",
       "      <td>NaN</td>\n",
       "      <td>NaN</td>\n",
       "    </tr>\n",
       "    <tr>\n",
       "      <th>2018-01-01 00:01:00</th>\n",
       "      <td>1028000</td>\n",
       "      <td>1029000</td>\n",
       "      <td>1026000</td>\n",
       "      <td>1028500</td>\n",
       "      <td>22.307810</td>\n",
       "      <td>NaN</td>\n",
       "      <td>NaN</td>\n",
       "      <td>NaN</td>\n",
       "      <td>NaN</td>\n",
       "      <td>-0.788285</td>\n",
       "      <td>0.000000</td>\n",
       "      <td>NaN</td>\n",
       "      <td>NaN</td>\n",
       "      <td>0.000000</td>\n",
       "      <td>NaN</td>\n",
       "      <td>NaN</td>\n",
       "      <td>NaN</td>\n",
       "      <td>NaN</td>\n",
       "      <td>NaN</td>\n",
       "      <td>NaN</td>\n",
       "    </tr>\n",
       "    <tr>\n",
       "      <th>2018-01-01 00:02:00</th>\n",
       "      <td>1028000</td>\n",
       "      <td>1029000</td>\n",
       "      <td>1028000</td>\n",
       "      <td>1028000</td>\n",
       "      <td>59.276102</td>\n",
       "      <td>NaN</td>\n",
       "      <td>NaN</td>\n",
       "      <td>NaN</td>\n",
       "      <td>NaN</td>\n",
       "      <td>-0.017967</td>\n",
       "      <td>0.000000</td>\n",
       "      <td>NaN</td>\n",
       "      <td>NaN</td>\n",
       "      <td>0.000000</td>\n",
       "      <td>NaN</td>\n",
       "      <td>NaN</td>\n",
       "      <td>NaN</td>\n",
       "      <td>NaN</td>\n",
       "      <td>NaN</td>\n",
       "      <td>NaN</td>\n",
       "    </tr>\n",
       "    <tr>\n",
       "      <th>2018-01-01 00:03:00</th>\n",
       "      <td>1028000</td>\n",
       "      <td>1028000</td>\n",
       "      <td>1014000</td>\n",
       "      <td>1014000</td>\n",
       "      <td>114.203740</td>\n",
       "      <td>NaN</td>\n",
       "      <td>NaN</td>\n",
       "      <td>NaN</td>\n",
       "      <td>NaN</td>\n",
       "      <td>-1.584121</td>\n",
       "      <td>0.000000</td>\n",
       "      <td>NaN</td>\n",
       "      <td>NaN</td>\n",
       "      <td>0.000000</td>\n",
       "      <td>NaN</td>\n",
       "      <td>NaN</td>\n",
       "      <td>NaN</td>\n",
       "      <td>NaN</td>\n",
       "      <td>NaN</td>\n",
       "      <td>NaN</td>\n",
       "    </tr>\n",
       "    <tr>\n",
       "      <th>2018-01-01 00:04:00</th>\n",
       "      <td>1020000</td>\n",
       "      <td>1027000</td>\n",
       "      <td>1014500</td>\n",
       "      <td>1025000</td>\n",
       "      <td>62.695404</td>\n",
       "      <td>NaN</td>\n",
       "      <td>NaN</td>\n",
       "      <td>NaN</td>\n",
       "      <td>NaN</td>\n",
       "      <td>-0.875176</td>\n",
       "      <td>0.000000</td>\n",
       "      <td>NaN</td>\n",
       "      <td>NaN</td>\n",
       "      <td>0.000000</td>\n",
       "      <td>NaN</td>\n",
       "      <td>NaN</td>\n",
       "      <td>NaN</td>\n",
       "      <td>NaN</td>\n",
       "      <td>NaN</td>\n",
       "      <td>NaN</td>\n",
       "    </tr>\n",
       "    <tr>\n",
       "      <th>...</th>\n",
       "      <td>...</td>\n",
       "      <td>...</td>\n",
       "      <td>...</td>\n",
       "      <td>...</td>\n",
       "      <td>...</td>\n",
       "      <td>...</td>\n",
       "      <td>...</td>\n",
       "      <td>...</td>\n",
       "      <td>...</td>\n",
       "      <td>...</td>\n",
       "      <td>...</td>\n",
       "      <td>...</td>\n",
       "      <td>...</td>\n",
       "      <td>...</td>\n",
       "      <td>...</td>\n",
       "      <td>...</td>\n",
       "      <td>...</td>\n",
       "      <td>...</td>\n",
       "      <td>...</td>\n",
       "      <td>...</td>\n",
       "    </tr>\n",
       "    <tr>\n",
       "      <th>2018-01-01 16:35:00</th>\n",
       "      <td>1052500</td>\n",
       "      <td>1052500</td>\n",
       "      <td>1052500</td>\n",
       "      <td>1052500</td>\n",
       "      <td>6.084122</td>\n",
       "      <td>-0.232633</td>\n",
       "      <td>-2275.848327</td>\n",
       "      <td>71.279251</td>\n",
       "      <td>-3.186964e+12</td>\n",
       "      <td>0.007381</td>\n",
       "      <td>1416.425464</td>\n",
       "      <td>0.361107</td>\n",
       "      <td>652.357742</td>\n",
       "      <td>20.661135</td>\n",
       "      <td>-0.018034</td>\n",
       "      <td>23.066052</td>\n",
       "      <td>-225.0</td>\n",
       "      <td>-35.0</td>\n",
       "      <td>52.934202</td>\n",
       "      <td>-0.0</td>\n",
       "    </tr>\n",
       "    <tr>\n",
       "      <th>2018-01-01 16:36:00</th>\n",
       "      <td>1052500</td>\n",
       "      <td>1052500</td>\n",
       "      <td>1049500</td>\n",
       "      <td>1050000</td>\n",
       "      <td>9.205537</td>\n",
       "      <td>-0.165805</td>\n",
       "      <td>-4868.097577</td>\n",
       "      <td>67.762226</td>\n",
       "      <td>-3.097651e+12</td>\n",
       "      <td>-0.021866</td>\n",
       "      <td>1574.782918</td>\n",
       "      <td>0.349329</td>\n",
       "      <td>482.768654</td>\n",
       "      <td>21.007559</td>\n",
       "      <td>-0.016660</td>\n",
       "      <td>23.029259</td>\n",
       "      <td>-2100.0</td>\n",
       "      <td>-35.0</td>\n",
       "      <td>44.041843</td>\n",
       "      <td>-62.5</td>\n",
       "    </tr>\n",
       "    <tr>\n",
       "      <th>2018-01-01 16:37:00</th>\n",
       "      <td>1050000</td>\n",
       "      <td>1050000</td>\n",
       "      <td>1049000</td>\n",
       "      <td>1049000</td>\n",
       "      <td>3.472849</td>\n",
       "      <td>-0.161093</td>\n",
       "      <td>-4693.691500</td>\n",
       "      <td>74.267351</td>\n",
       "      <td>-5.977131e+12</td>\n",
       "      <td>-0.025173</td>\n",
       "      <td>1517.304626</td>\n",
       "      <td>0.342452</td>\n",
       "      <td>280.010175</td>\n",
       "      <td>21.537826</td>\n",
       "      <td>-0.015683</td>\n",
       "      <td>22.971985</td>\n",
       "      <td>-1925.0</td>\n",
       "      <td>-35.0</td>\n",
       "      <td>41.083991</td>\n",
       "      <td>-87.5</td>\n",
       "    </tr>\n",
       "    <tr>\n",
       "      <th>2018-01-01 16:38:00</th>\n",
       "      <td>1049000</td>\n",
       "      <td>1050000</td>\n",
       "      <td>1049000</td>\n",
       "      <td>1050000</td>\n",
       "      <td>2.364323</td>\n",
       "      <td>-0.299977</td>\n",
       "      <td>-3811.439691</td>\n",
       "      <td>74.089889</td>\n",
       "      <td>-6.994895e+12</td>\n",
       "      <td>-0.001054</td>\n",
       "      <td>1465.574163</td>\n",
       "      <td>0.330009</td>\n",
       "      <td>236.453679</td>\n",
       "      <td>22.032741</td>\n",
       "      <td>-0.014799</td>\n",
       "      <td>22.868082</td>\n",
       "      <td>-1750.0</td>\n",
       "      <td>-25.0</td>\n",
       "      <td>45.038841</td>\n",
       "      <td>-62.5</td>\n",
       "    </tr>\n",
       "    <tr>\n",
       "      <th>2018-01-01 16:39:00</th>\n",
       "      <td>1050000</td>\n",
       "      <td>1050000</td>\n",
       "      <td>1049000</td>\n",
       "      <td>1050000</td>\n",
       "      <td>18.149551</td>\n",
       "      <td>-0.160143</td>\n",
       "      <td>-3335.009730</td>\n",
       "      <td>77.709233</td>\n",
       "      <td>-6.994895e+12</td>\n",
       "      <td>0.002254</td>\n",
       "      <td>1419.016747</td>\n",
       "      <td>0.327508</td>\n",
       "      <td>207.128342</td>\n",
       "      <td>22.494662</td>\n",
       "      <td>-0.013985</td>\n",
       "      <td>22.638801</td>\n",
       "      <td>-1225.0</td>\n",
       "      <td>-25.0</td>\n",
       "      <td>45.038841</td>\n",
       "      <td>-62.5</td>\n",
       "    </tr>\n",
       "  </tbody>\n",
       "</table>\n",
       "<p>1000 rows × 20 columns</p>\n",
       "</div>"
      ],
      "text/plain": [
       "                        open     high      low    close      volume  \\\n",
       "time                                                                  \n",
       "2018-01-01 00:00:00  1028000  1028000  1026500  1028000   41.835689   \n",
       "2018-01-01 00:01:00  1028000  1029000  1026000  1028500   22.307810   \n",
       "2018-01-01 00:02:00  1028000  1029000  1028000  1028000   59.276102   \n",
       "2018-01-01 00:03:00  1028000  1028000  1014000  1014000  114.203740   \n",
       "2018-01-01 00:04:00  1020000  1027000  1014500  1025000   62.695404   \n",
       "...                      ...      ...      ...      ...         ...   \n",
       "2018-01-01 16:35:00  1052500  1052500  1052500  1052500    6.084122   \n",
       "2018-01-01 16:36:00  1052500  1052500  1049500  1050000    9.205537   \n",
       "2018-01-01 16:37:00  1050000  1050000  1049000  1049000    3.472849   \n",
       "2018-01-01 16:38:00  1049000  1050000  1049000  1050000    2.364323   \n",
       "2018-01-01 16:39:00  1050000  1050000  1049000  1050000   18.149551   \n",
       "\n",
       "                     volume_cmf    volume_fi  volume_mfi  volume_sma_em  \\\n",
       "time                                                                      \n",
       "2018-01-01 00:00:00         NaN          NaN         NaN            NaN   \n",
       "2018-01-01 00:01:00         NaN          NaN         NaN            NaN   \n",
       "2018-01-01 00:02:00         NaN          NaN         NaN            NaN   \n",
       "2018-01-01 00:03:00         NaN          NaN         NaN            NaN   \n",
       "2018-01-01 00:04:00         NaN          NaN         NaN            NaN   \n",
       "...                         ...          ...         ...            ...   \n",
       "2018-01-01 16:35:00   -0.232633 -2275.848327   71.279251  -3.186964e+12   \n",
       "2018-01-01 16:36:00   -0.165805 -4868.097577   67.762226  -3.097651e+12   \n",
       "2018-01-01 16:37:00   -0.161093 -4693.691500   74.267351  -5.977131e+12   \n",
       "2018-01-01 16:38:00   -0.299977 -3811.439691   74.089889  -6.994895e+12   \n",
       "2018-01-01 16:39:00   -0.160143 -3335.009730   77.709233  -6.994895e+12   \n",
       "\n",
       "                     volume_vpt  volatility_atr  volatility_ui  \\\n",
       "time                                                             \n",
       "2018-01-01 00:00:00   -0.796083        0.000000            NaN   \n",
       "2018-01-01 00:01:00   -0.788285        0.000000            NaN   \n",
       "2018-01-01 00:02:00   -0.017967        0.000000            NaN   \n",
       "2018-01-01 00:03:00   -1.584121        0.000000            NaN   \n",
       "2018-01-01 00:04:00   -0.875176        0.000000            NaN   \n",
       "...                         ...             ...            ...   \n",
       "2018-01-01 16:35:00    0.007381     1416.425464       0.361107   \n",
       "2018-01-01 16:36:00   -0.021866     1574.782918       0.349329   \n",
       "2018-01-01 16:37:00   -0.025173     1517.304626       0.342452   \n",
       "2018-01-01 16:38:00   -0.001054     1465.574163       0.330009   \n",
       "2018-01-01 16:39:00    0.002254     1419.016747       0.327508   \n",
       "\n",
       "                     trend_macd_diff  trend_adx  trend_trix  trend_mass_index  \\\n",
       "time                                                                            \n",
       "2018-01-01 00:00:00              NaN   0.000000         NaN               NaN   \n",
       "2018-01-01 00:01:00              NaN   0.000000         NaN               NaN   \n",
       "2018-01-01 00:02:00              NaN   0.000000         NaN               NaN   \n",
       "2018-01-01 00:03:00              NaN   0.000000         NaN               NaN   \n",
       "2018-01-01 00:04:00              NaN   0.000000         NaN               NaN   \n",
       "...                              ...        ...         ...               ...   \n",
       "2018-01-01 16:35:00       652.357742  20.661135   -0.018034         23.066052   \n",
       "2018-01-01 16:36:00       482.768654  21.007559   -0.016660         23.029259   \n",
       "2018-01-01 16:37:00       280.010175  21.537826   -0.015683         22.971985   \n",
       "2018-01-01 16:38:00       236.453679  22.032741   -0.014799         22.868082   \n",
       "2018-01-01 16:39:00       207.128342  22.494662   -0.013985         22.638801   \n",
       "\n",
       "                     trend_dpo  trend_aroon_ind  momentum_rsi  momentum_wr  \n",
       "time                                                                        \n",
       "2018-01-01 00:00:00        NaN              NaN           NaN          NaN  \n",
       "2018-01-01 00:01:00        NaN              NaN           NaN          NaN  \n",
       "2018-01-01 00:02:00        NaN              NaN           NaN          NaN  \n",
       "2018-01-01 00:03:00        NaN              NaN           NaN          NaN  \n",
       "2018-01-01 00:04:00        NaN              NaN           NaN          NaN  \n",
       "...                        ...              ...           ...          ...  \n",
       "2018-01-01 16:35:00     -225.0            -35.0     52.934202         -0.0  \n",
       "2018-01-01 16:36:00    -2100.0            -35.0     44.041843        -62.5  \n",
       "2018-01-01 16:37:00    -1925.0            -35.0     41.083991        -87.5  \n",
       "2018-01-01 16:38:00    -1750.0            -25.0     45.038841        -62.5  \n",
       "2018-01-01 16:39:00    -1225.0            -25.0     45.038841        -62.5  \n",
       "\n",
       "[1000 rows x 20 columns]"
      ]
     },
     "execution_count": 26,
     "metadata": {},
     "output_type": "execute_result"
    }
   ],
   "source": [
    "df_"
   ]
  },
  {
   "cell_type": "code",
   "execution_count": 27,
   "id": "d5871ecd",
   "metadata": {},
   "outputs": [],
   "source": [
    "# 수익률 / 변동성 지표를 적용합니다.\n",
    "windows_mom = [5, 10, 20]\n",
    "windows_std = [30]\n",
    "\n",
    "for i in windows_mom:\n",
    "    df_[f'vol_change_{i}'] = df_.volume.pct_change(i).round(6)\n",
    "    df_[f'ret_{i}'] = df_.close.pct_change(i).round(6)\n",
    "\n",
    "for i in windows_std:\n",
    "    df_[f'std_{i}'] = df_.close.rolling(i).std()\n",
    "    df_[f'vol_std_{i}'] = df_.volume.rolling(i).std()"
   ]
  },
  {
   "cell_type": "code",
   "execution_count": 28,
   "id": "01be09dd",
   "metadata": {},
   "outputs": [
    {
     "data": {
      "text/html": [
       "<div>\n",
       "<style scoped>\n",
       "    .dataframe tbody tr th:only-of-type {\n",
       "        vertical-align: middle;\n",
       "    }\n",
       "\n",
       "    .dataframe tbody tr th {\n",
       "        vertical-align: top;\n",
       "    }\n",
       "\n",
       "    .dataframe thead th {\n",
       "        text-align: right;\n",
       "    }\n",
       "</style>\n",
       "<table border=\"1\" class=\"dataframe\">\n",
       "  <thead>\n",
       "    <tr style=\"text-align: right;\">\n",
       "      <th></th>\n",
       "      <th>open</th>\n",
       "      <th>high</th>\n",
       "      <th>low</th>\n",
       "      <th>close</th>\n",
       "      <th>volume</th>\n",
       "      <th>volume_cmf</th>\n",
       "      <th>volume_fi</th>\n",
       "      <th>volume_mfi</th>\n",
       "      <th>volume_sma_em</th>\n",
       "      <th>volume_vpt</th>\n",
       "      <th>...</th>\n",
       "      <th>momentum_rsi</th>\n",
       "      <th>momentum_wr</th>\n",
       "      <th>vol_change_5</th>\n",
       "      <th>ret_5</th>\n",
       "      <th>vol_change_10</th>\n",
       "      <th>ret_10</th>\n",
       "      <th>vol_change_20</th>\n",
       "      <th>ret_20</th>\n",
       "      <th>std_30</th>\n",
       "      <th>vol_std_30</th>\n",
       "    </tr>\n",
       "    <tr>\n",
       "      <th>time</th>\n",
       "      <th></th>\n",
       "      <th></th>\n",
       "      <th></th>\n",
       "      <th></th>\n",
       "      <th></th>\n",
       "      <th></th>\n",
       "      <th></th>\n",
       "      <th></th>\n",
       "      <th></th>\n",
       "      <th></th>\n",
       "      <th></th>\n",
       "      <th></th>\n",
       "      <th></th>\n",
       "      <th></th>\n",
       "      <th></th>\n",
       "      <th></th>\n",
       "      <th></th>\n",
       "      <th></th>\n",
       "      <th></th>\n",
       "      <th></th>\n",
       "      <th></th>\n",
       "    </tr>\n",
       "  </thead>\n",
       "  <tbody>\n",
       "    <tr>\n",
       "      <th>2018-01-01 00:00:00</th>\n",
       "      <td>1028000</td>\n",
       "      <td>1028000</td>\n",
       "      <td>1026500</td>\n",
       "      <td>1028000</td>\n",
       "      <td>41.835689</td>\n",
       "      <td>NaN</td>\n",
       "      <td>NaN</td>\n",
       "      <td>NaN</td>\n",
       "      <td>NaN</td>\n",
       "      <td>-0.796083</td>\n",
       "      <td>...</td>\n",
       "      <td>NaN</td>\n",
       "      <td>NaN</td>\n",
       "      <td>NaN</td>\n",
       "      <td>NaN</td>\n",
       "      <td>NaN</td>\n",
       "      <td>NaN</td>\n",
       "      <td>NaN</td>\n",
       "      <td>NaN</td>\n",
       "      <td>NaN</td>\n",
       "      <td>NaN</td>\n",
       "    </tr>\n",
       "    <tr>\n",
       "      <th>2018-01-01 00:01:00</th>\n",
       "      <td>1028000</td>\n",
       "      <td>1029000</td>\n",
       "      <td>1026000</td>\n",
       "      <td>1028500</td>\n",
       "      <td>22.307810</td>\n",
       "      <td>NaN</td>\n",
       "      <td>NaN</td>\n",
       "      <td>NaN</td>\n",
       "      <td>NaN</td>\n",
       "      <td>-0.788285</td>\n",
       "      <td>...</td>\n",
       "      <td>NaN</td>\n",
       "      <td>NaN</td>\n",
       "      <td>NaN</td>\n",
       "      <td>NaN</td>\n",
       "      <td>NaN</td>\n",
       "      <td>NaN</td>\n",
       "      <td>NaN</td>\n",
       "      <td>NaN</td>\n",
       "      <td>NaN</td>\n",
       "      <td>NaN</td>\n",
       "    </tr>\n",
       "    <tr>\n",
       "      <th>2018-01-01 00:02:00</th>\n",
       "      <td>1028000</td>\n",
       "      <td>1029000</td>\n",
       "      <td>1028000</td>\n",
       "      <td>1028000</td>\n",
       "      <td>59.276102</td>\n",
       "      <td>NaN</td>\n",
       "      <td>NaN</td>\n",
       "      <td>NaN</td>\n",
       "      <td>NaN</td>\n",
       "      <td>-0.017967</td>\n",
       "      <td>...</td>\n",
       "      <td>NaN</td>\n",
       "      <td>NaN</td>\n",
       "      <td>NaN</td>\n",
       "      <td>NaN</td>\n",
       "      <td>NaN</td>\n",
       "      <td>NaN</td>\n",
       "      <td>NaN</td>\n",
       "      <td>NaN</td>\n",
       "      <td>NaN</td>\n",
       "      <td>NaN</td>\n",
       "    </tr>\n",
       "    <tr>\n",
       "      <th>2018-01-01 00:03:00</th>\n",
       "      <td>1028000</td>\n",
       "      <td>1028000</td>\n",
       "      <td>1014000</td>\n",
       "      <td>1014000</td>\n",
       "      <td>114.203740</td>\n",
       "      <td>NaN</td>\n",
       "      <td>NaN</td>\n",
       "      <td>NaN</td>\n",
       "      <td>NaN</td>\n",
       "      <td>-1.584121</td>\n",
       "      <td>...</td>\n",
       "      <td>NaN</td>\n",
       "      <td>NaN</td>\n",
       "      <td>NaN</td>\n",
       "      <td>NaN</td>\n",
       "      <td>NaN</td>\n",
       "      <td>NaN</td>\n",
       "      <td>NaN</td>\n",
       "      <td>NaN</td>\n",
       "      <td>NaN</td>\n",
       "      <td>NaN</td>\n",
       "    </tr>\n",
       "    <tr>\n",
       "      <th>2018-01-01 00:04:00</th>\n",
       "      <td>1020000</td>\n",
       "      <td>1027000</td>\n",
       "      <td>1014500</td>\n",
       "      <td>1025000</td>\n",
       "      <td>62.695404</td>\n",
       "      <td>NaN</td>\n",
       "      <td>NaN</td>\n",
       "      <td>NaN</td>\n",
       "      <td>NaN</td>\n",
       "      <td>-0.875176</td>\n",
       "      <td>...</td>\n",
       "      <td>NaN</td>\n",
       "      <td>NaN</td>\n",
       "      <td>NaN</td>\n",
       "      <td>NaN</td>\n",
       "      <td>NaN</td>\n",
       "      <td>NaN</td>\n",
       "      <td>NaN</td>\n",
       "      <td>NaN</td>\n",
       "      <td>NaN</td>\n",
       "      <td>NaN</td>\n",
       "    </tr>\n",
       "    <tr>\n",
       "      <th>...</th>\n",
       "      <td>...</td>\n",
       "      <td>...</td>\n",
       "      <td>...</td>\n",
       "      <td>...</td>\n",
       "      <td>...</td>\n",
       "      <td>...</td>\n",
       "      <td>...</td>\n",
       "      <td>...</td>\n",
       "      <td>...</td>\n",
       "      <td>...</td>\n",
       "      <td>...</td>\n",
       "      <td>...</td>\n",
       "      <td>...</td>\n",
       "      <td>...</td>\n",
       "      <td>...</td>\n",
       "      <td>...</td>\n",
       "      <td>...</td>\n",
       "      <td>...</td>\n",
       "      <td>...</td>\n",
       "      <td>...</td>\n",
       "      <td>...</td>\n",
       "    </tr>\n",
       "    <tr>\n",
       "      <th>2018-01-01 16:35:00</th>\n",
       "      <td>1052500</td>\n",
       "      <td>1052500</td>\n",
       "      <td>1052500</td>\n",
       "      <td>1052500</td>\n",
       "      <td>6.084122</td>\n",
       "      <td>-0.232633</td>\n",
       "      <td>-2275.848327</td>\n",
       "      <td>71.279251</td>\n",
       "      <td>-3.186964e+12</td>\n",
       "      <td>0.007381</td>\n",
       "      <td>...</td>\n",
       "      <td>52.934202</td>\n",
       "      <td>-0.0</td>\n",
       "      <td>-0.817192</td>\n",
       "      <td>0.002381</td>\n",
       "      <td>-0.265538</td>\n",
       "      <td>0.003815</td>\n",
       "      <td>0.703781</td>\n",
       "      <td>0.000000</td>\n",
       "      <td>1811.600550</td>\n",
       "      <td>15.025354</td>\n",
       "    </tr>\n",
       "    <tr>\n",
       "      <th>2018-01-01 16:36:00</th>\n",
       "      <td>1052500</td>\n",
       "      <td>1052500</td>\n",
       "      <td>1049500</td>\n",
       "      <td>1050000</td>\n",
       "      <td>9.205537</td>\n",
       "      <td>-0.165805</td>\n",
       "      <td>-4868.097577</td>\n",
       "      <td>67.762226</td>\n",
       "      <td>-3.097651e+12</td>\n",
       "      <td>-0.021866</td>\n",
       "      <td>...</td>\n",
       "      <td>44.041843</td>\n",
       "      <td>-62.5</td>\n",
       "      <td>0.394890</td>\n",
       "      <td>0.000000</td>\n",
       "      <td>0.274989</td>\n",
       "      <td>0.001431</td>\n",
       "      <td>-0.625893</td>\n",
       "      <td>-0.002375</td>\n",
       "      <td>1787.568824</td>\n",
       "      <td>9.944774</td>\n",
       "    </tr>\n",
       "    <tr>\n",
       "      <th>2018-01-01 16:37:00</th>\n",
       "      <td>1050000</td>\n",
       "      <td>1050000</td>\n",
       "      <td>1049000</td>\n",
       "      <td>1049000</td>\n",
       "      <td>3.472849</td>\n",
       "      <td>-0.161093</td>\n",
       "      <td>-4693.691500</td>\n",
       "      <td>74.267351</td>\n",
       "      <td>-5.977131e+12</td>\n",
       "      <td>-0.025173</td>\n",
       "      <td>...</td>\n",
       "      <td>41.083991</td>\n",
       "      <td>-87.5</td>\n",
       "      <td>-0.279019</td>\n",
       "      <td>-0.001903</td>\n",
       "      <td>-0.609186</td>\n",
       "      <td>0.000477</td>\n",
       "      <td>-0.849066</td>\n",
       "      <td>-0.003325</td>\n",
       "      <td>1763.291071</td>\n",
       "      <td>9.932495</td>\n",
       "    </tr>\n",
       "    <tr>\n",
       "      <th>2018-01-01 16:38:00</th>\n",
       "      <td>1049000</td>\n",
       "      <td>1050000</td>\n",
       "      <td>1049000</td>\n",
       "      <td>1050000</td>\n",
       "      <td>2.364323</td>\n",
       "      <td>-0.299977</td>\n",
       "      <td>-3811.439691</td>\n",
       "      <td>74.089889</td>\n",
       "      <td>-6.994895e+12</td>\n",
       "      <td>-0.001054</td>\n",
       "      <td>...</td>\n",
       "      <td>45.038841</td>\n",
       "      <td>-62.5</td>\n",
       "      <td>-0.922960</td>\n",
       "      <td>0.000000</td>\n",
       "      <td>-0.517812</td>\n",
       "      <td>0.000953</td>\n",
       "      <td>-0.901798</td>\n",
       "      <td>-0.003322</td>\n",
       "      <td>1658.225752</td>\n",
       "      <td>9.974310</td>\n",
       "    </tr>\n",
       "    <tr>\n",
       "      <th>2018-01-01 16:39:00</th>\n",
       "      <td>1050000</td>\n",
       "      <td>1050000</td>\n",
       "      <td>1049000</td>\n",
       "      <td>1050000</td>\n",
       "      <td>18.149551</td>\n",
       "      <td>-0.160143</td>\n",
       "      <td>-3335.009730</td>\n",
       "      <td>77.709233</td>\n",
       "      <td>-6.994895e+12</td>\n",
       "      <td>0.002254</td>\n",
       "      <td>...</td>\n",
       "      <td>45.038841</td>\n",
       "      <td>-62.5</td>\n",
       "      <td>4.854694</td>\n",
       "      <td>-0.002375</td>\n",
       "      <td>0.402812</td>\n",
       "      <td>0.000000</td>\n",
       "      <td>1.325085</td>\n",
       "      <td>-0.000476</td>\n",
       "      <td>1486.432897</td>\n",
       "      <td>9.893716</td>\n",
       "    </tr>\n",
       "  </tbody>\n",
       "</table>\n",
       "<p>1000 rows × 28 columns</p>\n",
       "</div>"
      ],
      "text/plain": [
       "                        open     high      low    close      volume  \\\n",
       "time                                                                  \n",
       "2018-01-01 00:00:00  1028000  1028000  1026500  1028000   41.835689   \n",
       "2018-01-01 00:01:00  1028000  1029000  1026000  1028500   22.307810   \n",
       "2018-01-01 00:02:00  1028000  1029000  1028000  1028000   59.276102   \n",
       "2018-01-01 00:03:00  1028000  1028000  1014000  1014000  114.203740   \n",
       "2018-01-01 00:04:00  1020000  1027000  1014500  1025000   62.695404   \n",
       "...                      ...      ...      ...      ...         ...   \n",
       "2018-01-01 16:35:00  1052500  1052500  1052500  1052500    6.084122   \n",
       "2018-01-01 16:36:00  1052500  1052500  1049500  1050000    9.205537   \n",
       "2018-01-01 16:37:00  1050000  1050000  1049000  1049000    3.472849   \n",
       "2018-01-01 16:38:00  1049000  1050000  1049000  1050000    2.364323   \n",
       "2018-01-01 16:39:00  1050000  1050000  1049000  1050000   18.149551   \n",
       "\n",
       "                     volume_cmf    volume_fi  volume_mfi  volume_sma_em  \\\n",
       "time                                                                      \n",
       "2018-01-01 00:00:00         NaN          NaN         NaN            NaN   \n",
       "2018-01-01 00:01:00         NaN          NaN         NaN            NaN   \n",
       "2018-01-01 00:02:00         NaN          NaN         NaN            NaN   \n",
       "2018-01-01 00:03:00         NaN          NaN         NaN            NaN   \n",
       "2018-01-01 00:04:00         NaN          NaN         NaN            NaN   \n",
       "...                         ...          ...         ...            ...   \n",
       "2018-01-01 16:35:00   -0.232633 -2275.848327   71.279251  -3.186964e+12   \n",
       "2018-01-01 16:36:00   -0.165805 -4868.097577   67.762226  -3.097651e+12   \n",
       "2018-01-01 16:37:00   -0.161093 -4693.691500   74.267351  -5.977131e+12   \n",
       "2018-01-01 16:38:00   -0.299977 -3811.439691   74.089889  -6.994895e+12   \n",
       "2018-01-01 16:39:00   -0.160143 -3335.009730   77.709233  -6.994895e+12   \n",
       "\n",
       "                     volume_vpt  ...  momentum_rsi  momentum_wr  vol_change_5  \\\n",
       "time                             ...                                            \n",
       "2018-01-01 00:00:00   -0.796083  ...           NaN          NaN           NaN   \n",
       "2018-01-01 00:01:00   -0.788285  ...           NaN          NaN           NaN   \n",
       "2018-01-01 00:02:00   -0.017967  ...           NaN          NaN           NaN   \n",
       "2018-01-01 00:03:00   -1.584121  ...           NaN          NaN           NaN   \n",
       "2018-01-01 00:04:00   -0.875176  ...           NaN          NaN           NaN   \n",
       "...                         ...  ...           ...          ...           ...   \n",
       "2018-01-01 16:35:00    0.007381  ...     52.934202         -0.0     -0.817192   \n",
       "2018-01-01 16:36:00   -0.021866  ...     44.041843        -62.5      0.394890   \n",
       "2018-01-01 16:37:00   -0.025173  ...     41.083991        -87.5     -0.279019   \n",
       "2018-01-01 16:38:00   -0.001054  ...     45.038841        -62.5     -0.922960   \n",
       "2018-01-01 16:39:00    0.002254  ...     45.038841        -62.5      4.854694   \n",
       "\n",
       "                        ret_5  vol_change_10    ret_10  vol_change_20  \\\n",
       "time                                                                    \n",
       "2018-01-01 00:00:00       NaN            NaN       NaN            NaN   \n",
       "2018-01-01 00:01:00       NaN            NaN       NaN            NaN   \n",
       "2018-01-01 00:02:00       NaN            NaN       NaN            NaN   \n",
       "2018-01-01 00:03:00       NaN            NaN       NaN            NaN   \n",
       "2018-01-01 00:04:00       NaN            NaN       NaN            NaN   \n",
       "...                       ...            ...       ...            ...   \n",
       "2018-01-01 16:35:00  0.002381      -0.265538  0.003815       0.703781   \n",
       "2018-01-01 16:36:00  0.000000       0.274989  0.001431      -0.625893   \n",
       "2018-01-01 16:37:00 -0.001903      -0.609186  0.000477      -0.849066   \n",
       "2018-01-01 16:38:00  0.000000      -0.517812  0.000953      -0.901798   \n",
       "2018-01-01 16:39:00 -0.002375       0.402812  0.000000       1.325085   \n",
       "\n",
       "                       ret_20       std_30  vol_std_30  \n",
       "time                                                    \n",
       "2018-01-01 00:00:00       NaN          NaN         NaN  \n",
       "2018-01-01 00:01:00       NaN          NaN         NaN  \n",
       "2018-01-01 00:02:00       NaN          NaN         NaN  \n",
       "2018-01-01 00:03:00       NaN          NaN         NaN  \n",
       "2018-01-01 00:04:00       NaN          NaN         NaN  \n",
       "...                       ...          ...         ...  \n",
       "2018-01-01 16:35:00  0.000000  1811.600550   15.025354  \n",
       "2018-01-01 16:36:00 -0.002375  1787.568824    9.944774  \n",
       "2018-01-01 16:37:00 -0.003325  1763.291071    9.932495  \n",
       "2018-01-01 16:38:00 -0.003322  1658.225752    9.974310  \n",
       "2018-01-01 16:39:00 -0.000476  1486.432897    9.893716  \n",
       "\n",
       "[1000 rows x 28 columns]"
      ]
     },
     "execution_count": 28,
     "metadata": {},
     "output_type": "execute_result"
    }
   ],
   "source": [
    "df_"
   ]
  },
  {
   "cell_type": "code",
   "execution_count": 29,
   "id": "c5e482bc",
   "metadata": {},
   "outputs": [
    {
     "data": {
      "text/plain": [
       "(                     volume_cmf     volume_fi  volume_mfi  volume_sma_em  \\\n",
       " time                                                                       \n",
       " 2018-01-01 00:43:00    0.363435    719.550725   56.072055   8.940793e+11   \n",
       " 2018-01-01 00:44:00    0.368141  10053.792799   54.776628   2.480511e+12   \n",
       " 2018-01-01 00:45:00    0.365340   5589.204549   56.034287   3.376449e+12   \n",
       " 2018-01-01 00:46:00    0.358534  32571.260299   50.196394   2.908715e+12   \n",
       " 2018-01-01 00:47:00    0.327429  20831.661354   45.446741  -6.760619e+11   \n",
       " ...                         ...           ...         ...            ...   \n",
       " 2018-01-01 16:35:00   -0.232633  -2275.848327   71.279251  -3.186964e+12   \n",
       " 2018-01-01 16:36:00   -0.165805  -4868.097577   67.762226  -3.097651e+12   \n",
       " 2018-01-01 16:37:00   -0.161093  -4693.691500   74.267351  -5.977131e+12   \n",
       " 2018-01-01 16:38:00   -0.299977  -3811.439691   74.089889  -6.994895e+12   \n",
       " 2018-01-01 16:39:00   -0.160143  -3335.009730   77.709233  -6.994895e+12   \n",
       " \n",
       "                      volume_vpt  volatility_atr  volatility_ui  \\\n",
       " time                                                             \n",
       " 2018-01-01 00:43:00    0.036253     3465.281623       0.373803   \n",
       " 2018-01-01 00:44:00    0.103776     3468.753461       0.363350   \n",
       " 2018-01-01 00:45:00    0.048901     3321.878115       0.352567   \n",
       " 2018-01-01 00:46:00    0.191981     3589.690303       0.352567   \n",
       " 2018-01-01 00:47:00    0.157254     3830.721273       0.383598   \n",
       " ...                         ...             ...            ...   \n",
       " 2018-01-01 16:35:00    0.007381     1416.425464       0.361107   \n",
       " 2018-01-01 16:36:00   -0.021866     1574.782918       0.349329   \n",
       " 2018-01-01 16:37:00   -0.025173     1517.304626       0.342452   \n",
       " 2018-01-01 16:38:00   -0.001054     1465.574163       0.330009   \n",
       " 2018-01-01 16:39:00    0.002254     1419.016747       0.327508   \n",
       " \n",
       "                      trend_macd_diff  trend_adx  trend_trix  ...  \\\n",
       " time                                                         ...   \n",
       " 2018-01-01 00:43:00        57.922971  30.265684    0.001918  ...   \n",
       " 2018-01-01 00:44:00       371.772328  28.931595    0.002456  ...   \n",
       " 2018-01-01 00:45:00       415.192019  27.479242    0.003166  ...   \n",
       " 2018-01-01 00:46:00       836.901155  26.266745    0.004914  ...   \n",
       " 2018-01-01 00:47:00       536.391753  25.135082    0.006121  ...   \n",
       " ...                              ...        ...         ...  ...   \n",
       " 2018-01-01 16:35:00       652.357742  20.661135   -0.018034  ...   \n",
       " 2018-01-01 16:36:00       482.768654  21.007559   -0.016660  ...   \n",
       " 2018-01-01 16:37:00       280.010175  21.537826   -0.015683  ...   \n",
       " 2018-01-01 16:38:00       236.453679  22.032741   -0.014799  ...   \n",
       " 2018-01-01 16:39:00       207.128342  22.494662   -0.013985  ...   \n",
       " \n",
       "                      momentum_rsi  momentum_wr  vol_change_5     ret_5  \\\n",
       " time                                                                     \n",
       " 2018-01-01 00:43:00     50.582791   -42.105263     -0.678913  0.000000   \n",
       " 2018-01-01 00:44:00     55.496761   -10.526316     -0.294524  0.007396   \n",
       " 2018-01-01 00:45:00     52.689937   -27.777778      0.260837  0.001965   \n",
       " 2018-01-01 00:46:00     59.928115    -0.000000      2.165060  0.008362   \n",
       " 2018-01-01 00:47:00     50.077509   -52.173913      0.547160  0.001474   \n",
       " ...                           ...          ...           ...       ...   \n",
       " 2018-01-01 16:35:00     52.934202    -0.000000     -0.817192  0.002381   \n",
       " 2018-01-01 16:36:00     44.041843   -62.500000      0.394890  0.000000   \n",
       " 2018-01-01 16:37:00     41.083991   -87.500000     -0.279019 -0.001903   \n",
       " 2018-01-01 16:38:00     45.038841   -62.500000     -0.922960  0.000000   \n",
       " 2018-01-01 16:39:00     45.038841   -62.500000      4.854694 -0.002375   \n",
       " \n",
       "                      vol_change_10    ret_10  vol_change_20    ret_20  \\\n",
       " time                                                                    \n",
       " 2018-01-01 00:43:00      -0.318982  0.000000      -0.818597  0.004438   \n",
       " 2018-01-01 00:44:00      -0.266406  0.000490      -0.363379  0.006404   \n",
       " 2018-01-01 00:45:00      -0.341287  0.000981      -0.293731  0.006413   \n",
       " 2018-01-01 00:46:00      -0.091323  0.003918      -0.168955  0.010848   \n",
       " 2018-01-01 00:47:00      -0.855580  0.000491      -0.723566  0.003447   \n",
       " ...                            ...       ...            ...       ...   \n",
       " 2018-01-01 16:35:00      -0.265538  0.003815       0.703781  0.000000   \n",
       " 2018-01-01 16:36:00       0.274989  0.001431      -0.625893 -0.002375   \n",
       " 2018-01-01 16:37:00      -0.609186  0.000477      -0.849066 -0.003325   \n",
       " 2018-01-01 16:38:00      -0.517812  0.000953      -0.901798 -0.003322   \n",
       " 2018-01-01 16:39:00       0.402812  0.000000       1.325085 -0.000476   \n",
       " \n",
       "                           std_30  vol_std_30  \n",
       " time                                          \n",
       " 2018-01-01 00:43:00  2348.636190   34.165561  \n",
       " 2018-01-01 00:44:00  2465.217810   34.384398  \n",
       " 2018-01-01 00:45:00  2505.453821   34.506907  \n",
       " 2018-01-01 00:46:00  2848.118960   33.965563  \n",
       " 2018-01-01 00:47:00  2855.524994   34.696090  \n",
       " ...                          ...         ...  \n",
       " 2018-01-01 16:35:00  1811.600550   15.025354  \n",
       " 2018-01-01 16:36:00  1787.568824    9.944774  \n",
       " 2018-01-01 16:37:00  1763.291071    9.932495  \n",
       " 2018-01-01 16:38:00  1658.225752    9.974310  \n",
       " 2018-01-01 16:39:00  1486.432897    9.893716  \n",
       " \n",
       " [957 rows x 23 columns],\n",
       " time\n",
       " 2018-01-01 00:43:00    1.0\n",
       " 2018-01-01 00:44:00    1.0\n",
       " 2018-01-01 00:45:00    1.0\n",
       " 2018-01-01 00:46:00    1.0\n",
       " 2018-01-01 00:47:00    1.0\n",
       "                       ... \n",
       " 2018-01-01 16:35:00    0.0\n",
       " 2018-01-01 16:36:00    0.0\n",
       " 2018-01-01 16:37:00    0.0\n",
       " 2018-01-01 16:38:00    0.0\n",
       " 2018-01-01 16:39:00    0.0\n",
       " Name: t_value, Length: 957, dtype: float64)"
      ]
     },
     "execution_count": 29,
     "metadata": {},
     "output_type": "execute_result"
    }
   ],
   "source": [
    "df_tmp_data = df_.join(df_label_data).dropna()\n",
    "\n",
    "# X, y 데이터셋 만들기\n",
    "X = df_tmp_data.iloc[:, 5:-1] \n",
    "y = df_tmp_data.iloc[:, -1]\n",
    "X, y"
   ]
  },
  {
   "cell_type": "code",
   "execution_count": 30,
   "id": "4a7672b1",
   "metadata": {},
   "outputs": [],
   "source": [
    "# StandardScaler 적용\n",
    "sc = StandardScaler()\n",
    "\n",
    "# fit_transform 사용\n",
    "X_sc = sc.fit_transform(X)\n",
    "\n",
    "# DataFrame 변환\n",
    "X_sc = pd.DataFrame(X_sc, index=X.index, columns=X.columns)"
   ]
  },
  {
   "cell_type": "code",
   "execution_count": 31,
   "id": "d2ded616",
   "metadata": {},
   "outputs": [
    {
     "data": {
      "text/html": [
       "<div>\n",
       "<style scoped>\n",
       "    .dataframe tbody tr th:only-of-type {\n",
       "        vertical-align: middle;\n",
       "    }\n",
       "\n",
       "    .dataframe tbody tr th {\n",
       "        vertical-align: top;\n",
       "    }\n",
       "\n",
       "    .dataframe thead th {\n",
       "        text-align: right;\n",
       "    }\n",
       "</style>\n",
       "<table border=\"1\" class=\"dataframe\">\n",
       "  <thead>\n",
       "    <tr style=\"text-align: right;\">\n",
       "      <th></th>\n",
       "      <th>volume_cmf</th>\n",
       "      <th>volume_fi</th>\n",
       "      <th>volume_mfi</th>\n",
       "      <th>volume_sma_em</th>\n",
       "      <th>volume_vpt</th>\n",
       "      <th>volatility_atr</th>\n",
       "      <th>volatility_ui</th>\n",
       "      <th>trend_macd_diff</th>\n",
       "      <th>trend_adx</th>\n",
       "      <th>trend_trix</th>\n",
       "      <th>...</th>\n",
       "      <th>momentum_rsi</th>\n",
       "      <th>momentum_wr</th>\n",
       "      <th>vol_change_5</th>\n",
       "      <th>ret_5</th>\n",
       "      <th>vol_change_10</th>\n",
       "      <th>ret_10</th>\n",
       "      <th>vol_change_20</th>\n",
       "      <th>ret_20</th>\n",
       "      <th>std_30</th>\n",
       "      <th>vol_std_30</th>\n",
       "    </tr>\n",
       "    <tr>\n",
       "      <th>time</th>\n",
       "      <th></th>\n",
       "      <th></th>\n",
       "      <th></th>\n",
       "      <th></th>\n",
       "      <th></th>\n",
       "      <th></th>\n",
       "      <th></th>\n",
       "      <th></th>\n",
       "      <th></th>\n",
       "      <th></th>\n",
       "      <th></th>\n",
       "      <th></th>\n",
       "      <th></th>\n",
       "      <th></th>\n",
       "      <th></th>\n",
       "      <th></th>\n",
       "      <th></th>\n",
       "      <th></th>\n",
       "      <th></th>\n",
       "      <th></th>\n",
       "      <th></th>\n",
       "    </tr>\n",
       "  </thead>\n",
       "  <tbody>\n",
       "    <tr>\n",
       "      <th>2018-01-01 00:43:00</th>\n",
       "      <td>1.035464</td>\n",
       "      <td>-0.186753</td>\n",
       "      <td>0.065427</td>\n",
       "      <td>0.391695</td>\n",
       "      <td>0.143181</td>\n",
       "      <td>1.474065</td>\n",
       "      <td>0.054076</td>\n",
       "      <td>0.103695</td>\n",
       "      <td>0.930692</td>\n",
       "      <td>-0.078062</td>\n",
       "      <td>...</td>\n",
       "      <td>-0.141586</td>\n",
       "      <td>0.073599</td>\n",
       "      <td>-0.268825</td>\n",
       "      <td>-0.053926</td>\n",
       "      <td>-0.273922</td>\n",
       "      <td>-0.077989</td>\n",
       "      <td>-0.359687</td>\n",
       "      <td>0.617241</td>\n",
       "      <td>-0.335632</td>\n",
       "      <td>0.273404</td>\n",
       "    </tr>\n",
       "    <tr>\n",
       "      <th>2018-01-01 00:44:00</th>\n",
       "      <td>1.054026</td>\n",
       "      <td>0.125880</td>\n",
       "      <td>-0.011156</td>\n",
       "      <td>0.814123</td>\n",
       "      <td>0.544363</td>\n",
       "      <td>1.478520</td>\n",
       "      <td>0.017250</td>\n",
       "      <td>0.639945</td>\n",
       "      <td>0.771813</td>\n",
       "      <td>-0.051294</td>\n",
       "      <td>...</td>\n",
       "      <td>0.344922</td>\n",
       "      <td>1.111779</td>\n",
       "      <td>-0.209690</td>\n",
       "      <td>2.237163</td>\n",
       "      <td>-0.263511</td>\n",
       "      <td>0.036043</td>\n",
       "      <td>-0.266915</td>\n",
       "      <td>0.940844</td>\n",
       "      <td>-0.262646</td>\n",
       "      <td>0.291664</td>\n",
       "    </tr>\n",
       "    <tr>\n",
       "      <th>2018-01-01 00:45:00</th>\n",
       "      <td>1.042978</td>\n",
       "      <td>-0.023653</td>\n",
       "      <td>0.063195</td>\n",
       "      <td>1.052689</td>\n",
       "      <td>0.218332</td>\n",
       "      <td>1.290057</td>\n",
       "      <td>-0.020738</td>\n",
       "      <td>0.714133</td>\n",
       "      <td>0.598850</td>\n",
       "      <td>-0.015958</td>\n",
       "      <td>...</td>\n",
       "      <td>0.067032</td>\n",
       "      <td>0.544625</td>\n",
       "      <td>-0.124252</td>\n",
       "      <td>0.554780</td>\n",
       "      <td>-0.278339</td>\n",
       "      <td>0.150308</td>\n",
       "      <td>-0.252720</td>\n",
       "      <td>0.942325</td>\n",
       "      <td>-0.237456</td>\n",
       "      <td>0.301886</td>\n",
       "    </tr>\n",
       "    <tr>\n",
       "      <th>2018-01-01 00:46:00</th>\n",
       "      <td>1.016133</td>\n",
       "      <td>0.880060</td>\n",
       "      <td>-0.281931</td>\n",
       "      <td>0.928143</td>\n",
       "      <td>1.068429</td>\n",
       "      <td>1.633699</td>\n",
       "      <td>-0.020738</td>\n",
       "      <td>1.434675</td>\n",
       "      <td>0.454452</td>\n",
       "      <td>0.071047</td>\n",
       "      <td>...</td>\n",
       "      <td>0.783648</td>\n",
       "      <td>1.457839</td>\n",
       "      <td>0.168697</td>\n",
       "      <td>2.536405</td>\n",
       "      <td>-0.228841</td>\n",
       "      <td>0.833801</td>\n",
       "      <td>-0.227291</td>\n",
       "      <td>1.672326</td>\n",
       "      <td>-0.022928</td>\n",
       "      <td>0.256716</td>\n",
       "    </tr>\n",
       "    <tr>\n",
       "      <th>2018-01-01 00:47:00</th>\n",
       "      <td>0.893440</td>\n",
       "      <td>0.486864</td>\n",
       "      <td>-0.562722</td>\n",
       "      <td>-0.026395</td>\n",
       "      <td>0.862103</td>\n",
       "      <td>1.942977</td>\n",
       "      <td>0.088583</td>\n",
       "      <td>0.921217</td>\n",
       "      <td>0.319680</td>\n",
       "      <td>0.131133</td>\n",
       "      <td>...</td>\n",
       "      <td>-0.191611</td>\n",
       "      <td>-0.257415</td>\n",
       "      <td>-0.080204</td>\n",
       "      <td>0.402681</td>\n",
       "      <td>-0.380178</td>\n",
       "      <td>0.036276</td>\n",
       "      <td>-0.340320</td>\n",
       "      <td>0.454122</td>\n",
       "      <td>-0.018291</td>\n",
       "      <td>0.317671</td>\n",
       "    </tr>\n",
       "  </tbody>\n",
       "</table>\n",
       "<p>5 rows × 23 columns</p>\n",
       "</div>"
      ],
      "text/plain": [
       "                     volume_cmf  volume_fi  volume_mfi  volume_sma_em  \\\n",
       "time                                                                    \n",
       "2018-01-01 00:43:00    1.035464  -0.186753    0.065427       0.391695   \n",
       "2018-01-01 00:44:00    1.054026   0.125880   -0.011156       0.814123   \n",
       "2018-01-01 00:45:00    1.042978  -0.023653    0.063195       1.052689   \n",
       "2018-01-01 00:46:00    1.016133   0.880060   -0.281931       0.928143   \n",
       "2018-01-01 00:47:00    0.893440   0.486864   -0.562722      -0.026395   \n",
       "\n",
       "                     volume_vpt  volatility_atr  volatility_ui  \\\n",
       "time                                                             \n",
       "2018-01-01 00:43:00    0.143181        1.474065       0.054076   \n",
       "2018-01-01 00:44:00    0.544363        1.478520       0.017250   \n",
       "2018-01-01 00:45:00    0.218332        1.290057      -0.020738   \n",
       "2018-01-01 00:46:00    1.068429        1.633699      -0.020738   \n",
       "2018-01-01 00:47:00    0.862103        1.942977       0.088583   \n",
       "\n",
       "                     trend_macd_diff  trend_adx  trend_trix  ...  \\\n",
       "time                                                         ...   \n",
       "2018-01-01 00:43:00         0.103695   0.930692   -0.078062  ...   \n",
       "2018-01-01 00:44:00         0.639945   0.771813   -0.051294  ...   \n",
       "2018-01-01 00:45:00         0.714133   0.598850   -0.015958  ...   \n",
       "2018-01-01 00:46:00         1.434675   0.454452    0.071047  ...   \n",
       "2018-01-01 00:47:00         0.921217   0.319680    0.131133  ...   \n",
       "\n",
       "                     momentum_rsi  momentum_wr  vol_change_5     ret_5  \\\n",
       "time                                                                     \n",
       "2018-01-01 00:43:00     -0.141586     0.073599     -0.268825 -0.053926   \n",
       "2018-01-01 00:44:00      0.344922     1.111779     -0.209690  2.237163   \n",
       "2018-01-01 00:45:00      0.067032     0.544625     -0.124252  0.554780   \n",
       "2018-01-01 00:46:00      0.783648     1.457839      0.168697  2.536405   \n",
       "2018-01-01 00:47:00     -0.191611    -0.257415     -0.080204  0.402681   \n",
       "\n",
       "                     vol_change_10    ret_10  vol_change_20    ret_20  \\\n",
       "time                                                                    \n",
       "2018-01-01 00:43:00      -0.273922 -0.077989      -0.359687  0.617241   \n",
       "2018-01-01 00:44:00      -0.263511  0.036043      -0.266915  0.940844   \n",
       "2018-01-01 00:45:00      -0.278339  0.150308      -0.252720  0.942325   \n",
       "2018-01-01 00:46:00      -0.228841  0.833801      -0.227291  1.672326   \n",
       "2018-01-01 00:47:00      -0.380178  0.036276      -0.340320  0.454122   \n",
       "\n",
       "                       std_30  vol_std_30  \n",
       "time                                       \n",
       "2018-01-01 00:43:00 -0.335632    0.273404  \n",
       "2018-01-01 00:44:00 -0.262646    0.291664  \n",
       "2018-01-01 00:45:00 -0.237456    0.301886  \n",
       "2018-01-01 00:46:00 -0.022928    0.256716  \n",
       "2018-01-01 00:47:00 -0.018291    0.317671  \n",
       "\n",
       "[5 rows x 23 columns]"
      ]
     },
     "execution_count": 31,
     "metadata": {},
     "output_type": "execute_result"
    }
   ],
   "source": [
    "X_sc.head()"
   ]
  },
  {
   "cell_type": "code",
   "execution_count": 32,
   "id": "5a140af6",
   "metadata": {},
   "outputs": [
    {
     "data": {
      "text/plain": [
       "RandomForestClassifier(class_weight='balanced')"
      ]
     },
     "execution_count": 32,
     "metadata": {},
     "output_type": "execute_result"
    }
   ],
   "source": [
    "# RandomForest 모델 적용\n",
    "rfc = RandomForestClassifier(class_weight='balanced')\n",
    "\n",
    "# RandomForest fit 하기\n",
    "rfc.fit(X_sc, y)"
   ]
  },
  {
   "cell_type": "markdown",
   "id": "6b103fe6",
   "metadata": {},
   "source": [
    "## ③ Feature Selection methods 적용하기\n",
    "---"
   ]
  },
  {
   "cell_type": "markdown",
   "id": "01b1d351",
   "metadata": {},
   "source": [
    "### MDI, Mean Decrease Impurity\n",
    "---"
   ]
  },
  {
   "cell_type": "code",
   "execution_count": 33,
   "id": "83666f0c",
   "metadata": {},
   "outputs": [
    {
     "data": {
      "text/html": [
       "<div>\n",
       "<style scoped>\n",
       "    .dataframe tbody tr th:only-of-type {\n",
       "        vertical-align: middle;\n",
       "    }\n",
       "\n",
       "    .dataframe tbody tr th {\n",
       "        vertical-align: top;\n",
       "    }\n",
       "\n",
       "    .dataframe thead th {\n",
       "        text-align: right;\n",
       "    }\n",
       "</style>\n",
       "<table border=\"1\" class=\"dataframe\">\n",
       "  <thead>\n",
       "    <tr style=\"text-align: right;\">\n",
       "      <th></th>\n",
       "      <th>mean</th>\n",
       "      <th>std</th>\n",
       "    </tr>\n",
       "  </thead>\n",
       "  <tbody>\n",
       "    <tr>\n",
       "      <th>volume_cmf</th>\n",
       "      <td>0.050597</td>\n",
       "      <td>0.002294</td>\n",
       "    </tr>\n",
       "    <tr>\n",
       "      <th>volume_fi</th>\n",
       "      <td>0.040474</td>\n",
       "      <td>0.002544</td>\n",
       "    </tr>\n",
       "    <tr>\n",
       "      <th>volume_mfi</th>\n",
       "      <td>0.047050</td>\n",
       "      <td>0.002333</td>\n",
       "    </tr>\n",
       "    <tr>\n",
       "      <th>volume_sma_em</th>\n",
       "      <td>0.037810</td>\n",
       "      <td>0.001783</td>\n",
       "    </tr>\n",
       "    <tr>\n",
       "      <th>volume_vpt</th>\n",
       "      <td>0.024294</td>\n",
       "      <td>0.001484</td>\n",
       "    </tr>\n",
       "    <tr>\n",
       "      <th>volatility_atr</th>\n",
       "      <td>0.074129</td>\n",
       "      <td>0.003002</td>\n",
       "    </tr>\n",
       "    <tr>\n",
       "      <th>volatility_ui</th>\n",
       "      <td>0.050424</td>\n",
       "      <td>0.002225</td>\n",
       "    </tr>\n",
       "    <tr>\n",
       "      <th>trend_macd_diff</th>\n",
       "      <td>0.072594</td>\n",
       "      <td>0.003881</td>\n",
       "    </tr>\n",
       "    <tr>\n",
       "      <th>trend_adx</th>\n",
       "      <td>0.048791</td>\n",
       "      <td>0.002028</td>\n",
       "    </tr>\n",
       "    <tr>\n",
       "      <th>trend_trix</th>\n",
       "      <td>0.072430</td>\n",
       "      <td>0.003178</td>\n",
       "    </tr>\n",
       "    <tr>\n",
       "      <th>trend_mass_index</th>\n",
       "      <td>0.070700</td>\n",
       "      <td>0.002919</td>\n",
       "    </tr>\n",
       "    <tr>\n",
       "      <th>trend_dpo</th>\n",
       "      <td>0.024536</td>\n",
       "      <td>0.001618</td>\n",
       "    </tr>\n",
       "    <tr>\n",
       "      <th>trend_aroon_ind</th>\n",
       "      <td>0.031721</td>\n",
       "      <td>0.001466</td>\n",
       "    </tr>\n",
       "    <tr>\n",
       "      <th>momentum_rsi</th>\n",
       "      <td>0.038930</td>\n",
       "      <td>0.002501</td>\n",
       "    </tr>\n",
       "    <tr>\n",
       "      <th>momentum_wr</th>\n",
       "      <td>0.028105</td>\n",
       "      <td>0.001896</td>\n",
       "    </tr>\n",
       "    <tr>\n",
       "      <th>vol_change_5</th>\n",
       "      <td>0.016169</td>\n",
       "      <td>0.000997</td>\n",
       "    </tr>\n",
       "    <tr>\n",
       "      <th>ret_5</th>\n",
       "      <td>0.032174</td>\n",
       "      <td>0.002003</td>\n",
       "    </tr>\n",
       "    <tr>\n",
       "      <th>vol_change_10</th>\n",
       "      <td>0.016377</td>\n",
       "      <td>0.000992</td>\n",
       "    </tr>\n",
       "    <tr>\n",
       "      <th>ret_10</th>\n",
       "      <td>0.049271</td>\n",
       "      <td>0.003172</td>\n",
       "    </tr>\n",
       "    <tr>\n",
       "      <th>vol_change_20</th>\n",
       "      <td>0.017363</td>\n",
       "      <td>0.001044</td>\n",
       "    </tr>\n",
       "    <tr>\n",
       "      <th>ret_20</th>\n",
       "      <td>0.040755</td>\n",
       "      <td>0.002125</td>\n",
       "    </tr>\n",
       "    <tr>\n",
       "      <th>std_30</th>\n",
       "      <td>0.049694</td>\n",
       "      <td>0.002700</td>\n",
       "    </tr>\n",
       "    <tr>\n",
       "      <th>vol_std_30</th>\n",
       "      <td>0.065610</td>\n",
       "      <td>0.002768</td>\n",
       "    </tr>\n",
       "  </tbody>\n",
       "</table>\n",
       "</div>"
      ],
      "text/plain": [
       "                      mean       std\n",
       "volume_cmf        0.050597  0.002294\n",
       "volume_fi         0.040474  0.002544\n",
       "volume_mfi        0.047050  0.002333\n",
       "volume_sma_em     0.037810  0.001783\n",
       "volume_vpt        0.024294  0.001484\n",
       "volatility_atr    0.074129  0.003002\n",
       "volatility_ui     0.050424  0.002225\n",
       "trend_macd_diff   0.072594  0.003881\n",
       "trend_adx         0.048791  0.002028\n",
       "trend_trix        0.072430  0.003178\n",
       "trend_mass_index  0.070700  0.002919\n",
       "trend_dpo         0.024536  0.001618\n",
       "trend_aroon_ind   0.031721  0.001466\n",
       "momentum_rsi      0.038930  0.002501\n",
       "momentum_wr       0.028105  0.001896\n",
       "vol_change_5      0.016169  0.000997\n",
       "ret_5             0.032174  0.002003\n",
       "vol_change_10     0.016377  0.000992\n",
       "ret_10            0.049271  0.003172\n",
       "vol_change_20     0.017363  0.001044\n",
       "ret_20            0.040755  0.002125\n",
       "std_30            0.049694  0.002700\n",
       "vol_std_30        0.065610  0.002768"
      ]
     },
     "execution_count": 33,
     "metadata": {},
     "output_type": "execute_result"
    }
   ],
   "source": [
    "# MDI, Mean Decrease Impurity \n",
    "feat_imp = imp.mean_decrease_impurity(rfc, X.columns)\n",
    "feat_imp"
   ]
  },
  {
   "cell_type": "markdown",
   "id": "4bc3ba01",
   "metadata": {},
   "source": [
    "- 기존 코드"
   ]
  },
  {
   "cell_type": "code",
   "execution_count": 34,
   "id": "f98703bc",
   "metadata": {},
   "outputs": [],
   "source": [
    "# MDA, Mean Decrease Accuracy\n",
    "svc_rbf = SVC(kernel='rbf', probability=True) \n",
    "cv = KFold(n_splits=5) \n",
    "feat_imp_mda1 = imp.mean_decrease_accuracy(svc_rbf, X_sc, y, cv_gen=cv)"
   ]
  },
  {
   "cell_type": "code",
   "execution_count": 35,
   "id": "6f0cae8e",
   "metadata": {},
   "outputs": [],
   "source": [
    "# plot_feature_importance 함수 만들기\n",
    "def plot_feature_importance(importance_df, save_fig=False, output_path=None):\n",
    "    # Plot mean imp bars with std\n",
    "    plt.figure(figsize=(10, importance_df.shape[0] / 5))\n",
    "    importance_df.sort_values('mean', ascending=True, inplace=True)\n",
    "    importance_df['mean'].plot(kind='barh', color='b', alpha=0.25, xerr=importance_df['std'], error_kw={'ecolor': 'r'})\n",
    "    if save_fig:\n",
    "        plt.savefig(output_path)\n",
    "    else:\n",
    "        plt.show()"
   ]
  },
  {
   "cell_type": "code",
   "execution_count": 37,
   "id": "a1790c68",
   "metadata": {},
   "outputs": [
    {
     "data": {
      "image/png": "[encoded data removed]",
      "text/plain": [
       "<Figure size 720x331.2 with 1 Axes>"
      ]
     },
     "metadata": {
      "needs_background": "light"
     },
     "output_type": "display_data"
    },
    {
     "data": {
      "image/png": "[encoded data removed]",
      "text/plain": [
       "<Figure size 720x331.2 with 1 Axes>"
      ]
     },
     "metadata": {
      "needs_background": "light"
     },
     "output_type": "display_data"
    }
   ],
   "source": [
    "# feat_imp 확인\n",
    "plot_feature_importance(feat_imp)\n",
    "\n",
    "# feat_imp_mda 확인\n",
    "plot_feature_importance(feat_imp_mda1)"
   ]
  },
  {
   "cell_type": "markdown",
   "id": "fb459ff9",
   "metadata": {},
   "source": [
    "- n_splits 변경"
   ]
  },
  {
   "cell_type": "code",
   "execution_count": 38,
   "id": "21c0eb59",
   "metadata": {},
   "outputs": [],
   "source": [
    "# MDA, Mean Decrease Accuracy\n",
    "svc_rbf = SVC(kernel='rbf', probability=True) \n",
    "cv = KFold(n_splits=20) # n_splits을 변경해봅시다.\n",
    "feat_imp_mda2 = imp.mean_decrease_accuracy(svc_rbf, X_sc, y, cv_gen=cv)"
   ]
  },
  {
   "cell_type": "code",
   "execution_count": 39,
   "id": "55d61828",
   "metadata": {},
   "outputs": [
    {
     "data": {
      "image/png": "[encoded data removed]",
      "text/plain": [
       "<Figure size 720x331.2 with 1 Axes>"
      ]
     },
     "metadata": {
      "needs_background": "light"
     },
     "output_type": "display_data"
    },
    {
     "data": {
      "image/png": "[encoded data removed]",
      "text/plain": [
       "<Figure size 720x331.2 with 1 Axes>"
      ]
     },
     "metadata": {
      "needs_background": "light"
     },
     "output_type": "display_data"
    }
   ],
   "source": [
    "# feat_imp 확인\n",
    "plot_feature_importance(feat_imp)\n",
    "\n",
    "# feat_imp_mda 확인\n",
    "plot_feature_importance(feat_imp_mda2)"
   ]
  },
  {
   "cell_type": "markdown",
   "id": "256fb5e1",
   "metadata": {},
   "source": [
    "- 다른 분류기(xgboost)"
   ]
  },
  {
   "cell_type": "code",
   "execution_count": 40,
   "id": "2ce5bc42",
   "metadata": {},
   "outputs": [
    {
     "name": "stdout",
     "output_type": "stream",
     "text": [
      "[05:47:49] WARNING: ../src/learner.cc:1095: Starting in XGBoost 1.3.0, the default evaluation metric used with the objective 'multi:softprob' was changed from 'merror' to 'mlogloss'. Explicitly set eval_metric if you'd like to restore the old behavior.\n",
      "[05:47:49] WARNING: ../src/learner.cc:1095: Starting in XGBoost 1.3.0, the default evaluation metric used with the objective 'multi:softprob' was changed from 'merror' to 'mlogloss'. Explicitly set eval_metric if you'd like to restore the old behavior.\n",
      "[05:47:49] WARNING: ../src/learner.cc:1095: Starting in XGBoost 1.3.0, the default evaluation metric used with the objective 'multi:softprob' was changed from 'merror' to 'mlogloss'. Explicitly set eval_metric if you'd like to restore the old behavior.\n",
      "[05:47:49] WARNING: ../src/learner.cc:1095: Starting in XGBoost 1.3.0, the default evaluation metric used with the objective 'multi:softprob' was changed from 'merror' to 'mlogloss'. Explicitly set eval_metric if you'd like to restore the old behavior.\n",
      "[05:47:50] WARNING: ../src/learner.cc:1095: Starting in XGBoost 1.3.0, the default evaluation metric used with the objective 'multi:softprob' was changed from 'merror' to 'mlogloss'. Explicitly set eval_metric if you'd like to restore the old behavior.\n"
     ]
    }
   ],
   "source": [
    "# MDA, Mean Decrease Accuracy\n",
    "from xgboost import XGBClassifier\n",
    "xgb_model = XGBClassifier(booster = 'gbtree', max_depth=7, learning_rate=0.5, n_estimators=20, random_state=0)\n",
    "cv = KFold(n_splits=5) \n",
    "feat_imp_mda3 = imp.mean_decrease_accuracy(xgb_model, X_sc, y, cv_gen=cv)"
   ]
  },
  {
   "cell_type": "code",
   "execution_count": 41,
   "id": "1ad12761",
   "metadata": {},
   "outputs": [
    {
     "data": {
      "image/png": "[encoded data removed]",
      "text/plain": [
       "<Figure size 720x331.2 with 1 Axes>"
      ]
     },
     "metadata": {
      "needs_background": "light"
     },
     "output_type": "display_data"
    },
    {
     "data": {
      "image/png": "[encoded data removed]",
      "text/plain": [
       "<Figure size 720x331.2 with 1 Axes>"
      ]
     },
     "metadata": {
      "needs_background": "light"
     },
     "output_type": "display_data"
    }
   ],
   "source": [
    "# feat_imp 확인\n",
    "plot_feature_importance(feat_imp)\n",
    "\n",
    "# feat_imp_mda 확인\n",
    "plot_feature_importance(feat_imp_mda3)"
   ]
  },
  {
   "cell_type": "markdown",
   "id": "3e33d608",
   "metadata": {},
   "source": [
    "- 결과 비교"
   ]
  },
  {
   "cell_type": "code",
   "execution_count": 42,
   "id": "97a8fd0b",
   "metadata": {},
   "outputs": [
    {
     "data": {
      "image/png": "[encoded data removed]",
      "text/plain": [
       "<Figure size 720x331.2 with 1 Axes>"
      ]
     },
     "metadata": {
      "needs_background": "light"
     },
     "output_type": "display_data"
    },
    {
     "data": {
      "image/png": "[encoded data removed]",
      "text/plain": [
       "<Figure size 720x331.2 with 1 Axes>"
      ]
     },
     "metadata": {
      "needs_background": "light"
     },
     "output_type": "display_data"
    },
    {
     "data": {
      "image/png": "[encoded data removed]",
      "text/plain": [
       "<Figure size 720x331.2 with 1 Axes>"
      ]
     },
     "metadata": {
      "needs_background": "light"
     },
     "output_type": "display_data"
    }
   ],
   "source": [
    "plot_feature_importance(feat_imp_mda1)\n",
    "plot_feature_importance(feat_imp_mda2)\n",
    "plot_feature_importance(feat_imp_mda3)"
   ]
  },
  {
   "cell_type": "markdown",
   "id": "0a019439",
   "metadata": {},
   "source": [
    "### RFE CV, Recursive Feature Elimination\n",
    "---"
   ]
  },
  {
   "cell_type": "code",
   "execution_count": 43,
   "id": "725e81ac",
   "metadata": {},
   "outputs": [],
   "source": [
    "# RFE CV, Recursive Feature Elimination\n",
    "svc_rbf = SVC(kernel='linear', probability=True)\n",
    "rfe_cv = RFECV(svc_rbf, cv=cv)\n",
    "rfe_fitted = rfe_cv.fit(X_sc, y)"
   ]
  },
  {
   "cell_type": "code",
   "execution_count": 44,
   "id": "ac8bf8ae",
   "metadata": {},
   "outputs": [
    {
     "name": "stdout",
     "output_type": "stream",
     "text": [
      "Optimal number of features: 3\n"
     ]
    }
   ],
   "source": [
    "print(\"Optimal number of features: {}\".format(rfe_cv.n_features_))"
   ]
  },
  {
   "cell_type": "code",
   "execution_count": 45,
   "id": "94c2c569",
   "metadata": {},
   "outputs": [
    {
     "name": "stdout",
     "output_type": "stream",
     "text": [
      "Selected features: Index(['volatility_atr', 'trend_macd_diff', 'std_30'], dtype='object')\n"
     ]
    }
   ],
   "source": [
    "print(\"Selected features: {}\".format(X_sc.columns[rfe_fitted.support_]))"
   ]
  },
  {
   "cell_type": "code",
   "execution_count": 46,
   "id": "85312816",
   "metadata": {},
   "outputs": [
    {
     "data": {
      "image/png": "[encoded data removed]",
      "text/plain": [
       "<Figure size 432x288 with 1 Axes>"
      ]
     },
     "metadata": {
      "needs_background": "light"
     },
     "output_type": "display_data"
    }
   ],
   "source": [
    "import matplotlib.pyplot as plt\n",
    "\n",
    "plt.figure()\n",
    "plt.xlabel(\"Number of features selected\")\n",
    "plt.ylabel(\"Cross-validation score (accuracy)\")\n",
    "plt.plot(range(1, len(rfe_cv.grid_scores_) + 1), rfe_cv.grid_scores_)\n",
    "plt.show()"
   ]
  },
  {
   "cell_type": "markdown",
   "id": "625e3ff7",
   "metadata": {},
   "source": [
    "RFECV를 통해 선택된 최적의 변수는 'volatility_atr', 'trend_macd_diff', 'std_30'로 총 3개이다."
   ]
  },
  {
   "cell_type": "markdown",
   "id": "d067a231",
   "metadata": {},
   "source": [
    "### SFS, Sequential Feature Selection\n",
    "---"
   ]
  },
  {
   "cell_type": "code",
   "execution_count": 47,
   "id": "614e3c35",
   "metadata": {},
   "outputs": [],
   "source": [
    "# SFS, Sequential Feature Selection\n",
    "sfs_forward = SequentialFeatureSelector(svc_rbf, n_features_to_select=2, direction='forward')\n",
    "sfs_fitted = sfs_forward.fit(X_sc, y)"
   ]
  },
  {
   "cell_type": "code",
   "execution_count": 48,
   "id": "9fc628a2",
   "metadata": {},
   "outputs": [
    {
     "name": "stdout",
     "output_type": "stream",
     "text": [
      "Selected features: Index(['volume_mfi', 'trend_macd_diff'], dtype='object')\n"
     ]
    }
   ],
   "source": [
    "print(\"Selected features: {}\".format(X_sc.columns[sfs_fitted.support_]))"
   ]
  },
  {
   "cell_type": "markdown",
   "id": "cdf60c5f",
   "metadata": {},
   "source": [
    "SFS를 통해 선택된 최적의 변수는 'volume_mfi', 'trend_macd_diff'로 총 2개이다."
   ]
  },
  {
   "cell_type": "markdown",
   "id": "63641d47",
   "metadata": {},
   "source": [
    "### SHAP, Shapley Additive explanations\n",
    "---"
   ]
  },
  {
   "cell_type": "code",
   "execution_count": 49,
   "id": "f2ca0bc7",
   "metadata": {},
   "outputs": [],
   "source": [
    "# SHAP, Shapley Additive explanations\n",
    "import shap\n",
    "explainer = shap.TreeExplainer(rfc)\n",
    "shap_value = explainer.shap_values(X_sc)"
   ]
  },
  {
   "cell_type": "code",
   "execution_count": 50,
   "id": "c32976a0",
   "metadata": {},
   "outputs": [
    {
     "data": {
      "image/png": "[encoded data removed]",
      "text/plain": [
       "<Figure size 576x684 with 1 Axes>"
      ]
     },
     "metadata": {
      "needs_background": "light"
     },
     "output_type": "display_data"
    }
   ],
   "source": [
    "# shap_value, X_sc 사용 shap.summary_plot 그리기\n",
    "shap.summary_plot(shap_value, X_sc)"
   ]
  },
  {
   "cell_type": "markdown",
   "id": "47b54660",
   "metadata": {},
   "source": [
    "#### MDI/MDA, RFECV, SFS, SHAP 방식을 통해 나온 결론은 'trend_macd_diff'는 꼭 선택 되어야 하는 변수이다."
   ]
  },
  {
   "cell_type": "markdown",
   "id": "a1370f7e",
   "metadata": {},
   "source": [
    "# 3. 프로젝트 : Model Traning\n",
    "---\n",
    "① 환경구성 및 데이터 불러오기\n",
    "\n",
    "② Purged K-fold for Cross-Validation적용하기\n",
    "\n",
    "③ Model 적용하기"
   ]
  },
  {
   "cell_type": "markdown",
   "id": "2d6b67c2",
   "metadata": {},
   "source": [
    "## 기존 결과\n",
    "- X_sc.shape: (957, 23)\n",
    "- 데이터 비율: 7:2\n",
    "- 데이터 개수: train_x.shape, train_y.shape, test_x.shape, test_y.shape = ((670, 23), (670,), (191, 23), (191,))\n",
    "- PKFold의 split 개수: 4"
   ]
  },
  {
   "cell_type": "markdown",
   "id": "f50a644b",
   "metadata": {},
   "source": [
    "## ① 환경구성 및 데이터 불러오기\n",
    "---"
   ]
  },
  {
   "cell_type": "code",
   "execution_count": 51,
   "id": "cee62666",
   "metadata": {},
   "outputs": [],
   "source": [
    "import datetime\n",
    "import sys\n",
    "import os\n",
    "import re\n",
    "import io\n",
    "import json\n",
    "import numpy as np\n",
    "import pandas as pd\n",
    "import matplotlib.pyplot as plt\n",
    "import ta\n",
    "\n",
    "from sklearn.preprocessing import StandardScaler\n",
    "from sklearn.model_selection import GridSearchCV\n",
    "from sklearn.model_selection import KFold\n",
    "from sklearn.ensemble import RandomForestClassifier, BaggingClassifier\n",
    "from sklearn.metrics import accuracy_score, precision_score, recall_score, confusion_matrix, f1_score, roc_auc_score, roc_curve\n",
    "\n",
    "sys.path.append('/aiffel/aiffel/time_series/fnguide/data/')\n",
    "from libs.mlutil.pkfold import PKFold"
   ]
  },
  {
   "cell_type": "code",
   "execution_count": 52,
   "id": "7f79fd0e",
   "metadata": {},
   "outputs": [],
   "source": [
    "# 데이터 경로 설정 및 pickle 파일 불러오기\n",
    "DATA_PATH = '/aiffel/aiffel/time_series/fnguide/data/'\n",
    "data_file_name = os.path.join(DATA_PATH, 'sub_upbit_eth_min_feature_labels.pkl')"
   ]
  },
  {
   "cell_type": "code",
   "execution_count": 53,
   "id": "5f51bb33",
   "metadata": {},
   "outputs": [],
   "source": [
    "df_data = pd.read_pickle(data_file_name)\n",
    "df_data['t_value'] = df_data['t_value'].apply(lambda x: x if x == 1 else 0)"
   ]
  },
  {
   "cell_type": "code",
   "execution_count": 54,
   "id": "f054b953",
   "metadata": {},
   "outputs": [
    {
     "data": {
      "text/plain": [
       "1.0    481\n",
       "0.0    476\n",
       "Name: t_value, dtype: int64"
      ]
     },
     "execution_count": 54,
     "metadata": {},
     "output_type": "execute_result"
    }
   ],
   "source": [
    "# 여기서부터 모델에 적용하기 위한 데이터 정제화를 시작합니다.\n",
    "df_data['t_value'].value_counts()"
   ]
  },
  {
   "cell_type": "code",
   "execution_count": 55,
   "id": "5bd44996",
   "metadata": {},
   "outputs": [],
   "source": [
    "# 데이터셋 비율 나누기\n",
    "train_ratio, test_ratio = 0.7, 0.2\n",
    "n_train = int(np.round(len(df_data) * train_ratio))\n",
    "n_test = int(np.round(len(df_data) * test_ratio))\n",
    "\n",
    "X, y = df_data.iloc[:, 5:-1], df_data.iloc[:, -1]"
   ]
  },
  {
   "cell_type": "code",
   "execution_count": 56,
   "id": "b352d796",
   "metadata": {},
   "outputs": [],
   "source": [
    "# standardzation\n",
    "sc = StandardScaler()\n",
    "X_sc = sc.fit_transform(X)"
   ]
  },
  {
   "cell_type": "code",
   "execution_count": 57,
   "id": "0f36fb61",
   "metadata": {},
   "outputs": [
    {
     "data": {
      "text/plain": [
       "(957, 23)"
      ]
     },
     "execution_count": 57,
     "metadata": {},
     "output_type": "execute_result"
    }
   ],
   "source": [
    "X_sc.shape"
   ]
  },
  {
   "cell_type": "code",
   "execution_count": 122,
   "id": "cdfa5faa",
   "metadata": {},
   "outputs": [
    {
     "data": {
      "text/html": [
       "<div>\n",
       "<style scoped>\n",
       "    .dataframe tbody tr th:only-of-type {\n",
       "        vertical-align: middle;\n",
       "    }\n",
       "\n",
       "    .dataframe tbody tr th {\n",
       "        vertical-align: top;\n",
       "    }\n",
       "\n",
       "    .dataframe thead th {\n",
       "        text-align: right;\n",
       "    }\n",
       "</style>\n",
       "<table border=\"1\" class=\"dataframe\">\n",
       "  <thead>\n",
       "    <tr style=\"text-align: right;\">\n",
       "      <th></th>\n",
       "      <th>open</th>\n",
       "      <th>high</th>\n",
       "      <th>low</th>\n",
       "      <th>close</th>\n",
       "      <th>volume</th>\n",
       "      <th>volume_cmf</th>\n",
       "      <th>volume_fi</th>\n",
       "      <th>volume_mfi</th>\n",
       "      <th>volume_sma_em</th>\n",
       "      <th>volume_vpt</th>\n",
       "      <th>...</th>\n",
       "      <th>momentum_wr</th>\n",
       "      <th>vol_change_5</th>\n",
       "      <th>ret_5</th>\n",
       "      <th>vol_change_10</th>\n",
       "      <th>ret_10</th>\n",
       "      <th>vol_change_20</th>\n",
       "      <th>ret_20</th>\n",
       "      <th>std_30</th>\n",
       "      <th>vol_std_30</th>\n",
       "      <th>t_value</th>\n",
       "    </tr>\n",
       "    <tr>\n",
       "      <th>time</th>\n",
       "      <th></th>\n",
       "      <th></th>\n",
       "      <th></th>\n",
       "      <th></th>\n",
       "      <th></th>\n",
       "      <th></th>\n",
       "      <th></th>\n",
       "      <th></th>\n",
       "      <th></th>\n",
       "      <th></th>\n",
       "      <th></th>\n",
       "      <th></th>\n",
       "      <th></th>\n",
       "      <th></th>\n",
       "      <th></th>\n",
       "      <th></th>\n",
       "      <th></th>\n",
       "      <th></th>\n",
       "      <th></th>\n",
       "      <th></th>\n",
       "      <th></th>\n",
       "    </tr>\n",
       "  </thead>\n",
       "  <tbody>\n",
       "    <tr>\n",
       "      <th>2018-01-01 00:43:00</th>\n",
       "      <td>1017500</td>\n",
       "      <td>1019000</td>\n",
       "      <td>1017500</td>\n",
       "      <td>1018500</td>\n",
       "      <td>30.272135</td>\n",
       "      <td>0.363435</td>\n",
       "      <td>719.550725</td>\n",
       "      <td>56.072055</td>\n",
       "      <td>8.940793e+11</td>\n",
       "      <td>0.036253</td>\n",
       "      <td>...</td>\n",
       "      <td>-42.105263</td>\n",
       "      <td>-0.678913</td>\n",
       "      <td>0.000000</td>\n",
       "      <td>-0.318982</td>\n",
       "      <td>0.000000</td>\n",
       "      <td>-0.818597</td>\n",
       "      <td>0.004438</td>\n",
       "      <td>2348.636190</td>\n",
       "      <td>34.165561</td>\n",
       "      <td>1.0</td>\n",
       "    </tr>\n",
       "    <tr>\n",
       "      <th>2018-01-01 00:44:00</th>\n",
       "      <td>1018500</td>\n",
       "      <td>1021500</td>\n",
       "      <td>1018000</td>\n",
       "      <td>1021500</td>\n",
       "      <td>25.131162</td>\n",
       "      <td>0.368141</td>\n",
       "      <td>10053.792799</td>\n",
       "      <td>54.776628</td>\n",
       "      <td>2.480511e+12</td>\n",
       "      <td>0.103776</td>\n",
       "      <td>...</td>\n",
       "      <td>-10.526316</td>\n",
       "      <td>-0.294524</td>\n",
       "      <td>0.007396</td>\n",
       "      <td>-0.266406</td>\n",
       "      <td>0.000490</td>\n",
       "      <td>-0.363379</td>\n",
       "      <td>0.006404</td>\n",
       "      <td>2465.217810</td>\n",
       "      <td>34.384398</td>\n",
       "      <td>1.0</td>\n",
       "    </tr>\n",
       "    <tr>\n",
       "      <th>2018-01-01 00:45:00</th>\n",
       "      <td>1021500</td>\n",
       "      <td>1022000</td>\n",
       "      <td>1020000</td>\n",
       "      <td>1020000</td>\n",
       "      <td>17.108609</td>\n",
       "      <td>0.365340</td>\n",
       "      <td>5589.204549</td>\n",
       "      <td>56.034287</td>\n",
       "      <td>3.376449e+12</td>\n",
       "      <td>0.048901</td>\n",
       "      <td>...</td>\n",
       "      <td>-27.777778</td>\n",
       "      <td>0.260837</td>\n",
       "      <td>0.001965</td>\n",
       "      <td>-0.341287</td>\n",
       "      <td>0.000981</td>\n",
       "      <td>-0.293731</td>\n",
       "      <td>0.006413</td>\n",
       "      <td>2505.453821</td>\n",
       "      <td>34.506907</td>\n",
       "      <td>1.0</td>\n",
       "    </tr>\n",
       "    <tr>\n",
       "      <th>2018-01-01 00:46:00</th>\n",
       "      <td>1020000</td>\n",
       "      <td>1025000</td>\n",
       "      <td>1019000</td>\n",
       "      <td>1025000</td>\n",
       "      <td>44.289130</td>\n",
       "      <td>0.358534</td>\n",
       "      <td>32571.260299</td>\n",
       "      <td>50.196394</td>\n",
       "      <td>2.908715e+12</td>\n",
       "      <td>0.191981</td>\n",
       "      <td>...</td>\n",
       "      <td>-0.000000</td>\n",
       "      <td>2.165060</td>\n",
       "      <td>0.008362</td>\n",
       "      <td>-0.091323</td>\n",
       "      <td>0.003918</td>\n",
       "      <td>-0.168955</td>\n",
       "      <td>0.010848</td>\n",
       "      <td>2848.118960</td>\n",
       "      <td>33.965563</td>\n",
       "      <td>1.0</td>\n",
       "    </tr>\n",
       "    <tr>\n",
       "      <th>2018-01-01 00:47:00</th>\n",
       "      <td>1020000</td>\n",
       "      <td>1020000</td>\n",
       "      <td>1019000</td>\n",
       "      <td>1019000</td>\n",
       "      <td>10.224255</td>\n",
       "      <td>0.327429</td>\n",
       "      <td>20831.661354</td>\n",
       "      <td>45.446741</td>\n",
       "      <td>-6.760619e+11</td>\n",
       "      <td>0.157254</td>\n",
       "      <td>...</td>\n",
       "      <td>-52.173913</td>\n",
       "      <td>0.547160</td>\n",
       "      <td>0.001474</td>\n",
       "      <td>-0.855580</td>\n",
       "      <td>0.000491</td>\n",
       "      <td>-0.723566</td>\n",
       "      <td>0.003447</td>\n",
       "      <td>2855.524994</td>\n",
       "      <td>34.696090</td>\n",
       "      <td>1.0</td>\n",
       "    </tr>\n",
       "    <tr>\n",
       "      <th>...</th>\n",
       "      <td>...</td>\n",
       "      <td>...</td>\n",
       "      <td>...</td>\n",
       "      <td>...</td>\n",
       "      <td>...</td>\n",
       "      <td>...</td>\n",
       "      <td>...</td>\n",
       "      <td>...</td>\n",
       "      <td>...</td>\n",
       "      <td>...</td>\n",
       "      <td>...</td>\n",
       "      <td>...</td>\n",
       "      <td>...</td>\n",
       "      <td>...</td>\n",
       "      <td>...</td>\n",
       "      <td>...</td>\n",
       "      <td>...</td>\n",
       "      <td>...</td>\n",
       "      <td>...</td>\n",
       "      <td>...</td>\n",
       "      <td>...</td>\n",
       "    </tr>\n",
       "    <tr>\n",
       "      <th>2018-01-01 16:35:00</th>\n",
       "      <td>1052500</td>\n",
       "      <td>1052500</td>\n",
       "      <td>1052500</td>\n",
       "      <td>1052500</td>\n",
       "      <td>6.084122</td>\n",
       "      <td>-0.232633</td>\n",
       "      <td>-2275.848327</td>\n",
       "      <td>71.279251</td>\n",
       "      <td>-3.186964e+12</td>\n",
       "      <td>0.007381</td>\n",
       "      <td>...</td>\n",
       "      <td>-0.000000</td>\n",
       "      <td>-0.817192</td>\n",
       "      <td>0.002381</td>\n",
       "      <td>-0.265538</td>\n",
       "      <td>0.003815</td>\n",
       "      <td>0.703781</td>\n",
       "      <td>0.000000</td>\n",
       "      <td>1811.600550</td>\n",
       "      <td>15.025354</td>\n",
       "      <td>0.0</td>\n",
       "    </tr>\n",
       "    <tr>\n",
       "      <th>2018-01-01 16:36:00</th>\n",
       "      <td>1052500</td>\n",
       "      <td>1052500</td>\n",
       "      <td>1049500</td>\n",
       "      <td>1050000</td>\n",
       "      <td>9.205537</td>\n",
       "      <td>-0.165805</td>\n",
       "      <td>-4868.097577</td>\n",
       "      <td>67.762226</td>\n",
       "      <td>-3.097651e+12</td>\n",
       "      <td>-0.021866</td>\n",
       "      <td>...</td>\n",
       "      <td>-62.500000</td>\n",
       "      <td>0.394890</td>\n",
       "      <td>0.000000</td>\n",
       "      <td>0.274989</td>\n",
       "      <td>0.001431</td>\n",
       "      <td>-0.625893</td>\n",
       "      <td>-0.002375</td>\n",
       "      <td>1787.568824</td>\n",
       "      <td>9.944774</td>\n",
       "      <td>0.0</td>\n",
       "    </tr>\n",
       "    <tr>\n",
       "      <th>2018-01-01 16:37:00</th>\n",
       "      <td>1050000</td>\n",
       "      <td>1050000</td>\n",
       "      <td>1049000</td>\n",
       "      <td>1049000</td>\n",
       "      <td>3.472849</td>\n",
       "      <td>-0.161093</td>\n",
       "      <td>-4693.691500</td>\n",
       "      <td>74.267351</td>\n",
       "      <td>-5.977131e+12</td>\n",
       "      <td>-0.025173</td>\n",
       "      <td>...</td>\n",
       "      <td>-87.500000</td>\n",
       "      <td>-0.279019</td>\n",
       "      <td>-0.001903</td>\n",
       "      <td>-0.609186</td>\n",
       "      <td>0.000477</td>\n",
       "      <td>-0.849066</td>\n",
       "      <td>-0.003325</td>\n",
       "      <td>1763.291071</td>\n",
       "      <td>9.932495</td>\n",
       "      <td>0.0</td>\n",
       "    </tr>\n",
       "    <tr>\n",
       "      <th>2018-01-01 16:38:00</th>\n",
       "      <td>1049000</td>\n",
       "      <td>1050000</td>\n",
       "      <td>1049000</td>\n",
       "      <td>1050000</td>\n",
       "      <td>2.364323</td>\n",
       "      <td>-0.299977</td>\n",
       "      <td>-3811.439691</td>\n",
       "      <td>74.089889</td>\n",
       "      <td>-6.994895e+12</td>\n",
       "      <td>-0.001054</td>\n",
       "      <td>...</td>\n",
       "      <td>-62.500000</td>\n",
       "      <td>-0.922960</td>\n",
       "      <td>0.000000</td>\n",
       "      <td>-0.517812</td>\n",
       "      <td>0.000953</td>\n",
       "      <td>-0.901798</td>\n",
       "      <td>-0.003322</td>\n",
       "      <td>1658.225752</td>\n",
       "      <td>9.974310</td>\n",
       "      <td>0.0</td>\n",
       "    </tr>\n",
       "    <tr>\n",
       "      <th>2018-01-01 16:39:00</th>\n",
       "      <td>1050000</td>\n",
       "      <td>1050000</td>\n",
       "      <td>1049000</td>\n",
       "      <td>1050000</td>\n",
       "      <td>18.149551</td>\n",
       "      <td>-0.160143</td>\n",
       "      <td>-3335.009730</td>\n",
       "      <td>77.709233</td>\n",
       "      <td>-6.994895e+12</td>\n",
       "      <td>0.002254</td>\n",
       "      <td>...</td>\n",
       "      <td>-62.500000</td>\n",
       "      <td>4.854694</td>\n",
       "      <td>-0.002375</td>\n",
       "      <td>0.402812</td>\n",
       "      <td>0.000000</td>\n",
       "      <td>1.325085</td>\n",
       "      <td>-0.000476</td>\n",
       "      <td>1486.432897</td>\n",
       "      <td>9.893716</td>\n",
       "      <td>0.0</td>\n",
       "    </tr>\n",
       "  </tbody>\n",
       "</table>\n",
       "<p>957 rows × 29 columns</p>\n",
       "</div>"
      ],
      "text/plain": [
       "                        open     high      low    close     volume  \\\n",
       "time                                                                 \n",
       "2018-01-01 00:43:00  1017500  1019000  1017500  1018500  30.272135   \n",
       "2018-01-01 00:44:00  1018500  1021500  1018000  1021500  25.131162   \n",
       "2018-01-01 00:45:00  1021500  1022000  1020000  1020000  17.108609   \n",
       "2018-01-01 00:46:00  1020000  1025000  1019000  1025000  44.289130   \n",
       "2018-01-01 00:47:00  1020000  1020000  1019000  1019000  10.224255   \n",
       "...                      ...      ...      ...      ...        ...   \n",
       "2018-01-01 16:35:00  1052500  1052500  1052500  1052500   6.084122   \n",
       "2018-01-01 16:36:00  1052500  1052500  1049500  1050000   9.205537   \n",
       "2018-01-01 16:37:00  1050000  1050000  1049000  1049000   3.472849   \n",
       "2018-01-01 16:38:00  1049000  1050000  1049000  1050000   2.364323   \n",
       "2018-01-01 16:39:00  1050000  1050000  1049000  1050000  18.149551   \n",
       "\n",
       "                     volume_cmf     volume_fi  volume_mfi  volume_sma_em  \\\n",
       "time                                                                       \n",
       "2018-01-01 00:43:00    0.363435    719.550725   56.072055   8.940793e+11   \n",
       "2018-01-01 00:44:00    0.368141  10053.792799   54.776628   2.480511e+12   \n",
       "2018-01-01 00:45:00    0.365340   5589.204549   56.034287   3.376449e+12   \n",
       "2018-01-01 00:46:00    0.358534  32571.260299   50.196394   2.908715e+12   \n",
       "2018-01-01 00:47:00    0.327429  20831.661354   45.446741  -6.760619e+11   \n",
       "...                         ...           ...         ...            ...   \n",
       "2018-01-01 16:35:00   -0.232633  -2275.848327   71.279251  -3.186964e+12   \n",
       "2018-01-01 16:36:00   -0.165805  -4868.097577   67.762226  -3.097651e+12   \n",
       "2018-01-01 16:37:00   -0.161093  -4693.691500   74.267351  -5.977131e+12   \n",
       "2018-01-01 16:38:00   -0.299977  -3811.439691   74.089889  -6.994895e+12   \n",
       "2018-01-01 16:39:00   -0.160143  -3335.009730   77.709233  -6.994895e+12   \n",
       "\n",
       "                     volume_vpt  ...  momentum_wr  vol_change_5     ret_5  \\\n",
       "time                             ...                                        \n",
       "2018-01-01 00:43:00    0.036253  ...   -42.105263     -0.678913  0.000000   \n",
       "2018-01-01 00:44:00    0.103776  ...   -10.526316     -0.294524  0.007396   \n",
       "2018-01-01 00:45:00    0.048901  ...   -27.777778      0.260837  0.001965   \n",
       "2018-01-01 00:46:00    0.191981  ...    -0.000000      2.165060  0.008362   \n",
       "2018-01-01 00:47:00    0.157254  ...   -52.173913      0.547160  0.001474   \n",
       "...                         ...  ...          ...           ...       ...   \n",
       "2018-01-01 16:35:00    0.007381  ...    -0.000000     -0.817192  0.002381   \n",
       "2018-01-01 16:36:00   -0.021866  ...   -62.500000      0.394890  0.000000   \n",
       "2018-01-01 16:37:00   -0.025173  ...   -87.500000     -0.279019 -0.001903   \n",
       "2018-01-01 16:38:00   -0.001054  ...   -62.500000     -0.922960  0.000000   \n",
       "2018-01-01 16:39:00    0.002254  ...   -62.500000      4.854694 -0.002375   \n",
       "\n",
       "                     vol_change_10    ret_10  vol_change_20    ret_20  \\\n",
       "time                                                                    \n",
       "2018-01-01 00:43:00      -0.318982  0.000000      -0.818597  0.004438   \n",
       "2018-01-01 00:44:00      -0.266406  0.000490      -0.363379  0.006404   \n",
       "2018-01-01 00:45:00      -0.341287  0.000981      -0.293731  0.006413   \n",
       "2018-01-01 00:46:00      -0.091323  0.003918      -0.168955  0.010848   \n",
       "2018-01-01 00:47:00      -0.855580  0.000491      -0.723566  0.003447   \n",
       "...                            ...       ...            ...       ...   \n",
       "2018-01-01 16:35:00      -0.265538  0.003815       0.703781  0.000000   \n",
       "2018-01-01 16:36:00       0.274989  0.001431      -0.625893 -0.002375   \n",
       "2018-01-01 16:37:00      -0.609186  0.000477      -0.849066 -0.003325   \n",
       "2018-01-01 16:38:00      -0.517812  0.000953      -0.901798 -0.003322   \n",
       "2018-01-01 16:39:00       0.402812  0.000000       1.325085 -0.000476   \n",
       "\n",
       "                          std_30  vol_std_30  t_value  \n",
       "time                                                   \n",
       "2018-01-01 00:43:00  2348.636190   34.165561      1.0  \n",
       "2018-01-01 00:44:00  2465.217810   34.384398      1.0  \n",
       "2018-01-01 00:45:00  2505.453821   34.506907      1.0  \n",
       "2018-01-01 00:46:00  2848.118960   33.965563      1.0  \n",
       "2018-01-01 00:47:00  2855.524994   34.696090      1.0  \n",
       "...                          ...         ...      ...  \n",
       "2018-01-01 16:35:00  1811.600550   15.025354      0.0  \n",
       "2018-01-01 16:36:00  1787.568824    9.944774      0.0  \n",
       "2018-01-01 16:37:00  1763.291071    9.932495      0.0  \n",
       "2018-01-01 16:38:00  1658.225752    9.974310      0.0  \n",
       "2018-01-01 16:39:00  1486.432897    9.893716      0.0  \n",
       "\n",
       "[957 rows x 29 columns]"
      ]
     },
     "execution_count": 122,
     "metadata": {},
     "output_type": "execute_result"
    }
   ],
   "source": [
    "df_data"
   ]
  },
  {
   "cell_type": "code",
   "execution_count": 58,
   "id": "a44f65e3",
   "metadata": {},
   "outputs": [],
   "source": [
    "# 데이터셋 분리\n",
    "train_x, test_x, train_y, test_y = X_sc[:n_train, :], X_sc[-n_test:, :], y.iloc[:n_train], y.iloc[-n_test:]\n",
    "\n",
    "train_x = pd.DataFrame(train_x, index=train_y.index, columns=X.columns)\n",
    "train_y = pd.Series(train_y, index=train_y.index)\n",
    "test_x = pd.DataFrame(test_x, index=test_y.index, columns=X.columns)\n",
    "test_y = pd.Series(test_y, index=test_y.index)"
   ]
  },
  {
   "cell_type": "code",
   "execution_count": 59,
   "id": "77682006",
   "metadata": {},
   "outputs": [
    {
     "data": {
      "text/plain": [
       "((670, 23), (670,), (191, 23), (191,))"
      ]
     },
     "execution_count": 59,
     "metadata": {},
     "output_type": "execute_result"
    }
   ],
   "source": [
    "train_x.shape, train_y.shape, test_x.shape, test_y.shape"
   ]
  },
  {
   "cell_type": "markdown",
   "id": "a1572b60",
   "metadata": {},
   "source": [
    "## ② Purged K-fold for Cross-Validation적용하기\n",
    "---"
   ]
  },
  {
   "cell_type": "code",
   "execution_count": 60,
   "id": "cf079ac5",
   "metadata": {},
   "outputs": [],
   "source": [
    "n_cv = 4 # 앞에서 지정한 값은 4입니다. 얼마를 넣을지 생각해보고 왜 이 값을 넣었는지에 대해서 설명해봅시다.\n",
    "t1 = pd.Series(train_y.index.values, index=train_y.index)\n",
    "\n",
    "# purged K-Fold \n",
    "cv = PKFold(n_cv, t1, 0)"
   ]
  },
  {
   "cell_type": "code",
   "execution_count": 61,
   "id": "e4f1793d",
   "metadata": {},
   "outputs": [
    {
     "data": {
      "text/plain": [
       "PKFold(n_splits=4, pct_embargo=0,\n",
       "    samples_info_sets=time\n",
       "2018-01-01 00:43:00   2018-01-01 00:43:00\n",
       "2018-01-01 00:44:00   2018-01-01 00:44:00\n",
       "2018-01-01 00:45:00   2018-01-01 00:45:00\n",
       "2018-01-01 00:46:00   2018-01-01 00:46:00\n",
       "2018-01-01 00:47:00   2018-01-01 00:47:00\n",
       "                              ...\n",
       "2018-01-01 11:48:00   201...0   2018-01-01 11:51:00\n",
       "2018-01-01 11:52:00   2018-01-01 11:52:00\n",
       "Length: 670, dtype: datetime64[ns])"
      ]
     },
     "execution_count": 61,
     "metadata": {},
     "output_type": "execute_result"
    }
   ],
   "source": [
    "cv"
   ]
  },
  {
   "cell_type": "code",
   "execution_count": 62,
   "id": "e93d90ff",
   "metadata": {},
   "outputs": [],
   "source": [
    "# GridsearchCV에서 사용할 파라미터 설정합니다. 파라미터값을 바꿔보세요\n",
    "bc_params = {'n_estimators': [5, 10, 20],\n",
    "             'max_features': [0.5, 0.7],\n",
    "             'base_estimator__max_depth': [3,5,10,20],\n",
    "             'base_estimator__max_features': [None, 'auto'],\n",
    "             'base_estimator__min_samples_leaf': [3, 5, 10],\n",
    "             'bootstrap_features': [False, True]\n",
    "            }"
   ]
  },
  {
   "cell_type": "code",
   "execution_count": 63,
   "id": "68ffa492",
   "metadata": {},
   "outputs": [],
   "source": [
    "# RandomForest 사용\n",
    "rfc = RandomForestClassifier(class_weight='balanced')"
   ]
  },
  {
   "cell_type": "code",
   "execution_count": 64,
   "id": "b56a6b92",
   "metadata": {},
   "outputs": [],
   "source": [
    "# Bagging 적용\n",
    "bag_rfc = BaggingClassifier(rfc)"
   ]
  },
  {
   "cell_type": "code",
   "execution_count": 65,
   "id": "5396d53b",
   "metadata": {},
   "outputs": [],
   "source": [
    "# GridSearchCV 적용\n",
    "gs_rfc = GridSearchCV(bag_rfc, bc_params, cv=cv, n_jobs=-1, verbose=1)"
   ]
  },
  {
   "cell_type": "code",
   "execution_count": 66,
   "id": "6ac2472a",
   "metadata": {},
   "outputs": [
    {
     "name": "stdout",
     "output_type": "stream",
     "text": [
      "Fitting 4 folds for each of 288 candidates, totalling 1152 fits\n"
     ]
    },
    {
     "data": {
      "text/plain": [
       "GridSearchCV(cv=PKFold(n_splits=4, pct_embargo=0,\n",
       "    samples_info_sets=time\n",
       "2018-01-01 00:43:00   2018-01-01 00:43:00\n",
       "2018-01-01 00:44:00   2018-01-01 00:44:00\n",
       "2018-01-01 00:45:00   2018-01-01 00:45:00\n",
       "2018-01-01 00:46:00   2018-01-01 00:46:00\n",
       "2018-01-01 00:47:00   2018-01-01 00:47:00\n",
       "                              ...\n",
       "2018-01-01 11:48:00   201...0   2018-01-01 11:51:00\n",
       "2018-01-01 11:52:00   2018-01-01 11:52:00\n",
       "Length: 670, dtype: datetime64[ns]),\n",
       "             estimator=BaggingClassifier(base_estimator=RandomForestClassifier(class_weight='balanced')),\n",
       "             n_jobs=-1,\n",
       "             param_grid={'base_estimator__max_depth': [3, 5, 10, 20],\n",
       "                         'base_estimator__max_features': [None, 'auto'],\n",
       "                         'base_estimator__min_samples_leaf': [3, 5, 10],\n",
       "                         'bootstrap_features': [False, True],\n",
       "                         'max_features': [0.5, 0.7],\n",
       "                         'n_estimators': [5, 10, 20]},\n",
       "             verbose=1)"
      ]
     },
     "execution_count": 66,
     "metadata": {},
     "output_type": "execute_result"
    }
   ],
   "source": [
    "# fit\n",
    "gs_rfc.fit(train_x, train_y)"
   ]
  },
  {
   "cell_type": "code",
   "execution_count": 67,
   "id": "bdd7790e",
   "metadata": {},
   "outputs": [
    {
     "data": {
      "text/plain": [
       "BaggingClassifier(base_estimator=RandomForestClassifier(class_weight='balanced',\n",
       "                                                        max_depth=3,\n",
       "                                                        max_features=None,\n",
       "                                                        min_samples_leaf=10),\n",
       "                  max_features=0.7, n_estimators=5)"
      ]
     },
     "execution_count": 67,
     "metadata": {},
     "output_type": "execute_result"
    }
   ],
   "source": [
    "# best estimator \n",
    "gs_rfc_best = gs_rfc.best_estimator_\n",
    "gs_rfc_best"
   ]
  },
  {
   "cell_type": "code",
   "execution_count": 68,
   "id": "2b195018",
   "metadata": {},
   "outputs": [
    {
     "data": {
      "text/plain": [
       "BaggingClassifier(base_estimator=RandomForestClassifier(class_weight='balanced',\n",
       "                                                        max_depth=3,\n",
       "                                                        max_features=None,\n",
       "                                                        min_samples_leaf=10),\n",
       "                  max_features=0.7, n_estimators=5)"
      ]
     },
     "execution_count": 68,
     "metadata": {},
     "output_type": "execute_result"
    }
   ],
   "source": [
    "gs_rfc_best.fit(train_x, train_y)"
   ]
  },
  {
   "cell_type": "code",
   "execution_count": 69,
   "id": "29fa4e8c",
   "metadata": {},
   "outputs": [],
   "source": [
    "# 예측값 확인\n",
    "pred_y = gs_rfc_best.predict(test_x)\n",
    "prob_y = gs_rfc_best.predict_proba(test_x)"
   ]
  },
  {
   "cell_type": "code",
   "execution_count": 70,
   "id": "65f2324f",
   "metadata": {},
   "outputs": [
    {
     "name": "stdout",
     "output_type": "stream",
     "text": [
      "================= confusion matrix ====================\n",
      "[[89 47]\n",
      " [16 39]]\n",
      "=======================================================\n",
      "정확도:0.6701570680628273, 정밀도:[0.84761905 0.45348837], 재현율:0.7090909090909091\n"
     ]
    }
   ],
   "source": [
    "# test_y, pred_y를 활용한 지표 적용\n",
    "confusion = confusion_matrix(test_y, pred_y)\n",
    "accuracy  = accuracy_score(test_y, pred_y)\n",
    "precision = precision_score(test_y, pred_y, average=None)\n",
    "recall    = recall_score(test_y, pred_y)\n",
    "\n",
    "# 지표를 통한 결과 확인\n",
    "print('================= confusion matrix ====================')\n",
    "print(confusion)\n",
    "print('=======================================================')\n",
    "print(f'정확도:{accuracy}, 정밀도:{precision}, 재현율:{recall}')"
   ]
  },
  {
   "cell_type": "code",
   "execution_count": 71,
   "id": "bdf01ffc",
   "metadata": {
    "scrolled": true
   },
   "outputs": [
    {
     "name": "stdout",
     "output_type": "stream",
     "text": [
      "auc:0.6817513368983957\n"
     ]
    },
    {
     "data": {
      "image/png": "[encoded data removed]",
      "text/plain": [
       "<Figure size 432x288 with 1 Axes>"
      ]
     },
     "metadata": {
      "needs_background": "light"
     },
     "output_type": "display_data"
    }
   ],
   "source": [
    "# ROC curve 만들기\n",
    "fpr, tpr, thresholds = roc_curve(test_y, pred_y)\n",
    "auc = roc_auc_score(test_y, pred_y)\n",
    "\n",
    "# ROC curve 시각화\n",
    "plt.plot(fpr, tpr, linewidth=2)\n",
    "plt.plot([0, 1], [0, 1], 'k--') # dashed diagonal\n",
    "plt.xlabel('fpr')\n",
    "plt.ylabel('tpr')\n",
    "print(f'auc:{auc}')"
   ]
  },
  {
   "attachments": {
    "image.png": {
     "image/png": "[encoded data removed]"
    }
   },
   "cell_type": "markdown",
   "id": "6c74c4b6",
   "metadata": {},
   "source": [
    "## 다른 결과 1\n",
    "- X_sc.shape: (957, 23)\n",
    "\n",
    "- 데이터 비율: 7.5:2 \n",
    "    - purged 하긴 하지만 최대한 많은 학습 데이터를 사용하기 위해 선택했다.\n",
    "    \n",
    "- train_x.shape, train_y.shape, test_x.shape, test_y.shape = ((718, 23), (718,), (191, 23), (191,))\n",
    "\n",
    "- PKFold의 split 개수: 5\n",
    "    - 10 중의 2의 비율로 테스트 데이터를 나눴기 때문에 모든 데이터를 테스트 데이터로 써보려면 5번 해야 할 거 같아서 5로 선택했다.\n",
    "\n",
    "![image.png](attachment:image.png)"
   ]
  },
  {
   "cell_type": "markdown",
   "id": "a5c4a4b4",
   "metadata": {},
   "source": [
    "## ① 환경구성 및 데이터 불러오기\n",
    "---"
   ]
  },
  {
   "cell_type": "code",
   "execution_count": 72,
   "id": "c67d368e",
   "metadata": {},
   "outputs": [],
   "source": [
    "import datetime\n",
    "import sys\n",
    "import os\n",
    "import re\n",
    "import io\n",
    "import json\n",
    "import numpy as np\n",
    "import pandas as pd\n",
    "import matplotlib.pyplot as plt\n",
    "import ta\n",
    "\n",
    "from sklearn.preprocessing import StandardScaler\n",
    "from sklearn.model_selection import GridSearchCV\n",
    "from sklearn.model_selection import KFold\n",
    "from sklearn.ensemble import RandomForestClassifier, BaggingClassifier\n",
    "from sklearn.metrics import accuracy_score, precision_score, recall_score, confusion_matrix, f1_score, roc_auc_score, roc_curve\n",
    "\n",
    "sys.path.append('/aiffel/aiffel/time_series/fnguide/data/')\n",
    "from libs.mlutil.pkfold import PKFold"
   ]
  },
  {
   "cell_type": "code",
   "execution_count": 73,
   "id": "127b79fc",
   "metadata": {},
   "outputs": [],
   "source": [
    "# 데이터 경로 설정 및 pickle 파일 불러오기\n",
    "DATA_PATH = '/aiffel/aiffel/time_series/fnguide/data/'\n",
    "data_file_name = os.path.join(DATA_PATH, 'sub_upbit_eth_min_feature_labels.pkl')"
   ]
  },
  {
   "cell_type": "code",
   "execution_count": 74,
   "id": "43bec60e",
   "metadata": {},
   "outputs": [],
   "source": [
    "df_data = pd.read_pickle(data_file_name)\n",
    "df_data['t_value'] = df_data['t_value'].apply(lambda x: x if x == 1 else 0)"
   ]
  },
  {
   "cell_type": "code",
   "execution_count": 75,
   "id": "2c918cb6",
   "metadata": {},
   "outputs": [
    {
     "data": {
      "text/plain": [
       "1.0    481\n",
       "0.0    476\n",
       "Name: t_value, dtype: int64"
      ]
     },
     "execution_count": 75,
     "metadata": {},
     "output_type": "execute_result"
    }
   ],
   "source": [
    "# 여기서부터 모델에 적용하기 위한 데이터 정제화를 시작합니다.\n",
    "df_data['t_value'].value_counts()"
   ]
  },
  {
   "cell_type": "code",
   "execution_count": 76,
   "id": "76731d5a",
   "metadata": {},
   "outputs": [],
   "source": [
    "# 데이터셋 비율 나누기\n",
    "train_ratio, test_ratio = 0.75, 0.2\n",
    "n_train = int(np.round(len(df_data) * train_ratio))\n",
    "n_test = int(np.round(len(df_data) * test_ratio))\n",
    "\n",
    "X, y = df_data.iloc[:, 5:-1], df_data.iloc[:, -1]"
   ]
  },
  {
   "cell_type": "code",
   "execution_count": 77,
   "id": "f9887786",
   "metadata": {},
   "outputs": [],
   "source": [
    "# standardzation\n",
    "sc = StandardScaler()\n",
    "X_sc = sc.fit_transform(X)"
   ]
  },
  {
   "cell_type": "code",
   "execution_count": 78,
   "id": "2d663df9",
   "metadata": {},
   "outputs": [
    {
     "data": {
      "text/plain": [
       "(957, 23)"
      ]
     },
     "execution_count": 78,
     "metadata": {},
     "output_type": "execute_result"
    }
   ],
   "source": [
    "X_sc.shape"
   ]
  },
  {
   "cell_type": "code",
   "execution_count": 79,
   "id": "4374529a",
   "metadata": {},
   "outputs": [],
   "source": [
    "# 데이터셋 분리\n",
    "train_x, test_x, train_y, test_y = X_sc[:n_train, :], X_sc[-n_test:, :], y.iloc[:n_train], y.iloc[-n_test:]\n",
    "\n",
    "train_x = pd.DataFrame(train_x, index=train_y.index, columns=X.columns)\n",
    "train_y = pd.Series(train_y, index=train_y.index)\n",
    "test_x = pd.DataFrame(test_x, index=test_y.index, columns=X.columns)\n",
    "test_y = pd.Series(test_y, index=test_y.index)"
   ]
  },
  {
   "cell_type": "code",
   "execution_count": 80,
   "id": "72ac53ee",
   "metadata": {},
   "outputs": [
    {
     "data": {
      "text/plain": [
       "((718, 23), (718,), (191, 23), (191,))"
      ]
     },
     "execution_count": 80,
     "metadata": {},
     "output_type": "execute_result"
    }
   ],
   "source": [
    "train_x.shape, train_y.shape, test_x.shape, test_y.shape"
   ]
  },
  {
   "cell_type": "markdown",
   "id": "03b4409c",
   "metadata": {},
   "source": [
    "## ② Purged K-fold for Cross-Validation적용하기\n",
    "---"
   ]
  },
  {
   "cell_type": "code",
   "execution_count": 81,
   "id": "3cbdf0dc",
   "metadata": {},
   "outputs": [],
   "source": [
    "n_cv = 5 \n",
    "t1 = pd.Series(train_y.index.values, index=train_y.index)\n",
    "\n",
    "# purged K-Fold \n",
    "cv = PKFold(n_cv, t1, 0)"
   ]
  },
  {
   "cell_type": "code",
   "execution_count": 82,
   "id": "6921ff03",
   "metadata": {},
   "outputs": [
    {
     "data": {
      "text/plain": [
       "PKFold(n_splits=5, pct_embargo=0,\n",
       "    samples_info_sets=time\n",
       "2018-01-01 00:43:00   2018-01-01 00:43:00\n",
       "2018-01-01 00:44:00   2018-01-01 00:44:00\n",
       "2018-01-01 00:45:00   2018-01-01 00:45:00\n",
       "2018-01-01 00:46:00   2018-01-01 00:46:00\n",
       "2018-01-01 00:47:00   2018-01-01 00:47:00\n",
       "                              ...\n",
       "2018-01-01 12:36:00   201...0   2018-01-01 12:39:00\n",
       "2018-01-01 12:40:00   2018-01-01 12:40:00\n",
       "Length: 718, dtype: datetime64[ns])"
      ]
     },
     "execution_count": 82,
     "metadata": {},
     "output_type": "execute_result"
    }
   ],
   "source": [
    "cv"
   ]
  },
  {
   "cell_type": "code",
   "execution_count": 88,
   "id": "6c33ae91",
   "metadata": {},
   "outputs": [],
   "source": [
    "# GridsearchCV에서 사용할 파라미터 설정합니다. 파라미터값을 바꿔보세요\n",
    "bc_params = {'n_estimators': [5, 10, 20],\n",
    "             'max_features': [0.5, 0.7],\n",
    "             'base_estimator__max_depth': [3,5,10,20],\n",
    "             'base_estimator__max_features': [None, 'auto'],\n",
    "             'base_estimator__min_samples_leaf': [3, 5, 10],\n",
    "             'bootstrap_features': [False, True]\n",
    "            }"
   ]
  },
  {
   "cell_type": "code",
   "execution_count": 89,
   "id": "ba8fa85d",
   "metadata": {},
   "outputs": [],
   "source": [
    "# RandomForest 사용\n",
    "rfc = RandomForestClassifier(class_weight='balanced')"
   ]
  },
  {
   "cell_type": "code",
   "execution_count": 90,
   "id": "81c58272",
   "metadata": {},
   "outputs": [],
   "source": [
    "# Bagging 적용\n",
    "bag_rfc = BaggingClassifier(rfc)"
   ]
  },
  {
   "cell_type": "code",
   "execution_count": 91,
   "id": "14f097d0",
   "metadata": {},
   "outputs": [],
   "source": [
    "# GridSearchCV 적용\n",
    "gs_rfc = GridSearchCV(bag_rfc, bc_params, cv=cv, n_jobs=-1, verbose=1)"
   ]
  },
  {
   "cell_type": "code",
   "execution_count": 92,
   "id": "fc1776ed",
   "metadata": {},
   "outputs": [
    {
     "name": "stdout",
     "output_type": "stream",
     "text": [
      "Fitting 5 folds for each of 288 candidates, totalling 1440 fits\n"
     ]
    },
    {
     "data": {
      "text/plain": [
       "GridSearchCV(cv=PKFold(n_splits=5, pct_embargo=0,\n",
       "    samples_info_sets=time\n",
       "2018-01-01 00:43:00   2018-01-01 00:43:00\n",
       "2018-01-01 00:44:00   2018-01-01 00:44:00\n",
       "2018-01-01 00:45:00   2018-01-01 00:45:00\n",
       "2018-01-01 00:46:00   2018-01-01 00:46:00\n",
       "2018-01-01 00:47:00   2018-01-01 00:47:00\n",
       "                              ...\n",
       "2018-01-01 12:36:00   201...0   2018-01-01 12:39:00\n",
       "2018-01-01 12:40:00   2018-01-01 12:40:00\n",
       "Length: 718, dtype: datetime64[ns]),\n",
       "             estimator=BaggingClassifier(base_estimator=RandomForestClassifier(class_weight='balanced')),\n",
       "             n_jobs=-1,\n",
       "             param_grid={'base_estimator__max_depth': [3, 5, 10, 20],\n",
       "                         'base_estimator__max_features': [None, 'auto'],\n",
       "                         'base_estimator__min_samples_leaf': [3, 5, 10],\n",
       "                         'bootstrap_features': [False, True],\n",
       "                         'max_features': [0.5, 0.7],\n",
       "                         'n_estimators': [5, 10, 20]},\n",
       "             verbose=1)"
      ]
     },
     "execution_count": 92,
     "metadata": {},
     "output_type": "execute_result"
    }
   ],
   "source": [
    "# fit\n",
    "gs_rfc.fit(train_x, train_y)"
   ]
  },
  {
   "cell_type": "code",
   "execution_count": 93,
   "id": "3c64b565",
   "metadata": {},
   "outputs": [
    {
     "data": {
      "text/plain": [
       "BaggingClassifier(base_estimator=RandomForestClassifier(class_weight='balanced',\n",
       "                                                        max_depth=10,\n",
       "                                                        min_samples_leaf=10),\n",
       "                  bootstrap_features=True, max_features=0.7, n_estimators=5)"
      ]
     },
     "execution_count": 93,
     "metadata": {},
     "output_type": "execute_result"
    }
   ],
   "source": [
    "# best estimator \n",
    "gs_rfc_best = gs_rfc.best_estimator_\n",
    "gs_rfc_best"
   ]
  },
  {
   "cell_type": "code",
   "execution_count": 94,
   "id": "34a247af",
   "metadata": {},
   "outputs": [
    {
     "data": {
      "text/plain": [
       "BaggingClassifier(base_estimator=RandomForestClassifier(class_weight='balanced',\n",
       "                                                        max_depth=10,\n",
       "                                                        min_samples_leaf=10),\n",
       "                  bootstrap_features=True, max_features=0.7, n_estimators=5)"
      ]
     },
     "execution_count": 94,
     "metadata": {},
     "output_type": "execute_result"
    }
   ],
   "source": [
    "gs_rfc_best.fit(train_x, train_y)"
   ]
  },
  {
   "cell_type": "code",
   "execution_count": 95,
   "id": "172654ef",
   "metadata": {},
   "outputs": [],
   "source": [
    "# 예측값 확인\n",
    "pred_y = gs_rfc_best.predict(test_x)\n",
    "prob_y = gs_rfc_best.predict_proba(test_x)"
   ]
  },
  {
   "cell_type": "code",
   "execution_count": 96,
   "id": "d210e07e",
   "metadata": {},
   "outputs": [
    {
     "name": "stdout",
     "output_type": "stream",
     "text": [
      "================= confusion matrix ====================\n",
      "[[76 60]\n",
      " [ 9 46]]\n",
      "=======================================================\n",
      "정확도:0.6387434554973822, 정밀도:[0.89411765 0.43396226], 재현율:0.8363636363636363\n"
     ]
    }
   ],
   "source": [
    "# test_y, pred_y를 활용한 지표 적용\n",
    "confusion = confusion_matrix(test_y, pred_y)\n",
    "accuracy  = accuracy_score(test_y, pred_y)\n",
    "precision = precision_score(test_y, pred_y, average=None)\n",
    "recall    = recall_score(test_y, pred_y)\n",
    "\n",
    "# 지표를 통한 결과 확인\n",
    "print('================= confusion matrix ====================')\n",
    "print(confusion)\n",
    "print('=======================================================')\n",
    "print(f'정확도:{accuracy}, 정밀도:{precision}, 재현율:{recall}')"
   ]
  },
  {
   "cell_type": "code",
   "execution_count": 97,
   "id": "8ee88bb0",
   "metadata": {},
   "outputs": [
    {
     "name": "stdout",
     "output_type": "stream",
     "text": [
      "auc:0.6975935828877006\n"
     ]
    },
    {
     "data": {
      "image/png": "[encoded data removed]",
      "text/plain": [
       "<Figure size 432x288 with 1 Axes>"
      ]
     },
     "metadata": {
      "needs_background": "light"
     },
     "output_type": "display_data"
    }
   ],
   "source": [
    "# ROC curve 만들기\n",
    "fpr, tpr, thresholds = roc_curve(test_y, pred_y)\n",
    "auc = roc_auc_score(test_y, pred_y)\n",
    "\n",
    "# ROC curve 시각화\n",
    "plt.plot(fpr, tpr, linewidth=2)\n",
    "plt.plot([0, 1], [0, 1], 'k--') # dashed diagonal\n",
    "plt.xlabel('fpr')\n",
    "plt.ylabel('tpr')\n",
    "print(f'auc:{auc}')"
   ]
  },
  {
   "attachments": {},
   "cell_type": "markdown",
   "id": "79e8fbe6",
   "metadata": {},
   "source": [
    "## 다른 결과 2\n",
    "- X_sc.shape: (957, 23)\n",
    "\n",
    "- 데이터 비율: 7:2 \n",
    "    - 정확도가 기존 결과보다 떨어져서 이 부분은 기존 값으로 해보았다.\n",
    "    \n",
    "- train_x.shape, train_y.shape, test_x.shape, test_y.shape = ((670, 23), (670,), (191, 23), (191,))\n",
    "\n",
    "- PKFold의 split 개수: 5\n",
    "    - 10 중의 2의 비율로 테스트 데이터를 나눴기 때문에 모든 데이터를 테스트 데이터로 써보려면 5번 해야 할 거 같아서 5로 선택했다.\n",
    "    \n",
    "+ GridsearchCV parameter 조절"
   ]
  },
  {
   "cell_type": "markdown",
   "id": "b8af7257",
   "metadata": {},
   "source": [
    "## ① 환경구성 및 데이터 불러오기\n",
    "---"
   ]
  },
  {
   "cell_type": "code",
   "execution_count": 98,
   "id": "a31ddffe",
   "metadata": {},
   "outputs": [],
   "source": [
    "import datetime\n",
    "import sys\n",
    "import os\n",
    "import re\n",
    "import io\n",
    "import json\n",
    "import numpy as np\n",
    "import pandas as pd\n",
    "import matplotlib.pyplot as plt\n",
    "import ta\n",
    "\n",
    "from sklearn.preprocessing import StandardScaler\n",
    "from sklearn.model_selection import GridSearchCV\n",
    "from sklearn.model_selection import KFold\n",
    "from sklearn.ensemble import RandomForestClassifier, BaggingClassifier\n",
    "from sklearn.metrics import accuracy_score, precision_score, recall_score, confusion_matrix, f1_score, roc_auc_score, roc_curve\n",
    "\n",
    "sys.path.append('/aiffel/aiffel/time_series/fnguide/data/')\n",
    "from libs.mlutil.pkfold import PKFold"
   ]
  },
  {
   "cell_type": "code",
   "execution_count": 99,
   "id": "6e482de0",
   "metadata": {},
   "outputs": [],
   "source": [
    "# 데이터 경로 설정 및 pickle 파일 불러오기\n",
    "DATA_PATH = '/aiffel/aiffel/time_series/fnguide/data/'\n",
    "data_file_name = os.path.join(DATA_PATH, 'sub_upbit_eth_min_feature_labels.pkl')"
   ]
  },
  {
   "cell_type": "code",
   "execution_count": 100,
   "id": "b228e45e",
   "metadata": {},
   "outputs": [],
   "source": [
    "df_data = pd.read_pickle(data_file_name)\n",
    "df_data['t_value'] = df_data['t_value'].apply(lambda x: x if x == 1 else 0)"
   ]
  },
  {
   "cell_type": "code",
   "execution_count": 101,
   "id": "e0738ed2",
   "metadata": {},
   "outputs": [
    {
     "data": {
      "text/plain": [
       "1.0    481\n",
       "0.0    476\n",
       "Name: t_value, dtype: int64"
      ]
     },
     "execution_count": 101,
     "metadata": {},
     "output_type": "execute_result"
    }
   ],
   "source": [
    "# 여기서부터 모델에 적용하기 위한 데이터 정제화를 시작합니다.\n",
    "df_data['t_value'].value_counts()"
   ]
  },
  {
   "cell_type": "code",
   "execution_count": 102,
   "id": "69e805f7",
   "metadata": {},
   "outputs": [],
   "source": [
    "# 데이터셋 비율 나누기\n",
    "train_ratio, test_ratio = 0.7, 0.2\n",
    "n_train = int(np.round(len(df_data) * train_ratio))\n",
    "n_test = int(np.round(len(df_data) * test_ratio))\n",
    "\n",
    "X, y = df_data.iloc[:, 5:-1], df_data.iloc[:, -1]"
   ]
  },
  {
   "cell_type": "code",
   "execution_count": 103,
   "id": "749256fc",
   "metadata": {},
   "outputs": [],
   "source": [
    "# standardzation\n",
    "sc = StandardScaler()\n",
    "X_sc = sc.fit_transform(X)"
   ]
  },
  {
   "cell_type": "code",
   "execution_count": 104,
   "id": "2024b62e",
   "metadata": {},
   "outputs": [
    {
     "data": {
      "text/plain": [
       "(957, 23)"
      ]
     },
     "execution_count": 104,
     "metadata": {},
     "output_type": "execute_result"
    }
   ],
   "source": [
    "X_sc.shape"
   ]
  },
  {
   "cell_type": "code",
   "execution_count": 105,
   "id": "0b3581cc",
   "metadata": {},
   "outputs": [],
   "source": [
    "# 데이터셋 분리\n",
    "train_x, test_x, train_y, test_y = X_sc[:n_train, :], X_sc[-n_test:, :], y.iloc[:n_train], y.iloc[-n_test:]\n",
    "\n",
    "train_x = pd.DataFrame(train_x, index=train_y.index, columns=X.columns)\n",
    "train_y = pd.Series(train_y, index=train_y.index)\n",
    "test_x = pd.DataFrame(test_x, index=test_y.index, columns=X.columns)\n",
    "test_y = pd.Series(test_y, index=test_y.index)"
   ]
  },
  {
   "cell_type": "code",
   "execution_count": 106,
   "id": "7055d178",
   "metadata": {},
   "outputs": [
    {
     "data": {
      "text/plain": [
       "((670, 23), (670,), (191, 23), (191,))"
      ]
     },
     "execution_count": 106,
     "metadata": {},
     "output_type": "execute_result"
    }
   ],
   "source": [
    "train_x.shape, train_y.shape, test_x.shape, test_y.shape"
   ]
  },
  {
   "cell_type": "markdown",
   "id": "7eed3139",
   "metadata": {},
   "source": [
    "## ② Purged K-fold for Cross-Validation적용하기\n",
    "---"
   ]
  },
  {
   "cell_type": "code",
   "execution_count": 107,
   "id": "77941175",
   "metadata": {},
   "outputs": [],
   "source": [
    "n_cv = 5 \n",
    "t1 = pd.Series(train_y.index.values, index=train_y.index)\n",
    "\n",
    "# purged K-Fold \n",
    "cv = PKFold(n_cv, t1, 0)"
   ]
  },
  {
   "cell_type": "code",
   "execution_count": 108,
   "id": "7202caa5",
   "metadata": {},
   "outputs": [
    {
     "data": {
      "text/plain": [
       "PKFold(n_splits=5, pct_embargo=0,\n",
       "    samples_info_sets=time\n",
       "2018-01-01 00:43:00   2018-01-01 00:43:00\n",
       "2018-01-01 00:44:00   2018-01-01 00:44:00\n",
       "2018-01-01 00:45:00   2018-01-01 00:45:00\n",
       "2018-01-01 00:46:00   2018-01-01 00:46:00\n",
       "2018-01-01 00:47:00   2018-01-01 00:47:00\n",
       "                              ...\n",
       "2018-01-01 11:48:00   201...0   2018-01-01 11:51:00\n",
       "2018-01-01 11:52:00   2018-01-01 11:52:00\n",
       "Length: 670, dtype: datetime64[ns])"
      ]
     },
     "execution_count": 108,
     "metadata": {},
     "output_type": "execute_result"
    }
   ],
   "source": [
    "cv"
   ]
  },
  {
   "cell_type": "code",
   "execution_count": 109,
   "id": "6fa8dbfc",
   "metadata": {},
   "outputs": [],
   "source": [
    "# GridsearchCV에서 사용할 파라미터 설정합니다. 파라미터값을 바꿔보세요\n",
    "bc_params = {'n_estimators': [5, 7, 9],\n",
    "             'max_features': [0.7, 0.8],\n",
    "             'base_estimator__max_depth': [8, 10, 12],\n",
    "             'base_estimator__max_features': [None, 'auto'],\n",
    "             'base_estimator__min_samples_leaf': [8, 10, 12],\n",
    "             'bootstrap_features': [True]\n",
    "            }"
   ]
  },
  {
   "cell_type": "code",
   "execution_count": 110,
   "id": "17ae2a43",
   "metadata": {},
   "outputs": [],
   "source": [
    "# RandomForest 사용\n",
    "rfc = RandomForestClassifier(class_weight='balanced')"
   ]
  },
  {
   "cell_type": "code",
   "execution_count": 111,
   "id": "36e6f40d",
   "metadata": {},
   "outputs": [],
   "source": [
    "# Bagging 적용\n",
    "bag_rfc = BaggingClassifier(rfc)"
   ]
  },
  {
   "cell_type": "code",
   "execution_count": 112,
   "id": "f8e20de8",
   "metadata": {},
   "outputs": [],
   "source": [
    "# GridSearchCV 적용\n",
    "gs_rfc = GridSearchCV(bag_rfc, bc_params, cv=cv, n_jobs=-1, verbose=1)"
   ]
  },
  {
   "cell_type": "code",
   "execution_count": 113,
   "id": "f11ee71e",
   "metadata": {},
   "outputs": [
    {
     "name": "stdout",
     "output_type": "stream",
     "text": [
      "Fitting 5 folds for each of 108 candidates, totalling 540 fits\n"
     ]
    },
    {
     "data": {
      "text/plain": [
       "GridSearchCV(cv=PKFold(n_splits=5, pct_embargo=0,\n",
       "    samples_info_sets=time\n",
       "2018-01-01 00:43:00   2018-01-01 00:43:00\n",
       "2018-01-01 00:44:00   2018-01-01 00:44:00\n",
       "2018-01-01 00:45:00   2018-01-01 00:45:00\n",
       "2018-01-01 00:46:00   2018-01-01 00:46:00\n",
       "2018-01-01 00:47:00   2018-01-01 00:47:00\n",
       "                              ...\n",
       "2018-01-01 11:48:00   201...0   2018-01-01 11:51:00\n",
       "2018-01-01 11:52:00   2018-01-01 11:52:00\n",
       "Length: 670, dtype: datetime64[ns]),\n",
       "             estimator=BaggingClassifier(base_estimator=RandomForestClassifier(class_weight='balanced')),\n",
       "             n_jobs=-1,\n",
       "             param_grid={'base_estimator__max_depth': [8, 10, 12],\n",
       "                         'base_estimator__max_features': [None, 'auto'],\n",
       "                         'base_estimator__min_samples_leaf': [8, 10, 12],\n",
       "                         'bootstrap_features': [True],\n",
       "                         'max_features': [0.7, 0.8],\n",
       "                         'n_estimators': [5, 7, 9]},\n",
       "             verbose=1)"
      ]
     },
     "execution_count": 113,
     "metadata": {},
     "output_type": "execute_result"
    }
   ],
   "source": [
    "# fit\n",
    "gs_rfc.fit(train_x, train_y)"
   ]
  },
  {
   "cell_type": "code",
   "execution_count": 114,
   "id": "8fe33a24",
   "metadata": {},
   "outputs": [
    {
     "data": {
      "text/plain": [
       "BaggingClassifier(base_estimator=RandomForestClassifier(class_weight='balanced',\n",
       "                                                        max_depth=10,\n",
       "                                                        max_features=None,\n",
       "                                                        min_samples_leaf=12),\n",
       "                  bootstrap_features=True, max_features=0.7, n_estimators=9)"
      ]
     },
     "execution_count": 114,
     "metadata": {},
     "output_type": "execute_result"
    }
   ],
   "source": [
    "# best estimator \n",
    "gs_rfc_best = gs_rfc.best_estimator_\n",
    "gs_rfc_best"
   ]
  },
  {
   "cell_type": "code",
   "execution_count": 115,
   "id": "c722690f",
   "metadata": {},
   "outputs": [
    {
     "data": {
      "text/plain": [
       "BaggingClassifier(base_estimator=RandomForestClassifier(class_weight='balanced',\n",
       "                                                        max_depth=10,\n",
       "                                                        max_features=None,\n",
       "                                                        min_samples_leaf=12),\n",
       "                  bootstrap_features=True, max_features=0.7, n_estimators=9)"
      ]
     },
     "execution_count": 115,
     "metadata": {},
     "output_type": "execute_result"
    }
   ],
   "source": [
    "gs_rfc_best.fit(train_x, train_y)"
   ]
  },
  {
   "cell_type": "code",
   "execution_count": 116,
   "id": "ad7060b1",
   "metadata": {},
   "outputs": [],
   "source": [
    "# 예측값 확인\n",
    "pred_y = gs_rfc_best.predict(test_x)\n",
    "prob_y = gs_rfc_best.predict_proba(test_x)"
   ]
  },
  {
   "cell_type": "code",
   "execution_count": 117,
   "id": "14bdfd85",
   "metadata": {},
   "outputs": [
    {
     "name": "stdout",
     "output_type": "stream",
     "text": [
      "================= confusion matrix ====================\n",
      "[[86 50]\n",
      " [10 45]]\n",
      "=======================================================\n",
      "정확도:0.6858638743455497, 정밀도:[0.89583333 0.47368421], 재현율:0.8181818181818182\n"
     ]
    }
   ],
   "source": [
    "# test_y, pred_y를 활용한 지표 적용\n",
    "confusion = confusion_matrix(test_y, pred_y)\n",
    "accuracy  = accuracy_score(test_y, pred_y)\n",
    "precision = precision_score(test_y, pred_y, average=None)\n",
    "recall    = recall_score(test_y, pred_y)\n",
    "\n",
    "# 지표를 통한 결과 확인\n",
    "print('================= confusion matrix ====================')\n",
    "print(confusion)\n",
    "print('=======================================================')\n",
    "print(f'정확도:{accuracy}, 정밀도:{precision}, 재현율:{recall}')"
   ]
  },
  {
   "cell_type": "code",
   "execution_count": 118,
   "id": "a9dbfaa5",
   "metadata": {},
   "outputs": [
    {
     "name": "stdout",
     "output_type": "stream",
     "text": [
      "auc:0.7252673796791445\n"
     ]
    },
    {
     "data": {
      "image/png": "[encoded data removed]",
      "text/plain": [
       "<Figure size 432x288 with 1 Axes>"
      ]
     },
     "metadata": {
      "needs_background": "light"
     },
     "output_type": "display_data"
    }
   ],
   "source": [
    "# ROC curve 만들기\n",
    "fpr, tpr, thresholds = roc_curve(test_y, pred_y)\n",
    "auc = roc_auc_score(test_y, pred_y)\n",
    "\n",
    "# ROC curve 시각화\n",
    "plt.plot(fpr, tpr, linewidth=2)\n",
    "plt.plot([0, 1], [0, 1], 'k--') # dashed diagonal\n",
    "plt.xlabel('fpr')\n",
    "plt.ylabel('tpr')\n",
    "print(f'auc:{auc}')"
   ]
  },
  {
   "attachments": {},
   "cell_type": "markdown",
   "id": "553e59b1",
   "metadata": {},
   "source": [
    "## 다른 결과 3\n",
    "- X_sc.shape: (957, 23)\n",
    "\n",
    "- 데이터 비율: 7:2 \n",
    "    - 정확도가 기존 결과보다 떨어져서 이 부분은 기존 값으로 해보았다.\n",
    "    \n",
    "- train_x.shape, train_y.shape, test_x.shape, test_y.shape = ((670, 23), (670,), (191, 23), (191,))\n",
    "\n",
    "- PKFold의 split 개수: 5\n",
    "    - 10 중의 2의 비율로 테스트 데이터를 나눴기 때문에 모든 데이터를 테스트 데이터로 써보려면 5번 해야 할 거 같아서 5로 선택했다.\n",
    "    \n",
    "+ GridsearchCV parameter 조절"
   ]
  },
  {
   "cell_type": "markdown",
   "id": "6a56857d",
   "metadata": {},
   "source": [
    "## ① 환경구성 및 데이터 불러오기\n",
    "---"
   ]
  },
  {
   "cell_type": "code",
   "execution_count": 123,
   "id": "067f6a94",
   "metadata": {},
   "outputs": [],
   "source": [
    "import datetime\n",
    "import sys\n",
    "import os\n",
    "import re\n",
    "import io\n",
    "import json\n",
    "import numpy as np\n",
    "import pandas as pd\n",
    "import matplotlib.pyplot as plt\n",
    "import ta\n",
    "\n",
    "from sklearn.preprocessing import StandardScaler\n",
    "from sklearn.model_selection import GridSearchCV\n",
    "from sklearn.model_selection import KFold\n",
    "from sklearn.ensemble import RandomForestClassifier, BaggingClassifier\n",
    "from sklearn.metrics import accuracy_score, precision_score, recall_score, confusion_matrix, f1_score, roc_auc_score, roc_curve\n",
    "\n",
    "sys.path.append('/aiffel/aiffel/time_series/fnguide/data/')\n",
    "from libs.mlutil.pkfold import PKFold"
   ]
  },
  {
   "cell_type": "code",
   "execution_count": 124,
   "id": "69e4e6e3",
   "metadata": {},
   "outputs": [],
   "source": [
    "# 데이터 경로 설정 및 pickle 파일 불러오기\n",
    "DATA_PATH = '/aiffel/aiffel/time_series/fnguide/data/'\n",
    "data_file_name = os.path.join(DATA_PATH, 'sub_upbit_eth_min_feature_labels.pkl')"
   ]
  },
  {
   "cell_type": "code",
   "execution_count": 125,
   "id": "bfd94328",
   "metadata": {},
   "outputs": [],
   "source": [
    "df_data = pd.read_pickle(data_file_name)\n",
    "df_data['t_value'] = df_data['t_value'].apply(lambda x: x if x == 1 else 0)"
   ]
  },
  {
   "cell_type": "code",
   "execution_count": 126,
   "id": "3e74a531",
   "metadata": {},
   "outputs": [
    {
     "data": {
      "text/plain": [
       "1.0    481\n",
       "0.0    476\n",
       "Name: t_value, dtype: int64"
      ]
     },
     "execution_count": 126,
     "metadata": {},
     "output_type": "execute_result"
    }
   ],
   "source": [
    "# 여기서부터 모델에 적용하기 위한 데이터 정제화를 시작합니다.\n",
    "df_data['t_value'].value_counts()"
   ]
  },
  {
   "cell_type": "code",
   "execution_count": 127,
   "id": "ea557630",
   "metadata": {},
   "outputs": [],
   "source": [
    "# 데이터셋 비율 나누기\n",
    "train_ratio, test_ratio = 0.7, 0.2\n",
    "n_train = int(np.round(len(df_data) * train_ratio))\n",
    "n_test = int(np.round(len(df_data) * test_ratio))\n",
    "\n",
    "X, y = df_data.iloc[:, 5:-1], df_data.iloc[:, -1]"
   ]
  },
  {
   "cell_type": "code",
   "execution_count": 128,
   "id": "bf1d4d33",
   "metadata": {},
   "outputs": [],
   "source": [
    "# standardzation\n",
    "sc = StandardScaler()\n",
    "X_sc = sc.fit_transform(X)"
   ]
  },
  {
   "cell_type": "code",
   "execution_count": 129,
   "id": "a9599657",
   "metadata": {},
   "outputs": [
    {
     "data": {
      "text/plain": [
       "(957, 23)"
      ]
     },
     "execution_count": 129,
     "metadata": {},
     "output_type": "execute_result"
    }
   ],
   "source": [
    "X_sc.shape"
   ]
  },
  {
   "cell_type": "code",
   "execution_count": 130,
   "id": "08c5c49e",
   "metadata": {},
   "outputs": [],
   "source": [
    "# 데이터셋 분리\n",
    "train_x, test_x, train_y, test_y = X_sc[:n_train, :], X_sc[-n_test:, :], y.iloc[:n_train], y.iloc[-n_test:]\n",
    "\n",
    "train_x = pd.DataFrame(train_x, index=train_y.index, columns=X.columns)\n",
    "train_y = pd.Series(train_y, index=train_y.index)\n",
    "test_x = pd.DataFrame(test_x, index=test_y.index, columns=X.columns)\n",
    "test_y = pd.Series(test_y, index=test_y.index)"
   ]
  },
  {
   "cell_type": "code",
   "execution_count": 131,
   "id": "2c391ce8",
   "metadata": {},
   "outputs": [
    {
     "data": {
      "text/plain": [
       "((670, 23), (670,), (191, 23), (191,))"
      ]
     },
     "execution_count": 131,
     "metadata": {},
     "output_type": "execute_result"
    }
   ],
   "source": [
    "train_x.shape, train_y.shape, test_x.shape, test_y.shape"
   ]
  },
  {
   "cell_type": "markdown",
   "id": "9a1825b1",
   "metadata": {},
   "source": [
    "## ② Purged K-fold for Cross-Validation적용하기\n",
    "---"
   ]
  },
  {
   "cell_type": "code",
   "execution_count": 132,
   "id": "6b20922f",
   "metadata": {},
   "outputs": [],
   "source": [
    "n_cv = 5 \n",
    "t1 = pd.Series(train_y.index.values, index=train_y.index)\n",
    "\n",
    "# purged K-Fold \n",
    "cv = PKFold(n_cv, t1, 0)"
   ]
  },
  {
   "cell_type": "code",
   "execution_count": 133,
   "id": "94529263",
   "metadata": {},
   "outputs": [
    {
     "data": {
      "text/plain": [
       "PKFold(n_splits=5, pct_embargo=0,\n",
       "    samples_info_sets=time\n",
       "2018-01-01 00:43:00   2018-01-01 00:43:00\n",
       "2018-01-01 00:44:00   2018-01-01 00:44:00\n",
       "2018-01-01 00:45:00   2018-01-01 00:45:00\n",
       "2018-01-01 00:46:00   2018-01-01 00:46:00\n",
       "2018-01-01 00:47:00   2018-01-01 00:47:00\n",
       "                              ...\n",
       "2018-01-01 11:48:00   201...0   2018-01-01 11:51:00\n",
       "2018-01-01 11:52:00   2018-01-01 11:52:00\n",
       "Length: 670, dtype: datetime64[ns])"
      ]
     },
     "execution_count": 133,
     "metadata": {},
     "output_type": "execute_result"
    }
   ],
   "source": [
    "cv"
   ]
  },
  {
   "cell_type": "code",
   "execution_count": 135,
   "id": "387f855c",
   "metadata": {},
   "outputs": [],
   "source": [
    "# GridsearchCV에서 사용할 파라미터 설정합니다. 파라미터값을 바꿔보세요\n",
    "bc_params = {'n_estimators': [8, 9, 10, 11],\n",
    "             'max_features': [0.6, 0.7],\n",
    "             'base_estimator__max_features': [None],\n",
    "             'base_estimator__min_samples_leaf': [12, 14, 16],\n",
    "             'bootstrap_features': [True]\n",
    "            }"
   ]
  },
  {
   "cell_type": "code",
   "execution_count": 136,
   "id": "17f80d29",
   "metadata": {},
   "outputs": [],
   "source": [
    "# RandomForest 사용\n",
    "rfc = RandomForestClassifier(class_weight='balanced')"
   ]
  },
  {
   "cell_type": "code",
   "execution_count": 137,
   "id": "51334d45",
   "metadata": {},
   "outputs": [],
   "source": [
    "# Bagging 적용\n",
    "bag_rfc = BaggingClassifier(rfc)"
   ]
  },
  {
   "cell_type": "code",
   "execution_count": 138,
   "id": "9d1fb1d1",
   "metadata": {},
   "outputs": [],
   "source": [
    "# GridSearchCV 적용\n",
    "gs_rfc = GridSearchCV(bag_rfc, bc_params, cv=cv, n_jobs=-1, verbose=1)"
   ]
  },
  {
   "cell_type": "code",
   "execution_count": 139,
   "id": "ae449d8b",
   "metadata": {},
   "outputs": [
    {
     "name": "stdout",
     "output_type": "stream",
     "text": [
      "Fitting 5 folds for each of 24 candidates, totalling 120 fits\n"
     ]
    },
    {
     "data": {
      "text/plain": [
       "GridSearchCV(cv=PKFold(n_splits=5, pct_embargo=0,\n",
       "    samples_info_sets=time\n",
       "2018-01-01 00:43:00   2018-01-01 00:43:00\n",
       "2018-01-01 00:44:00   2018-01-01 00:44:00\n",
       "2018-01-01 00:45:00   2018-01-01 00:45:00\n",
       "2018-01-01 00:46:00   2018-01-01 00:46:00\n",
       "2018-01-01 00:47:00   2018-01-01 00:47:00\n",
       "                              ...\n",
       "2018-01-01 11:48:00   201...0   2018-01-01 11:51:00\n",
       "2018-01-01 11:52:00   2018-01-01 11:52:00\n",
       "Length: 670, dtype: datetime64[ns]),\n",
       "             estimator=BaggingClassifier(base_estimator=RandomForestClassifier(class_weight='balanced')),\n",
       "             n_jobs=-1,\n",
       "             param_grid={'base_estimator__max_features': [None],\n",
       "                         'base_estimator__min_samples_leaf': [12, 14, 16],\n",
       "                         'bootstrap_features': [True],\n",
       "                         'max_features': [0.6, 0.7],\n",
       "                         'n_estimators': [8, 9, 10, 11]},\n",
       "             verbose=1)"
      ]
     },
     "execution_count": 139,
     "metadata": {},
     "output_type": "execute_result"
    }
   ],
   "source": [
    "# fit\n",
    "gs_rfc.fit(train_x, train_y)"
   ]
  },
  {
   "cell_type": "code",
   "execution_count": 140,
   "id": "5098e65a",
   "metadata": {},
   "outputs": [
    {
     "data": {
      "text/plain": [
       "BaggingClassifier(base_estimator=RandomForestClassifier(class_weight='balanced',\n",
       "                                                        max_features=None,\n",
       "                                                        min_samples_leaf=16),\n",
       "                  bootstrap_features=True, max_features=0.7, n_estimators=9)"
      ]
     },
     "execution_count": 140,
     "metadata": {},
     "output_type": "execute_result"
    }
   ],
   "source": [
    "# best estimator \n",
    "gs_rfc_best = gs_rfc.best_estimator_\n",
    "gs_rfc_best"
   ]
  },
  {
   "cell_type": "code",
   "execution_count": 141,
   "id": "5f40269e",
   "metadata": {},
   "outputs": [
    {
     "data": {
      "text/plain": [
       "BaggingClassifier(base_estimator=RandomForestClassifier(class_weight='balanced',\n",
       "                                                        max_features=None,\n",
       "                                                        min_samples_leaf=16),\n",
       "                  bootstrap_features=True, max_features=0.7, n_estimators=9)"
      ]
     },
     "execution_count": 141,
     "metadata": {},
     "output_type": "execute_result"
    }
   ],
   "source": [
    "gs_rfc_best.fit(train_x, train_y)"
   ]
  },
  {
   "cell_type": "code",
   "execution_count": 142,
   "id": "a503ffec",
   "metadata": {},
   "outputs": [],
   "source": [
    "# 예측값 확인\n",
    "pred_y = gs_rfc_best.predict(test_x)\n",
    "prob_y = gs_rfc_best.predict_proba(test_x)"
   ]
  },
  {
   "cell_type": "code",
   "execution_count": 143,
   "id": "eb41b24f",
   "metadata": {},
   "outputs": [
    {
     "name": "stdout",
     "output_type": "stream",
     "text": [
      "================= confusion matrix ====================\n",
      "[[79 57]\n",
      " [12 43]]\n",
      "=======================================================\n",
      "정확도:0.6387434554973822, 정밀도:[0.86813187 0.43      ], 재현율:0.7818181818181819\n"
     ]
    }
   ],
   "source": [
    "# test_y, pred_y를 활용한 지표 적용\n",
    "confusion = confusion_matrix(test_y, pred_y)\n",
    "accuracy  = accuracy_score(test_y, pred_y)\n",
    "precision = precision_score(test_y, pred_y, average=None)\n",
    "recall    = recall_score(test_y, pred_y)\n",
    "\n",
    "# 지표를 통한 결과 확인\n",
    "print('================= confusion matrix ====================')\n",
    "print(confusion)\n",
    "print('=======================================================')\n",
    "print(f'정확도:{accuracy}, 정밀도:{precision}, 재현율:{recall}')"
   ]
  },
  {
   "cell_type": "code",
   "execution_count": 144,
   "id": "b11973fa",
   "metadata": {},
   "outputs": [
    {
     "name": "stdout",
     "output_type": "stream",
     "text": [
      "auc:0.6813502673796791\n"
     ]
    },
    {
     "data": {
      "image/png": "[encoded data removed]",
      "text/plain": [
       "<Figure size 432x288 with 1 Axes>"
      ]
     },
     "metadata": {
      "needs_background": "light"
     },
     "output_type": "display_data"
    }
   ],
   "source": [
    "# ROC curve 만들기\n",
    "fpr, tpr, thresholds = roc_curve(test_y, pred_y)\n",
    "auc = roc_auc_score(test_y, pred_y)\n",
    "\n",
    "# ROC curve 시각화\n",
    "plt.plot(fpr, tpr, linewidth=2)\n",
    "plt.plot([0, 1], [0, 1], 'k--') # dashed diagonal\n",
    "plt.xlabel('fpr')\n",
    "plt.ylabel('tpr')\n",
    "print(f'auc:{auc}')"
   ]
  },
  {
   "attachments": {},
   "cell_type": "markdown",
   "id": "5c233cff",
   "metadata": {},
   "source": [
    "## 다른 결과 4\n",
    "- X_sc.shape: (957, 23)\n",
    "\n",
    "- 데이터 비율: 7:2 \n",
    "    \n",
    "- train_x.shape, train_y.shape, test_x.shape, test_y.shape = ((670, 23), (670,), (191, 23), (191,))\n",
    "\n",
    "- PKFold의 split 개수: 5\n",
    "\n",
    "- XGBOOST"
   ]
  },
  {
   "cell_type": "markdown",
   "id": "4d9ba4be",
   "metadata": {},
   "source": [
    "## ① 환경구성 및 데이터 불러오기\n",
    "---"
   ]
  },
  {
   "cell_type": "code",
   "execution_count": 176,
   "id": "37f5f7fd",
   "metadata": {},
   "outputs": [],
   "source": [
    "import datetime\n",
    "import sys\n",
    "import os\n",
    "import re\n",
    "import io\n",
    "import json\n",
    "import numpy as np\n",
    "import pandas as pd\n",
    "import matplotlib.pyplot as plt\n",
    "import ta\n",
    "\n",
    "from sklearn.preprocessing import StandardScaler\n",
    "from sklearn.model_selection import GridSearchCV\n",
    "from sklearn.model_selection import KFold\n",
    "from sklearn.ensemble import BaggingClassifier\n",
    "from xgboost import XGBClassifier\n",
    "from sklearn.metrics import accuracy_score, precision_score, recall_score, confusion_matrix, f1_score, roc_auc_score, roc_curve\n",
    "\n",
    "sys.path.append('/aiffel/aiffel/time_series/fnguide/data/')\n",
    "from libs.mlutil.pkfold import PKFold"
   ]
  },
  {
   "cell_type": "code",
   "execution_count": 177,
   "id": "f737256c",
   "metadata": {},
   "outputs": [],
   "source": [
    "# 데이터 경로 설정 및 pickle 파일 불러오기\n",
    "DATA_PATH = '/aiffel/aiffel/time_series/fnguide/data/'\n",
    "data_file_name = os.path.join(DATA_PATH, 'sub_upbit_eth_min_feature_labels.pkl')"
   ]
  },
  {
   "cell_type": "code",
   "execution_count": 178,
   "id": "4be9b9ff",
   "metadata": {},
   "outputs": [],
   "source": [
    "df_data = pd.read_pickle(data_file_name)\n",
    "df_data['t_value'] = df_data['t_value'].apply(lambda x: x if x == 1 else 0)"
   ]
  },
  {
   "cell_type": "code",
   "execution_count": 179,
   "id": "c81ed6c4",
   "metadata": {},
   "outputs": [
    {
     "data": {
      "text/plain": [
       "1.0    481\n",
       "0.0    476\n",
       "Name: t_value, dtype: int64"
      ]
     },
     "execution_count": 179,
     "metadata": {},
     "output_type": "execute_result"
    }
   ],
   "source": [
    "# 여기서부터 모델에 적용하기 위한 데이터 정제화를 시작합니다.\n",
    "df_data['t_value'].value_counts()"
   ]
  },
  {
   "cell_type": "code",
   "execution_count": 180,
   "id": "b6115da0",
   "metadata": {},
   "outputs": [],
   "source": [
    "# 데이터셋 비율 나누기\n",
    "train_ratio, test_ratio = 0.7, 0.2\n",
    "n_train = int(np.round(len(df_data) * train_ratio))\n",
    "n_test = int(np.round(len(df_data) * test_ratio))\n",
    "\n",
    "X, y = df_data.iloc[:, 5:-1], df_data.iloc[:, -1]"
   ]
  },
  {
   "cell_type": "code",
   "execution_count": 181,
   "id": "01a24dd0",
   "metadata": {},
   "outputs": [],
   "source": [
    "# standardzation\n",
    "sc = StandardScaler()\n",
    "X_sc = sc.fit_transform(X)"
   ]
  },
  {
   "cell_type": "code",
   "execution_count": 182,
   "id": "fbbd55fe",
   "metadata": {},
   "outputs": [
    {
     "data": {
      "text/plain": [
       "(957, 23)"
      ]
     },
     "execution_count": 182,
     "metadata": {},
     "output_type": "execute_result"
    }
   ],
   "source": [
    "X_sc.shape"
   ]
  },
  {
   "cell_type": "code",
   "execution_count": 183,
   "id": "3ce76c13",
   "metadata": {},
   "outputs": [],
   "source": [
    "# 데이터셋 분리\n",
    "train_x, test_x, train_y, test_y = X_sc[:n_train, :], X_sc[-n_test:, :], y.iloc[:n_train], y.iloc[-n_test:]\n",
    "\n",
    "train_x = pd.DataFrame(train_x, index=train_y.index, columns=X.columns)\n",
    "train_y = pd.Series(train_y, index=train_y.index)\n",
    "test_x = pd.DataFrame(test_x, index=test_y.index, columns=X.columns)\n",
    "test_y = pd.Series(test_y, index=test_y.index)"
   ]
  },
  {
   "cell_type": "code",
   "execution_count": 165,
   "id": "358338d7",
   "metadata": {},
   "outputs": [
    {
     "data": {
      "text/plain": [
       "((670, 23), (670,), (191, 23), (191,))"
      ]
     },
     "execution_count": 165,
     "metadata": {},
     "output_type": "execute_result"
    }
   ],
   "source": [
    "train_x.shape, train_y.shape, test_x.shape, test_y.shape"
   ]
  },
  {
   "cell_type": "markdown",
   "id": "15a941a9",
   "metadata": {},
   "source": [
    "## ② Purged K-fold for Cross-Validation적용하기\n",
    "---"
   ]
  },
  {
   "cell_type": "code",
   "execution_count": 184,
   "id": "7459cb45",
   "metadata": {},
   "outputs": [],
   "source": [
    "n_cv = 5 \n",
    "t1 = pd.Series(train_y.index.values, index=train_y.index)\n",
    "\n",
    "# purged K-Fold \n",
    "cv = PKFold(n_cv, t1, 0)"
   ]
  },
  {
   "cell_type": "code",
   "execution_count": 185,
   "id": "8ebb3041",
   "metadata": {},
   "outputs": [
    {
     "data": {
      "text/plain": [
       "PKFold(n_splits=5, pct_embargo=0,\n",
       "    samples_info_sets=time\n",
       "2018-01-01 00:43:00   2018-01-01 00:43:00\n",
       "2018-01-01 00:44:00   2018-01-01 00:44:00\n",
       "2018-01-01 00:45:00   2018-01-01 00:45:00\n",
       "2018-01-01 00:46:00   2018-01-01 00:46:00\n",
       "2018-01-01 00:47:00   2018-01-01 00:47:00\n",
       "                              ...\n",
       "2018-01-01 11:48:00   201...0   2018-01-01 11:51:00\n",
       "2018-01-01 11:52:00   2018-01-01 11:52:00\n",
       "Length: 670, dtype: datetime64[ns])"
      ]
     },
     "execution_count": 185,
     "metadata": {},
     "output_type": "execute_result"
    }
   ],
   "source": [
    "cv"
   ]
  },
  {
   "cell_type": "code",
   "execution_count": 225,
   "id": "2bff2974",
   "metadata": {},
   "outputs": [],
   "source": [
    "# GridsearchCV에서 사용할 파라미터 설정합니다. 파라미터값을 바꿔보세요\n",
    "bc_params = {\n",
    "    'base_estimator__learning_rate': [0.1],\n",
    "    'base_estimator__n_estimators': [50],\n",
    "    'base_estimator__max_depth': [5],\n",
    "    'base_estimator__num_class': [2]\n",
    "}"
   ]
  },
  {
   "cell_type": "code",
   "execution_count": 226,
   "id": "72527053",
   "metadata": {},
   "outputs": [],
   "source": [
    "# XGBoost 사용\n",
    "rfc = XGBClassifier()"
   ]
  },
  {
   "cell_type": "code",
   "execution_count": 227,
   "id": "63bb6a38",
   "metadata": {},
   "outputs": [],
   "source": [
    "# Bagging 적용\n",
    "bag_xgb = BaggingClassifier(base_estimator=xgb_model)"
   ]
  },
  {
   "cell_type": "code",
   "execution_count": 228,
   "id": "7760fd6a",
   "metadata": {},
   "outputs": [],
   "source": [
    "# GridSearchCV 적용\n",
    "gs_xgb = GridSearchCV(bag_xgb, bc_params, cv=cv, n_jobs=-1)"
   ]
  },
  {
   "cell_type": "code",
   "execution_count": 229,
   "id": "666c222d",
   "metadata": {},
   "outputs": [
    {
     "name": "stderr",
     "output_type": "stream",
     "text": [
      "/opt/conda/lib/python3.9/site-packages/pkg_resources/__init__.py:116: PkgResourcesDeprecationWarning: 0.996-ko-0.9.2 is an invalid version and will not be supported in a future release\n",
      "  warnings.warn(\n",
      "/opt/conda/lib/python3.9/site-packages/xgboost/sklearn.py:1146: UserWarning: The use of label encoder in XGBClassifier is deprecated and will be removed in a future release. To remove this warning, do the following: 1) Pass option use_label_encoder=False when constructing XGBClassifier object; and 2) Encode your labels (y) as integers starting with 0, i.e. 0, 1, 2, ..., [num_class - 1].\n",
      "  warnings.warn(label_encoder_deprecation_msg, UserWarning)\n",
      "/opt/conda/lib/python3.9/site-packages/pkg_resources/__init__.py:116: PkgResourcesDeprecationWarning: 0.996-ko-0.9.2 is an invalid version and will not be supported in a future release\n",
      "  warnings.warn(\n",
      "/opt/conda/lib/python3.9/site-packages/xgboost/sklearn.py:1146: UserWarning: The use of label encoder in XGBClassifier is deprecated and will be removed in a future release. To remove this warning, do the following: 1) Pass option use_label_encoder=False when constructing XGBClassifier object; and 2) Encode your labels (y) as integers starting with 0, i.e. 0, 1, 2, ..., [num_class - 1].\n",
      "  warnings.warn(label_encoder_deprecation_msg, UserWarning)\n",
      "/opt/conda/lib/python3.9/site-packages/pkg_resources/__init__.py:116: PkgResourcesDeprecationWarning: 0.996-ko-0.9.2 is an invalid version and will not be supported in a future release\n",
      "  warnings.warn(\n",
      "/opt/conda/lib/python3.9/site-packages/xgboost/sklearn.py:1146: UserWarning: The use of label encoder in XGBClassifier is deprecated and will be removed in a future release. To remove this warning, do the following: 1) Pass option use_label_encoder=False when constructing XGBClassifier object; and 2) Encode your labels (y) as integers starting with 0, i.e. 0, 1, 2, ..., [num_class - 1].\n",
      "  warnings.warn(label_encoder_deprecation_msg, UserWarning)\n",
      "/opt/conda/lib/python3.9/site-packages/xgboost/sklearn.py:1146: UserWarning: The use of label encoder in XGBClassifier is deprecated and will be removed in a future release. To remove this warning, do the following: 1) Pass option use_label_encoder=False when constructing XGBClassifier object; and 2) Encode your labels (y) as integers starting with 0, i.e. 0, 1, 2, ..., [num_class - 1].\n",
      "  warnings.warn(label_encoder_deprecation_msg, UserWarning)\n",
      "/opt/conda/lib/python3.9/site-packages/xgboost/sklearn.py:1146: UserWarning: The use of label encoder in XGBClassifier is deprecated and will be removed in a future release. To remove this warning, do the following: 1) Pass option use_label_encoder=False when constructing XGBClassifier object; and 2) Encode your labels (y) as integers starting with 0, i.e. 0, 1, 2, ..., [num_class - 1].\n",
      "  warnings.warn(label_encoder_deprecation_msg, UserWarning)\n"
     ]
    },
    {
     "name": "stdout",
     "output_type": "stream",
     "text": [
      "[09:04:33] WARNING: ../src/learner.cc:1095: Starting in XGBoost 1.3.0, the default evaluation metric used with the objective 'multi:softprob' was changed from 'merror' to 'mlogloss'. Explicitly set eval_metric if you'd like to restore the old behavior.\n",
      "[09:04:33] WARNING: ../src/learner.cc:1095: Starting in XGBoost 1.3.0, the default evaluation metric used with the objective 'multi:softprob' was changed from 'merror' to 'mlogloss'. Explicitly set eval_metric if you'd like to restore the old behavior.\n",
      "[09:04:33] WARNING: ../src/learner.cc:1095: Starting in XGBoost 1.3.0, the default evaluation metric used with the objective 'multi:softprob' was changed from 'merror' to 'mlogloss'. Explicitly set eval_metric if you'd like to restore the old behavior.\n",
      "[09:04:34] WARNING: ../src/learner.cc:1095: Starting in XGBoost 1.3.0, the default evaluation metric used with the objective 'multi:softprob' was changed from 'merror' to 'mlogloss'. Explicitly set eval_metric if you'd like to restore the old behavior.\n",
      "[09:04:34] WARNING: ../src/learner.cc:1095: Starting in XGBoost 1.3.0, the default evaluation metric used with the objective 'multi:softprob' was changed from 'merror' to 'mlogloss'. Explicitly set eval_metric if you'd like to restore the old behavior.\n",
      "[09:04:34] WARNING: ../src/learner.cc:1095: Starting in XGBoost 1.3.0, the default evaluation metric used with the objective 'multi:softprob' was changed from 'merror' to 'mlogloss'. Explicitly set eval_metric if you'd like to restore the old behavior.\n",
      "[09:04:34] WARNING: ../src/learner.cc:1095: Starting in XGBoost 1.3.0, the default evaluation metric used with the objective 'multi:softprob' was changed from 'merror' to 'mlogloss'. Explicitly set eval_metric if you'd like to restore the old behavior.\n",
      "[09:04:35] WARNING: ../src/learner.cc:1095: Starting in XGBoost 1.3.0, the default evaluation metric used with the objective 'multi:softprob' was changed from 'merror' to 'mlogloss'. Explicitly set eval_metric if you'd like to restore the old behavior.\n",
      "[09:04:35] WARNING: ../src/learner.cc:1095: Starting in XGBoost 1.3.0, the default evaluation metric used with the objective 'multi:softprob' was changed from 'merror' to 'mlogloss'. Explicitly set eval_metric if you'd like to restore the old behavior.\n",
      "[09:04:35] WARNING: ../src/learner.cc:1095: Starting in XGBoost 1.3.0, the default evaluation metric used with the objective 'multi:softprob' was changed from 'merror' to 'mlogloss'. Explicitly set eval_metric if you'd like to restore the old behavior.\n"
     ]
    },
    {
     "data": {
      "text/plain": [
       "GridSearchCV(cv=PKFold(n_splits=5, pct_embargo=0,\n",
       "    samples_info_sets=time\n",
       "2018-01-01 00:43:00   2018-01-01 00:43:00\n",
       "2018-01-01 00:44:00   2018-01-01 00:44:00\n",
       "2018-01-01 00:45:00   2018-01-01 00:45:00\n",
       "2018-01-01 00:46:00   2018-01-01 00:46:00\n",
       "2018-01-01 00:47:00   2018-01-01 00:47:00\n",
       "                              ...\n",
       "2018-01-01 11:48:00   201...0   2018-01-01 11:51:00\n",
       "2018-01-01 11:52:00   2018-01-01 11:52:00\n",
       "Length: 670, dtype: d...\n",
       "                                                                      n_jobs=4,\n",
       "                                                                      num_parallel_tree=1,\n",
       "                                                                      objective='multi:softprob',\n",
       "                                                                      random_state=0,\n",
       "                                                                      reg_alpha=0,\n",
       "                                                                      reg_lambda=1,\n",
       "                                                                      scale_pos_weight=None,\n",
       "                                                                      subsample=1,\n",
       "                                                                      tree_method='exact',\n",
       "                                                                      validate_parameters=1,\n",
       "                                                                      verbosity=None)),\n",
       "             n_jobs=-1,\n",
       "             param_grid={'base_estimator__learning_rate': [0.1],\n",
       "                         'base_estimator__max_depth': [5],\n",
       "                         'base_estimator__n_estimators': [50],\n",
       "                         'base_estimator__num_class': [2]})"
      ]
     },
     "execution_count": 229,
     "metadata": {},
     "output_type": "execute_result"
    }
   ],
   "source": [
    "# fit\n",
    "gs_xgb.fit(train_x, train_y)"
   ]
  },
  {
   "cell_type": "code",
   "execution_count": 230,
   "id": "a9584234",
   "metadata": {},
   "outputs": [
    {
     "data": {
      "text/plain": [
       "BaggingClassifier(base_estimator=XGBClassifier(base_score=0.5, booster='gbtree',\n",
       "                                               colsample_bylevel=1,\n",
       "                                               colsample_bynode=1,\n",
       "                                               colsample_bytree=1, gamma=0,\n",
       "                                               gpu_id=-1,\n",
       "                                               importance_type='gain',\n",
       "                                               interaction_constraints='',\n",
       "                                               learning_rate=0.1,\n",
       "                                               max_delta_step=0, max_depth=5,\n",
       "                                               min_child_weight=1, missing=nan,\n",
       "                                               monotone_constraints='()',\n",
       "                                               n_estimators=50, n_jobs=4,\n",
       "                                               num_class=2, num_parallel_tree=1,\n",
       "                                               objective='multi:softprob',\n",
       "                                               random_state=0, reg_alpha=0,\n",
       "                                               reg_lambda=1,\n",
       "                                               scale_pos_weight=None,\n",
       "                                               subsample=1, tree_method='exact',\n",
       "                                               validate_parameters=1,\n",
       "                                               verbosity=None))"
      ]
     },
     "execution_count": 230,
     "metadata": {},
     "output_type": "execute_result"
    }
   ],
   "source": [
    "# best estimator \n",
    "gs_xgb_best = gs_xgb.best_estimator_\n",
    "gs_xgb_best"
   ]
  },
  {
   "cell_type": "code",
   "execution_count": 231,
   "id": "1c9b88c8",
   "metadata": {},
   "outputs": [
    {
     "name": "stdout",
     "output_type": "stream",
     "text": [
      "[09:05:56] WARNING: ../src/learner.cc:1095: Starting in XGBoost 1.3.0, the default evaluation metric used with the objective 'multi:softprob' was changed from 'merror' to 'mlogloss'. Explicitly set eval_metric if you'd like to restore the old behavior.\n",
      "[09:05:56] WARNING: ../src/learner.cc:1095: Starting in XGBoost 1.3.0, the default evaluation metric used with the objective 'multi:softprob' was changed from 'merror' to 'mlogloss'. Explicitly set eval_metric if you'd like to restore the old behavior.\n",
      "[09:05:57] WARNING: ../src/learner.cc:1095: Starting in XGBoost 1.3.0, the default evaluation metric used with the objective 'multi:softprob' was changed from 'merror' to 'mlogloss'. Explicitly set eval_metric if you'd like to restore the old behavior.\n",
      "[09:05:57] WARNING: ../src/learner.cc:1095: Starting in XGBoost 1.3.0, the default evaluation metric used with the objective 'multi:softprob' was changed from 'merror' to 'mlogloss'. Explicitly set eval_metric if you'd like to restore the old behavior.\n",
      "[09:05:57] WARNING: ../src/learner.cc:1095: Starting in XGBoost 1.3.0, the default evaluation metric used with the objective 'multi:softprob' was changed from 'merror' to 'mlogloss'. Explicitly set eval_metric if you'd like to restore the old behavior.\n",
      "[09:05:57] WARNING: ../src/learner.cc:1095: Starting in XGBoost 1.3.0, the default evaluation metric used with the objective 'multi:softprob' was changed from 'merror' to 'mlogloss'. Explicitly set eval_metric if you'd like to restore the old behavior.\n",
      "[09:05:58] WARNING: ../src/learner.cc:1095: Starting in XGBoost 1.3.0, the default evaluation metric used with the objective 'multi:softprob' was changed from 'merror' to 'mlogloss'. Explicitly set eval_metric if you'd like to restore the old behavior.\n",
      "[09:05:58] WARNING: ../src/learner.cc:1095: Starting in XGBoost 1.3.0, the default evaluation metric used with the objective 'multi:softprob' was changed from 'merror' to 'mlogloss'. Explicitly set eval_metric if you'd like to restore the old behavior.\n",
      "[09:05:58] WARNING: ../src/learner.cc:1095: Starting in XGBoost 1.3.0, the default evaluation metric used with the objective 'multi:softprob' was changed from 'merror' to 'mlogloss'. Explicitly set eval_metric if you'd like to restore the old behavior.\n",
      "[09:05:58] WARNING: ../src/learner.cc:1095: Starting in XGBoost 1.3.0, the default evaluation metric used with the objective 'multi:softprob' was changed from 'merror' to 'mlogloss'. Explicitly set eval_metric if you'd like to restore the old behavior.\n"
     ]
    },
    {
     "data": {
      "text/plain": [
       "BaggingClassifier(base_estimator=XGBClassifier(base_score=0.5, booster='gbtree',\n",
       "                                               colsample_bylevel=1,\n",
       "                                               colsample_bynode=1,\n",
       "                                               colsample_bytree=1, gamma=0,\n",
       "                                               gpu_id=-1,\n",
       "                                               importance_type='gain',\n",
       "                                               interaction_constraints='',\n",
       "                                               learning_rate=0.1,\n",
       "                                               max_delta_step=0, max_depth=5,\n",
       "                                               min_child_weight=1, missing=nan,\n",
       "                                               monotone_constraints='()',\n",
       "                                               n_estimators=50, n_jobs=4,\n",
       "                                               num_class=2, num_parallel_tree=1,\n",
       "                                               objective='multi:softprob',\n",
       "                                               random_state=0, reg_alpha=0,\n",
       "                                               reg_lambda=1,\n",
       "                                               scale_pos_weight=None,\n",
       "                                               subsample=1, tree_method='exact',\n",
       "                                               validate_parameters=1,\n",
       "                                               verbosity=None))"
      ]
     },
     "execution_count": 231,
     "metadata": {},
     "output_type": "execute_result"
    }
   ],
   "source": [
    "gs_xgb_best.fit(train_x, train_y)"
   ]
  },
  {
   "cell_type": "code",
   "execution_count": 232,
   "id": "9d0bf2c1",
   "metadata": {},
   "outputs": [],
   "source": [
    "# 예측값 확인\n",
    "pred_y = gs_xgb_best.predict(test_x)\n",
    "prob_y = gs_xgb_best.predict_proba(test_x)"
   ]
  },
  {
   "cell_type": "code",
   "execution_count": 233,
   "id": "d1bcb2ca",
   "metadata": {},
   "outputs": [
    {
     "name": "stdout",
     "output_type": "stream",
     "text": [
      "================= confusion matrix ====================\n",
      "[[64 72]\n",
      " [ 9 46]]\n",
      "=======================================================\n",
      "정확도:0.5759162303664922, 정밀도:[0.87671233 0.38983051], 재현율:0.8363636363636363\n"
     ]
    }
   ],
   "source": [
    "# test_y, pred_y를 활용한 지표 적용\n",
    "confusion = confusion_matrix(test_y, pred_y)\n",
    "accuracy  = accuracy_score(test_y, pred_y)\n",
    "precision = precision_score(test_y, pred_y, average=None)\n",
    "recall    = recall_score(test_y, pred_y)\n",
    "\n",
    "# 지표를 통한 결과 확인\n",
    "print('================= confusion matrix ====================')\n",
    "print(confusion)\n",
    "print('=======================================================')\n",
    "print(f'정확도:{accuracy}, 정밀도:{precision}, 재현율:{recall}')"
   ]
  },
  {
   "cell_type": "code",
   "execution_count": 234,
   "id": "6987b3ac",
   "metadata": {},
   "outputs": [
    {
     "name": "stdout",
     "output_type": "stream",
     "text": [
      "auc:0.653475935828877\n"
     ]
    },
    {
     "data": {
      "image/png": "[encoded data removed]",
      "text/plain": [
       "<Figure size 432x288 with 1 Axes>"
      ]
     },
     "metadata": {
      "needs_background": "light"
     },
     "output_type": "display_data"
    },
    {
     "name": "stdout",
     "output_type": "stream",
     "text": [
      "[08:56:32] WARNING: ../src/learner.cc:1095: Starting in XGBoost 1.3.0, the default evaluation metric used with the objective 'multi:softprob' was changed from 'merror' to 'mlogloss'. Explicitly set eval_metric if you'd like to restore the old behavior.\n",
      "[08:57:07] WARNING: ../src/learner.cc:1095: Starting in XGBoost 1.3.0, the default evaluation metric used with the objective 'multi:softprob' was changed from 'merror' to 'mlogloss'. Explicitly set eval_metric if you'd like to restore the old behavior.\n",
      "[08:57:46] WARNING: ../src/learner.cc:1095: Starting in XGBoost 1.3.0, the default evaluation metric used with the objective 'multi:softprob' was changed from 'merror' to 'mlogloss'. Explicitly set eval_metric if you'd like to restore the old behavior.\n",
      "[08:58:50] WARNING: ../src/learner.cc:1095: Starting in XGBoost 1.3.0, the default evaluation metric used with the objective 'multi:softprob' was changed from 'merror' to 'mlogloss'. Explicitly set eval_metric if you'd like to restore the old behavior.\n",
      "[08:59:18] WARNING: ../src/learner.cc:1095: Starting in XGBoost 1.3.0, the default evaluation metric used with the objective 'multi:softprob' was changed from 'merror' to 'mlogloss'. Explicitly set eval_metric if you'd like to restore the old behavior.\n",
      "[09:00:30] WARNING: ../src/learner.cc:1095: Starting in XGBoost 1.3.0, the default evaluation metric used with the objective 'multi:softprob' was changed from 'merror' to 'mlogloss'. Explicitly set eval_metric if you'd like to restore the old behavior.\n",
      "[09:01:11] WARNING: ../src/learner.cc:1095: Starting in XGBoost 1.3.0, the default evaluation metric used with the objective 'multi:softprob' was changed from 'merror' to 'mlogloss'. Explicitly set eval_metric if you'd like to restore the old behavior.\n",
      "[09:02:02] WARNING: ../src/learner.cc:1095: Starting in XGBoost 1.3.0, the default evaluation metric used with the objective 'multi:softprob' was changed from 'merror' to 'mlogloss'. Explicitly set eval_metric if you'd like to restore the old behavior.\n",
      "[09:02:43] WARNING: ../src/learner.cc:1095: Starting in XGBoost 1.3.0, the default evaluation metric used with the objective 'multi:softprob' was changed from 'merror' to 'mlogloss'. Explicitly set eval_metric if you'd like to restore the old behavior.\n",
      "[09:03:14] WARNING: ../src/learner.cc:1095: Starting in XGBoost 1.3.0, the default evaluation metric used with the objective 'multi:softprob' was changed from 'merror' to 'mlogloss'. Explicitly set eval_metric if you'd like to restore the old behavior.\n",
      "[08:56:31] WARNING: ../src/learner.cc:1095: Starting in XGBoost 1.3.0, the default evaluation metric used with the objective 'multi:softprob' was changed from 'merror' to 'mlogloss'. Explicitly set eval_metric if you'd like to restore the old behavior.\n",
      "[08:57:25] WARNING: ../src/learner.cc:1095: Starting in XGBoost 1.3.0, the default evaluation metric used with the objective 'multi:softprob' was changed from 'merror' to 'mlogloss'. Explicitly set eval_metric if you'd like to restore the old behavior.\n",
      "[08:57:39] WARNING: ../src/learner.cc:1095: Starting in XGBoost 1.3.0, the default evaluation metric used with the objective 'multi:softprob' was changed from 'merror' to 'mlogloss'. Explicitly set eval_metric if you'd like to restore the old behavior.\n",
      "[08:58:06] WARNING: ../src/learner.cc:1095: Starting in XGBoost 1.3.0, the default evaluation metric used with the objective 'multi:softprob' was changed from 'merror' to 'mlogloss'. Explicitly set eval_metric if you'd like to restore the old behavior.\n",
      "[08:59:27] WARNING: ../src/learner.cc:1095: Starting in XGBoost 1.3.0, the default evaluation metric used with the objective 'multi:softprob' was changed from 'merror' to 'mlogloss'. Explicitly set eval_metric if you'd like to restore the old behavior.\n",
      "[09:00:08] WARNING: ../src/learner.cc:1095: Starting in XGBoost 1.3.0, the default evaluation metric used with the objective 'multi:softprob' was changed from 'merror' to 'mlogloss'. Explicitly set eval_metric if you'd like to restore the old behavior.\n",
      "[09:00:20] WARNING: ../src/learner.cc:1095: Starting in XGBoost 1.3.0, the default evaluation metric used with the objective 'multi:softprob' was changed from 'merror' to 'mlogloss'. Explicitly set eval_metric if you'd like to restore the old behavior.\n",
      "[09:01:15] WARNING: ../src/learner.cc:1095: Starting in XGBoost 1.3.0, the default evaluation metric used with the objective 'multi:softprob' was changed from 'merror' to 'mlogloss'. Explicitly set eval_metric if you'd like to restore the old behavior.\n",
      "[09:02:18] WARNING: ../src/learner.cc:1095: Starting in XGBoost 1.3.0, the default evaluation metric used with the objective 'multi:softprob' was changed from 'merror' to 'mlogloss'. Explicitly set eval_metric if you'd like to restore the old behavior.\n",
      "[09:02:43] WARNING: ../src/learner.cc:1095: Starting in XGBoost 1.3.0, the default evaluation metric used with the objective 'multi:softprob' was changed from 'merror' to 'mlogloss'. Explicitly set eval_metric if you'd like to restore the old behavior.\n",
      "[09:03:19] WARNING: ../src/learner.cc:1095: Starting in XGBoost 1.3.0, the default evaluation metric used with the objective 'multi:softprob' was changed from 'merror' to 'mlogloss'. Explicitly set eval_metric if you'd like to restore the old behavior.\n",
      "[09:03:43] WARNING: ../src/learner.cc:1095: Starting in XGBoost 1.3.0, the default evaluation metric used with the objective 'multi:softprob' was changed from 'merror' to 'mlogloss'. Explicitly set eval_metric if you'd like to restore the old behavior.\n",
      "[09:04:03] WARNING: ../src/learner.cc:1095: Starting in XGBoost 1.3.0, the default evaluation metric used with the objective 'multi:softprob' was changed from 'merror' to 'mlogloss'. Explicitly set eval_metric if you'd like to restore the old behavior.\n",
      "[09:04:16] WARNING: ../src/learner.cc:1095: Starting in XGBoost 1.3.0, the default evaluation metric used with the objective 'multi:softprob' was changed from 'merror' to 'mlogloss'. Explicitly set eval_metric if you'd like to restore the old behavior.\n",
      "[09:04:18] WARNING: ../src/learner.cc:1095: Starting in XGBoost 1.3.0, the default evaluation metric used with the objective 'multi:softprob' was changed from 'merror' to 'mlogloss'. Explicitly set eval_metric if you'd like to restore the old behavior.\n",
      "[09:04:20] WARNING: ../src/learner.cc:1095: Starting in XGBoost 1.3.0, the default evaluation metric used with the objective 'multi:softprob' was changed from 'merror' to 'mlogloss'. Explicitly set eval_metric if you'd like to restore the old behavior.\n",
      "[09:04:23] WARNING: ../src/learner.cc:1095: Starting in XGBoost 1.3.0, the default evaluation metric used with the objective 'multi:softprob' was changed from 'merror' to 'mlogloss'. Explicitly set eval_metric if you'd like to restore the old behavior.\n",
      "[09:04:25] WARNING: ../src/learner.cc:1095: Starting in XGBoost 1.3.0, the default evaluation metric used with the objective 'multi:softprob' was changed from 'merror' to 'mlogloss'. Explicitly set eval_metric if you'd like to restore the old behavior.\n",
      "[09:04:28] WARNING: ../src/learner.cc:1095: Starting in XGBoost 1.3.0, the default evaluation metric used with the objective 'multi:softprob' was changed from 'merror' to 'mlogloss'. Explicitly set eval_metric if you'd like to restore the old behavior.\n",
      "[09:04:30] WARNING: ../src/learner.cc:1095: Starting in XGBoost 1.3.0, the default evaluation metric used with the objective 'multi:softprob' was changed from 'merror' to 'mlogloss'. Explicitly set eval_metric if you'd like to restore the old behavior.\n",
      "[08:56:31] WARNING: ../src/learner.cc:1095: Starting in XGBoost 1.3.0, the default evaluation metric used with the objective 'multi:softprob' was changed from 'merror' to 'mlogloss'. Explicitly set eval_metric if you'd like to restore the old behavior.\n",
      "[08:56:46] WARNING: ../src/learner.cc:1095: Starting in XGBoost 1.3.0, the default evaluation metric used with the objective 'multi:softprob' was changed from 'merror' to 'mlogloss'. Explicitly set eval_metric if you'd like to restore the old behavior.\n",
      "[08:56:57] WARNING: ../src/learner.cc:1095: Starting in XGBoost 1.3.0, the default evaluation metric used with the objective 'multi:softprob' was changed from 'merror' to 'mlogloss'. Explicitly set eval_metric if you'd like to restore the old behavior.\n",
      "[08:58:11] WARNING: ../src/learner.cc:1095: Starting in XGBoost 1.3.0, the default evaluation metric used with the objective 'multi:softprob' was changed from 'merror' to 'mlogloss'. Explicitly set eval_metric if you'd like to restore the old behavior.\n",
      "[08:59:03] WARNING: ../src/learner.cc:1095: Starting in XGBoost 1.3.0, the default evaluation metric used with the objective 'multi:softprob' was changed from 'merror' to 'mlogloss'. Explicitly set eval_metric if you'd like to restore the old behavior.\n",
      "[08:59:30] WARNING: ../src/learner.cc:1095: Starting in XGBoost 1.3.0, the default evaluation metric used with the objective 'multi:softprob' was changed from 'merror' to 'mlogloss'. Explicitly set eval_metric if you'd like to restore the old behavior.\n",
      "[09:00:51] WARNING: ../src/learner.cc:1095: Starting in XGBoost 1.3.0, the default evaluation metric used with the objective 'multi:softprob' was changed from 'merror' to 'mlogloss'. Explicitly set eval_metric if you'd like to restore the old behavior.\n",
      "[09:02:02] WARNING: ../src/learner.cc:1095: Starting in XGBoost 1.3.0, the default evaluation metric used with the objective 'multi:softprob' was changed from 'merror' to 'mlogloss'. Explicitly set eval_metric if you'd like to restore the old behavior.\n",
      "[09:02:39] WARNING: ../src/learner.cc:1095: Starting in XGBoost 1.3.0, the default evaluation metric used with the objective 'multi:softprob' was changed from 'merror' to 'mlogloss'. Explicitly set eval_metric if you'd like to restore the old behavior.\n",
      "[09:03:01] WARNING: ../src/learner.cc:1095: Starting in XGBoost 1.3.0, the default evaluation metric used with the objective 'multi:softprob' was changed from 'merror' to 'mlogloss'. Explicitly set eval_metric if you'd like to restore the old behavior.\n",
      "[09:03:27] WARNING: ../src/learner.cc:1095: Starting in XGBoost 1.3.0, the default evaluation metric used with the objective 'multi:softprob' was changed from 'merror' to 'mlogloss'. Explicitly set eval_metric if you'd like to restore the old behavior.\n",
      "[09:03:43] WARNING: ../src/learner.cc:1095: Starting in XGBoost 1.3.0, the default evaluation metric used with the objective 'multi:softprob' was changed from 'merror' to 'mlogloss'. Explicitly set eval_metric if you'd like to restore the old behavior.\n",
      "[09:04:12] WARNING: ../src/learner.cc:1095: Starting in XGBoost 1.3.0, the default evaluation metric used with the objective 'multi:softprob' was changed from 'merror' to 'mlogloss'. Explicitly set eval_metric if you'd like to restore the old behavior.\n",
      "[09:04:16] WARNING: ../src/learner.cc:1095: Starting in XGBoost 1.3.0, the default evaluation metric used with the objective 'multi:softprob' was changed from 'merror' to 'mlogloss'. Explicitly set eval_metric if you'd like to restore the old behavior.\n",
      "[09:04:18] WARNING: ../src/learner.cc:1095: Starting in XGBoost 1.3.0, the default evaluation metric used with the objective 'multi:softprob' was changed from 'merror' to 'mlogloss'. Explicitly set eval_metric if you'd like to restore the old behavior.\n",
      "[09:04:21] WARNING: ../src/learner.cc:1095: Starting in XGBoost 1.3.0, the default evaluation metric used with the objective 'multi:softprob' was changed from 'merror' to 'mlogloss'. Explicitly set eval_metric if you'd like to restore the old behavior.\n",
      "[09:04:25] WARNING: ../src/learner.cc:1095: Starting in XGBoost 1.3.0, the default evaluation metric used with the objective 'multi:softprob' was changed from 'merror' to 'mlogloss'. Explicitly set eval_metric if you'd like to restore the old behavior.\n",
      "[09:04:26] WARNING: ../src/learner.cc:1095: Starting in XGBoost 1.3.0, the default evaluation metric used with the objective 'multi:softprob' was changed from 'merror' to 'mlogloss'. Explicitly set eval_metric if you'd like to restore the old behavior.\n",
      "[09:04:29] WARNING: ../src/learner.cc:1095: Starting in XGBoost 1.3.0, the default evaluation metric used with the objective 'multi:softprob' was changed from 'merror' to 'mlogloss'. Explicitly set eval_metric if you'd like to restore the old behavior.\n",
      "[09:04:31] WARNING: ../src/learner.cc:1095: Starting in XGBoost 1.3.0, the default evaluation metric used with the objective 'multi:softprob' was changed from 'merror' to 'mlogloss'. Explicitly set eval_metric if you'd like to restore the old behavior.\n"
     ]
    }
   ],
   "source": [
    "# ROC curve 만들기\n",
    "fpr, tpr, thresholds = roc_curve(test_y, pred_y)\n",
    "auc = roc_auc_score(test_y, pred_y)\n",
    "\n",
    "# ROC curve 시각화\n",
    "plt.plot(fpr, tpr, linewidth=2)\n",
    "plt.plot([0, 1], [0, 1], 'k--') # dashed diagonal\n",
    "plt.xlabel('fpr')\n",
    "plt.ylabel('tpr')\n",
    "print(f'auc:{auc}')"
   ]
  },
  {
   "attachments": {
    "image-2.png": {
     "image/png": "[encoded data removed]"
    },
    "image-3.png": {
     "image/png": "[encoded data removed]"
    },
    "image-4.png": {
     "image/png": "[encoded data removed]"
    },
    "image-5.png": {
     "image/png": "[encoded data removed]"
    },
    "image.png": {
     "image/png": "[encoded data removed]"
    }
   },
   "cell_type": "markdown",
   "id": "f9e04bcc",
   "metadata": {},
   "source": [
    "- 기존 결과\n",
    "\n",
    "![image.png](attachment:image.png)\n",
    "    \n",
    "- 다른 결과 1\n",
    "\n",
    "![image-2.png](attachment:image-2.png)\n",
    "    \n",
    "- 다른 결과 2\n",
    "\n",
    "![image-3.png](attachment:image-3.png)\n",
    "\n",
    "- 다른 결과 3\n",
    "\n",
    "![image-4.png](attachment:image-4.png)\n",
    "\n",
    "- 다른 결과 4\n",
    "\n",
    "![image-5.png](attachment:image-5.png)"
   ]
  },
  {
   "cell_type": "markdown",
   "id": "30250f3f",
   "metadata": {},
   "source": [
    "# 회고\n",
    "전에 다른 모델보다 성능이 좋았던 xgboost의 grid search를 하고 싶었는데 너무 오래 걸려서 일단 하나의 파라미터로만 수행해보았다. \n",
    "\n",
    "xgboost를 사용해 보는 것이 늦게 떠올라서 아쉽다.\n",
    "\n",
    "다른 실험을 진행해보는 것보다 xgboost를 가장 먼저 돌려볼걸 하는 생각이 들었다.\n",
    "\n",
    "수행한 실험 중 최대 정확도는 0.686, 최대 정밀도는 0.896, 최대 재현율은 0.836으로 기존 결과보다는 조금씩 더 성능이 올라감을 확인했다."
   ]
  },
  {
   "cell_type": "code",
   "execution_count": null,
   "id": "5e6bbb16",
   "metadata": {},
   "outputs": [],
   "source": []
  }
 ],
 "metadata": {
  "kernelspec": {
   "display_name": "Python 3 (ipykernel)",
   "language": "python",
   "name": "python3"
  },
  "language_info": {
   "codemirror_mode": {
    "name": "ipython",
    "version": 3
   },
   "file_extension": ".py",
   "mimetype": "text/x-python",
   "name": "python",
   "nbconvert_exporter": "python",
   "pygments_lexer": "ipython3",
   "version": "3.9.7"
  }
 },
 "nbformat": 4,
 "nbformat_minor": 5
}
